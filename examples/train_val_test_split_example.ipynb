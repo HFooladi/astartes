{
 "cells": [
  {
   "cell_type": "markdown",
   "id": "9feb8e56",
   "metadata": {},
   "source": [
    "# Using `train_val_test_split` for Rigorous Modeling\n",
    "Thanks to [this](https://towardsdatascience.com/automatic-hyperparameter-tuning-with-sklearn-gridsearchcv-and-randomizedsearchcv-e94f53a518ee) article for providing some code used below in the automatic hyperparameter tuning.\n",
    "Load example data from sklearn"
   ]
  },
  {
   "cell_type": "code",
   "execution_count": 19,
   "id": "91321870",
   "metadata": {},
   "outputs": [],
   "source": [
    "from sklearn import datasets\n",
    "diabetes_X, diabetes_y = datasets.load_diabetes(return_X_y=True)"
   ]
  },
  {
   "cell_type": "markdown",
   "id": "e884e357",
   "metadata": {},
   "source": [
    "Split the data into training, testing, and validation."
   ]
  },
  {
   "cell_type": "code",
   "execution_count": 20,
   "id": "be4de1fa",
   "metadata": {},
   "outputs": [],
   "source": [
    "from astartes import train_val_test_split\n",
    "X_train, X_val, X_test, y_train, y_val, y_test = train_val_test_split(diabetes_X, diabetes_y)"
   ]
  },
  {
   "cell_type": "markdown",
   "id": "0c288eb8",
   "metadata": {},
   "source": [
    "Create a baseline model without tuning it for better performance on our data:"
   ]
  },
  {
   "cell_type": "code",
   "execution_count": 26,
   "id": "6b73362c",
   "metadata": {},
   "outputs": [
    {
     "data": {
      "text/plain": [
       "0.3515039651924021"
      ]
     },
     "execution_count": 26,
     "metadata": {},
     "output_type": "execute_result"
    }
   ],
   "source": [
    "from sklearn.ensemble import RandomForestRegressor\n",
    "rfr_baseline = RandomForestRegressor(n_estimators=5)\n",
    "rfr_baseline.fit(X_train, y_train)\n",
    "rfr_baseline.score(X_val, y_val)"
   ]
  },
  {
   "cell_type": "markdown",
   "id": "bb00d17a",
   "metadata": {},
   "source": [
    "Now try and find some better model parameters by tuning the model, in this case with an automatic tuner:"
   ]
  },
  {
   "cell_type": "code",
   "execution_count": 28,
   "id": "a3258b4e",
   "metadata": {},
   "outputs": [
    {
     "name": "stdout",
     "output_type": "stream",
     "text": [
      "Fitting 3 folds for each of 50 candidates, totalling 150 fits\n"
     ]
    },
    {
     "data": {
      "text/plain": [
       "0.5287961605324687"
      ]
     },
     "execution_count": 28,
     "metadata": {},
     "output_type": "execute_result"
    }
   ],
   "source": [
    "from sklearn.model_selection import RandomizedSearchCV\n",
    "import numpy as np\n",
    "\n",
    "rdr_tuned = RandomForestRegressor()\n",
    "\n",
    "n_estimators = np.arange(5, 50, step=5)\n",
    "max_depth = list(np.arange(2, 20, step=2)) + [None]\n",
    "\n",
    "param_grid = {\n",
    "    \"n_estimators\": n_estimators,\n",
    "    \"max_depth\": max_depth,\n",
    "}\n",
    "\n",
    "random_cv = RandomizedSearchCV(\n",
    "    rdr_tuned, param_grid, cv=3, n_iter=50, scoring=\"r2\", n_jobs=-1, verbose=1\n",
    ")\n",
    "random_cv.fit(X_train, y_train)\n",
    "random_cv.score(X_val, y_val)"
   ]
  },
  {
   "cell_type": "markdown",
   "id": "5fc16d62",
   "metadata": {},
   "source": [
    "Before celebrating our substantial improvement, let's make sure that the model performs well on the data it was not tuned to be good on:"
   ]
  },
  {
   "cell_type": "code",
   "execution_count": 29,
   "id": "1cad8cd4",
   "metadata": {},
   "outputs": [
    {
     "data": {
      "text/plain": [
       "0.47114420960992875"
      ]
     },
     "execution_count": 29,
     "metadata": {},
     "output_type": "execute_result"
    }
   ],
   "source": [
    "random_cv.score(X_test, y_test)"
   ]
  },
  {
   "cell_type": "markdown",
   "id": "6ff82d2e",
   "metadata": {},
   "source": [
    "The performance is lower on the out-of-sample data than it is on the tuning data, which is a sign that the results might not be generalizable. If future measurements were to be taken, we cannot be sure that they would work with this data. We should try to improve our model further or re-evaluate our modeling approach!"
   ]
  },
  {
   "cell_type": "code",
   "execution_count": null,
   "id": "27a9cde7",
   "metadata": {},
   "outputs": [],
   "source": []
  }
 ],
 "metadata": {
  "kernelspec": {
   "display_name": "Python 3 (ipykernel)",
   "language": "python",
   "name": "python3"
  },
  "language_info": {
   "codemirror_mode": {
    "name": "ipython",
    "version": 3
   },
   "file_extension": ".py",
   "mimetype": "text/x-python",
   "name": "python",
   "nbconvert_exporter": "python",
   "pygments_lexer": "ipython3",
   "version": "3.11.0"
  }
 },
 "nbformat": 4,
 "nbformat_minor": 5
}
