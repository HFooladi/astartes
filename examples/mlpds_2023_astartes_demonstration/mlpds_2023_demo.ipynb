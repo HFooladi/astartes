{
 "cells": [
  {
   "attachments": {},
   "cell_type": "markdown",
   "id": "9feb8e56",
   "metadata": {},
   "source": [
    "# Better Data Splits for Machine Learning with `astartes`\n",
    "\n",
    "acyclic molecules and boiling point trainset0\n",
    "https://brunl01.users.greyc.fr/CHEMISTRY/\n",
    "\n",
    "molplotly"
   ]
  },
  {
   "cell_type": "code",
   "execution_count": 1,
   "id": "91321870",
   "metadata": {},
   "outputs": [
    {
     "data": {
      "text/html": [
       "<div>\n",
       "<style scoped>\n",
       "    .dataframe tbody tr th:only-of-type {\n",
       "        vertical-align: middle;\n",
       "    }\n",
       "\n",
       "    .dataframe tbody tr th {\n",
       "        vertical-align: top;\n",
       "    }\n",
       "\n",
       "    .dataframe thead th {\n",
       "        text-align: right;\n",
       "    }\n",
       "</style>\n",
       "<table border=\"1\" class=\"dataframe\">\n",
       "  <thead>\n",
       "    <tr style=\"text-align: right;\">\n",
       "      <th></th>\n",
       "      <th>iupac_name</th>\n",
       "      <th>boiling_point</th>\n",
       "    </tr>\n",
       "  </thead>\n",
       "  <tbody>\n",
       "    <tr>\n",
       "      <th>0</th>\n",
       "      <td>ethylmethylether</td>\n",
       "      <td>10.80</td>\n",
       "    </tr>\n",
       "    <tr>\n",
       "      <th>1</th>\n",
       "      <td>diethylether</td>\n",
       "      <td>34.60</td>\n",
       "    </tr>\n",
       "    <tr>\n",
       "      <th>2</th>\n",
       "      <td>isopropylmethylether</td>\n",
       "      <td>32.00</td>\n",
       "    </tr>\n",
       "    <tr>\n",
       "      <th>3</th>\n",
       "      <td>butylmethylether</td>\n",
       "      <td>70.30</td>\n",
       "    </tr>\n",
       "    <tr>\n",
       "      <th>4</th>\n",
       "      <td>ethylpropylether</td>\n",
       "      <td>63.60</td>\n",
       "    </tr>\n",
       "    <tr>\n",
       "      <th>...</th>\n",
       "      <td>...</td>\n",
       "      <td>...</td>\n",
       "    </tr>\n",
       "    <tr>\n",
       "      <th>122</th>\n",
       "      <td>2,2,5,5-tetramethylhexane</td>\n",
       "      <td>137.46</td>\n",
       "    </tr>\n",
       "    <tr>\n",
       "      <th>123</th>\n",
       "      <td>2,2,5-trimethylheptane</td>\n",
       "      <td>148.00</td>\n",
       "    </tr>\n",
       "    <tr>\n",
       "      <th>124</th>\n",
       "      <td>2,5,5-trimethylheptane</td>\n",
       "      <td>152.80</td>\n",
       "    </tr>\n",
       "    <tr>\n",
       "      <th>125</th>\n",
       "      <td>2,2,6-trimethylheptane</td>\n",
       "      <td>148.20</td>\n",
       "    </tr>\n",
       "    <tr>\n",
       "      <th>126</th>\n",
       "      <td>2,2-dimethyloctane</td>\n",
       "      <td>155.00</td>\n",
       "    </tr>\n",
       "  </tbody>\n",
       "</table>\n",
       "<p>127 rows × 2 columns</p>\n",
       "</div>"
      ],
      "text/plain": [
       "                    iupac_name  boiling_point\n",
       "0             ethylmethylether          10.80\n",
       "1                 diethylether          34.60\n",
       "2         isopropylmethylether          32.00\n",
       "3             butylmethylether          70.30\n",
       "4             ethylpropylether          63.60\n",
       "..                         ...            ...\n",
       "122  2,2,5,5-tetramethylhexane         137.46\n",
       "123     2,2,5-trimethylheptane         148.00\n",
       "124     2,5,5-trimethylheptane         152.80\n",
       "125     2,2,6-trimethylheptane         148.20\n",
       "126         2,2-dimethyloctane         155.00\n",
       "\n",
       "[127 rows x 2 columns]"
      ]
     },
     "execution_count": 1,
     "metadata": {},
     "output_type": "execute_result"
    }
   ],
   "source": [
    "import pandas as pd\n",
    "\n",
    "with open(\"iupac_and_boiling.csv\", \"r\") as f:\n",
    "    data = pd.read_csv(f, sep=\"   \", engine=\"python\")\n",
    "data\n"
   ]
  },
  {
   "attachments": {},
   "cell_type": "markdown",
   "id": "dfd196dc",
   "metadata": {},
   "source": [
    "use py2opsin to convert the IUPAC names into smiles strings"
   ]
  },
  {
   "cell_type": "code",
   "execution_count": 2,
   "id": "82a58e02",
   "metadata": {},
   "outputs": [],
   "source": [
    "from py2opsin import py2opsin\n",
    "\n",
    "data[\"smiles\"] = py2opsin(data[\"iupac_name\"])\n"
   ]
  },
  {
   "cell_type": "code",
   "execution_count": 3,
   "id": "215c964e",
   "metadata": {},
   "outputs": [
    {
     "name": "stderr",
     "output_type": "stream",
     "text": [
      "/home/jackson/astartes/astartes/astartes/main.py:357: ImperfectSplittingWarning: Actual train/test split differs from requested size. Requested validation size of 0.10, got 0.11. Requested test size of 0.10, got 0.11. \n",
      "  warn(\n"
     ]
    }
   ],
   "source": [
    "from astartes.molecules import train_val_test_split_molecules\n",
    "\n",
    "import numpy as np\n",
    "\n",
    "tts_args = dict(\n",
    "    train_size=0.8,\n",
    "    test_size=0.1,\n",
    "    val_size=0.1,\n",
    "    return_indices=True,\n",
    "    fingerprint='maccs_keys',\n",
    ")\n",
    "\n",
    "(\n",
    "    molecules_train,\n",
    "    molecule_val,\n",
    "    molecules_test,\n",
    "    idxs_train,\n",
    "    idxs_val,\n",
    "    idxs_test,\n",
    ") = train_val_test_split_molecules(\n",
    "    data[\"smiles\"].to_numpy(),\n",
    "    **tts_args,\n",
    ")\n"
   ]
  },
  {
   "cell_type": "code",
   "execution_count": 4,
   "id": "a4a340fa",
   "metadata": {},
   "outputs": [],
   "source": [
    "from sklearn.decomposition import PCA\n",
    "\n",
    "\n",
    "all_indxs = np.hstack(\n",
    "    (\n",
    "        idxs_train,\n",
    "        idxs_val,\n",
    "        idxs_test,\n",
    "    )\n",
    ")\n",
    "\n",
    "pca = PCA(\n",
    "    n_components=3,\n",
    "    random_state=42,\n",
    ")\n",
    "embedding = pca.fit_transform(\n",
    "    np.vstack(\n",
    "        (\n",
    "            molecules_train,\n",
    "            molecule_val,\n",
    "            molecules_test,\n",
    "        )\n",
    "    ),\n",
    "    y=data[\"boiling_point\"].to_numpy()[all_indxs],\n",
    ")\n",
    "embedding_df = pd.DataFrame(embedding, columns=[\"PC1\", \"PC2\", \"PC3\"])\n"
   ]
  },
  {
   "attachments": {},
   "cell_type": "markdown",
   "id": "5818321d",
   "metadata": {},
   "source": [
    "Now that we have the data ready to go, let's plot it in 3D and see what it looks like.\n",
    "To do so, we will use [`plotly`](https://plotly.com/python-api-reference/).\n",
    "First let's write a nice wrapper function that will take in our data points and give back a nice 3D scatter plot that we can rotate and zoom in on.\n",
    "If you're curious, go ahead and read through the code below - otherwise just remember that we have a function `scatter3d` that makes a nice looking 3D scatter plot."
   ]
  },
  {
   "cell_type": "code",
   "execution_count": 5,
   "id": "70aa663e",
   "metadata": {},
   "outputs": [],
   "source": [
    "import plotly.express as px\n",
    "import molplotly\n",
    "import warnings\n",
    "\n",
    "\n",
    "def scatter3d(idxs_train, idxs_val, idxs_test, plot_port):\n",
    "    split_membership = np.empty(len(data), dtype=object)\n",
    "    split_membership[idxs_val] = \"val\"\n",
    "    split_membership[idxs_train] = \"train\"\n",
    "    split_membership[idxs_test] = \"test\"\n",
    "    all_indxs = np.hstack(\n",
    "        (\n",
    "            idxs_train,\n",
    "            idxs_val,\n",
    "            idxs_test,\n",
    "        )\n",
    "    )\n",
    "    split_df = pd.DataFrame.from_dict(\n",
    "        {\n",
    "            \"PC1\": embedding_df[\"PC1\"].to_numpy()[all_indxs],\n",
    "            \"PC2\": embedding_df[\"PC2\"].to_numpy()[all_indxs],\n",
    "            \"PC3\": embedding_df[\"PC3\"].to_numpy()[all_indxs],\n",
    "            \"SMILES\": data[\"smiles\"].to_numpy()[all_indxs],\n",
    "            \"Boiling Point (°C)\": data[\"boiling_point\"].to_numpy()[all_indxs],\n",
    "            \"split\": split_membership,\n",
    "            \"iupac_name\": data[\"iupac_name\"].to_numpy()[all_indxs],\n",
    "        }\n",
    "    )\n",
    "    fig = px.scatter_3d(\n",
    "        data_frame=split_df,\n",
    "        x=\"PC1\",\n",
    "        y=\"PC2\",\n",
    "        z=\"PC3\",\n",
    "        opacity=0.8,\n",
    "        color=\"split\",\n",
    "        width=1000,\n",
    "        height=1000,\n",
    "    )\n",
    "    fig.update_traces(\n",
    "        marker=dict(size=4),\n",
    "        selector=dict(mode=\"markers\"),\n",
    "        hovertemplate=None,  # moltplotly break without this\n",
    "    )\n",
    "    axis_args = dict(\n",
    "        backgroundcolor=\"rgba(0, 0, 0,0)\",\n",
    "        gridcolor=\"grey\",\n",
    "        showbackground=True,\n",
    "        zerolinecolor=\"grey\",\n",
    "        showticklabels=True,\n",
    "    )\n",
    "    fig.update_layout(\n",
    "        dict(\n",
    "            plot_bgcolor=\"rgba(0, 0, 0, 0)\",\n",
    "            paper_bgcolor=\"rgba(0, 0, 0, 0)\",\n",
    "        ),\n",
    "        scene=dict(\n",
    "            xaxis=axis_args,\n",
    "            yaxis=axis_args,\n",
    "            zaxis=axis_args,\n",
    "            xaxis_title=\"PC1\",\n",
    "            yaxis_title=\"PC2\",\n",
    "            zaxis_title=\"PC3\",\n",
    "        ),\n",
    "        legend=dict(\n",
    "            orientation=\"h\",\n",
    "            yanchor=\"bottom\",\n",
    "            y=1.02,\n",
    "            xanchor=\"center\",\n",
    "            x=0.5,\n",
    "        ),\n",
    "    )\n",
    "    consistent_colors = {\"train\": \"grey\", \"val\": \"red\", \"test\": \"blue\"}\n",
    "    for i, d in enumerate(fig.data):\n",
    "        fig.data[i].marker.color = consistent_colors[fig.data[i].name]\n",
    "    with warnings.catch_warnings():\n",
    "        warnings.simplefilter(\"ignore\", category=FutureWarning)\n",
    "        app = molplotly.add_molecules(\n",
    "            fig=fig,\n",
    "            df=split_df,\n",
    "            show_coords=False,\n",
    "            color_col=\"split\",\n",
    "            caption_cols=[\"Boiling Point (°C)\"],\n",
    "            title_col=\"iupac_name\",\n",
    "        )\n",
    "    app.run_server(mode=\"inline\", port=plot_port, height=1000, width=1000)"
   ]
  },
  {
   "cell_type": "code",
   "execution_count": 6,
   "id": "245cb1d4",
   "metadata": {},
   "outputs": [
    {
     "name": "stdout",
     "output_type": "stream",
     "text": [
      "Dash is running on http://127.0.0.1:8700/\n",
      "\n"
     ]
    },
    {
     "data": {
      "text/html": [
       "\n",
       "        <iframe\n",
       "            width=\"1000\"\n",
       "            height=\"1000\"\n",
       "            src=\"http://127.0.0.1:8700/\"\n",
       "            frameborder=\"0\"\n",
       "            allowfullscreen\n",
       "            \n",
       "        ></iframe>\n",
       "        "
      ],
      "text/plain": [
       "<IPython.lib.display.IFrame at 0x7fa91c1e0550>"
      ]
     },
     "metadata": {},
     "output_type": "display_data"
    }
   ],
   "source": [
    "scatter3d(idxs_train, idxs_val, idxs_test, 8700)\n"
   ]
  },
  {
   "attachments": {},
   "cell_type": "markdown",
   "id": "4c8fa0ea",
   "metadata": {},
   "source": [
    "This embedding clusters the data into heavy alkanes with quaternary carbons, heavy alkanes with sub-quaternary carbons, light linear alkanes, and gases.\n",
    "\n",
    "Dataset partitioning is done with the entire fingerprint, this project is just for our understanding."
   ]
  },
  {
   "cell_type": "code",
   "execution_count": 7,
   "id": "1cba5218",
   "metadata": {},
   "outputs": [
    {
     "name": "stdout",
     "output_type": "stream",
     "text": [
      "Dash is running on http://127.0.0.1:8701/\n",
      "\n"
     ]
    },
    {
     "name": "stderr",
     "output_type": "stream",
     "text": [
      "/home/jackson/astartes/astartes/astartes/main.py:357: ImperfectSplittingWarning:\n",
      "\n",
      "Actual train/test split differs from requested size. Requested validation size of 0.10, got 0.11. Requested test size of 0.10, got 0.11. \n",
      "\n"
     ]
    },
    {
     "data": {
      "text/html": [
       "\n",
       "        <iframe\n",
       "            width=\"1000\"\n",
       "            height=\"1000\"\n",
       "            src=\"http://127.0.0.1:8701/\"\n",
       "            frameborder=\"0\"\n",
       "            allowfullscreen\n",
       "            \n",
       "        ></iframe>\n",
       "        "
      ],
      "text/plain": [
       "<IPython.lib.display.IFrame at 0x7fa91b8f6610>"
      ]
     },
     "metadata": {},
     "output_type": "display_data"
    }
   ],
   "source": [
    "from astartes import train_val_test_split\n",
    "embedding_split_args = dict(\n",
    "    train_size=0.8,\n",
    "    test_size=0.1,\n",
    "    val_size=0.1,\n",
    "    return_indices=True,\n",
    ")\n",
    "\n",
    "(\n",
    "    _,\n",
    "    _,\n",
    "    _,\n",
    "    idxs_train,\n",
    "    idxs_val,\n",
    "    idxs_test,\n",
    ") = train_val_test_split(\n",
    "    embedding,\n",
    "    sampler=\"kennard_stone\",\n",
    "    hopts=dict(\n",
    "        metric=\"euclidean\",\n",
    "    ),\n",
    "    **embedding_split_args,\n",
    ")\n",
    "scatter3d(idxs_train, idxs_val, idxs_test, 8701)"
   ]
  },
  {
   "cell_type": "code",
   "execution_count": 8,
   "id": "9606b707",
   "metadata": {},
   "outputs": [
    {
     "name": "stdout",
     "output_type": "stream",
     "text": [
      "Dash is running on http://127.0.0.1:8702/\n",
      "\n"
     ]
    },
    {
     "name": "stderr",
     "output_type": "stream",
     "text": [
      "/home/jackson/astartes/astartes/astartes/main.py:357: ImperfectSplittingWarning:\n",
      "\n",
      "Actual train/test split differs from requested size. Requested validation size of 0.10, got 0.11. Requested test size of 0.10, got 0.11. \n",
      "\n"
     ]
    },
    {
     "data": {
      "text/html": [
       "\n",
       "        <iframe\n",
       "            width=\"1000\"\n",
       "            height=\"1000\"\n",
       "            src=\"http://127.0.0.1:8702/\"\n",
       "            frameborder=\"0\"\n",
       "            allowfullscreen\n",
       "            \n",
       "        ></iframe>\n",
       "        "
      ],
      "text/plain": [
       "<IPython.lib.display.IFrame at 0x7fa91b94a690>"
      ]
     },
     "metadata": {},
     "output_type": "display_data"
    }
   ],
   "source": [
    "(\n",
    "    _,\n",
    "    _,\n",
    "    _,\n",
    "    _,\n",
    "    _,\n",
    "    _,\n",
    "    idxs_train,\n",
    "    idxs_val,\n",
    "    idxs_test,\n",
    ") = train_val_test_split(\n",
    "    embedding,\n",
    "    data[\"boiling_point\"].to_numpy(),\n",
    "    sampler=\"spxy\",\n",
    "    hopts=dict(\n",
    "        metric=\"euclidean\",\n",
    "    ),\n",
    "    **embedding_split_args,\n",
    ")\n",
    "scatter3d(idxs_train, idxs_val, idxs_test, 8702)"
   ]
  },
  {
   "cell_type": "code",
   "execution_count": 11,
   "id": "47fd6e7f",
   "metadata": {},
   "outputs": [
    {
     "name": "stderr",
     "output_type": "stream",
     "text": [
      "/home/jackson/astartes/astartes/astartes/main.py:357: ImperfectSplittingWarning:\n",
      "\n",
      "Actual train/test split differs from requested size. Requested train size of 0.80, got 0.82. Requested validation size of 0.10, got 0.09. Requested test size of 0.10, got 0.09. \n",
      "\n"
     ]
    },
    {
     "name": "stdout",
     "output_type": "stream",
     "text": [
      "Dash is running on http://127.0.0.1:8703/\n",
      "\n"
     ]
    },
    {
     "data": {
      "text/html": [
       "\n",
       "        <iframe\n",
       "            width=\"1000\"\n",
       "            height=\"1000\"\n",
       "            src=\"http://127.0.0.1:8703/\"\n",
       "            frameborder=\"0\"\n",
       "            allowfullscreen\n",
       "            \n",
       "        ></iframe>\n",
       "        "
      ],
      "text/plain": [
       "<IPython.lib.display.IFrame at 0x7fa918666310>"
      ]
     },
     "metadata": {},
     "output_type": "display_data"
    }
   ],
   "source": [
    "(\n",
    "    _,\n",
    "    _,\n",
    "    _,\n",
    "    clsuters_train,\n",
    "    clusters_val,\n",
    "    clusters_test,\n",
    "    idxs_train,\n",
    "    idxs_val,\n",
    "    idxs_test,\n",
    ") = train_val_test_split(\n",
    "    embedding,\n",
    "    sampler=\"sphere_exclusion\",\n",
    "    hopts=dict(\n",
    "        # n_clusters=15,\n",
    "        metric=\"euclidean\",\n",
    "        distance_cutoff=0.1,\n",
    "    ),\n",
    "    **embedding_split_args,\n",
    ")\n",
    "scatter3d(idxs_train, idxs_val, idxs_test, 8703)"
   ]
  }
 ],
 "metadata": {
  "kernelspec": {
   "display_name": "Python 3 (ipykernel)",
   "language": "python",
   "name": "python3"
  },
  "language_info": {
   "codemirror_mode": {
    "name": "ipython",
    "version": 3
   },
   "file_extension": ".py",
   "mimetype": "text/x-python",
   "name": "python",
   "nbconvert_exporter": "python",
   "pygments_lexer": "ipython3",
   "version": "3.8.11"
  }
 },
 "nbformat": 4,
 "nbformat_minor": 5
}
