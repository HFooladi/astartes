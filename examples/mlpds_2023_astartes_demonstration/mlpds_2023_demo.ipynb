{
 "cells": [
  {
   "attachments": {},
   "cell_type": "markdown",
   "id": "9feb8e56",
   "metadata": {},
   "source": [
    "# Better Data Splits for Machine Learning with `astartes`\n",
    "\n",
    "We use a downsampled version of the Alkane Boiling Point dataset found at this URL: https://brunl01.users.greyc.fr/CHEMISTRY/\n",
    "\n",
    "Some of the constitutional isomers have been removed for simplicity in plotting."
   ]
  },
  {
   "attachments": {},
   "cell_type": "markdown",
   "id": "cc6fa660",
   "metadata": {},
   "source": [
    "Start by loading the data using pandas."
   ]
  },
  {
   "cell_type": "code",
   "execution_count": 1,
   "id": "91321870",
   "metadata": {},
   "outputs": [
    {
     "data": {
      "text/html": [
       "<div>\n",
       "<style scoped>\n",
       "    .dataframe tbody tr th:only-of-type {\n",
       "        vertical-align: middle;\n",
       "    }\n",
       "\n",
       "    .dataframe tbody tr th {\n",
       "        vertical-align: top;\n",
       "    }\n",
       "\n",
       "    .dataframe thead th {\n",
       "        text-align: right;\n",
       "    }\n",
       "</style>\n",
       "<table border=\"1\" class=\"dataframe\">\n",
       "  <thead>\n",
       "    <tr style=\"text-align: right;\">\n",
       "      <th></th>\n",
       "      <th>idx</th>\n",
       "      <th>filename</th>\n",
       "      <th>boiling_point</th>\n",
       "      <th>iupac_name</th>\n",
       "    </tr>\n",
       "  </thead>\n",
       "  <tbody>\n",
       "    <tr>\n",
       "      <th>0</th>\n",
       "      <td>1</td>\n",
       "      <td>molecule001.ct</td>\n",
       "      <td>-164.00</td>\n",
       "      <td>methane</td>\n",
       "    </tr>\n",
       "    <tr>\n",
       "      <th>1</th>\n",
       "      <td>2</td>\n",
       "      <td>molecule002.ct</td>\n",
       "      <td>-88.60</td>\n",
       "      <td>ethane</td>\n",
       "    </tr>\n",
       "    <tr>\n",
       "      <th>2</th>\n",
       "      <td>3</td>\n",
       "      <td>molecule003.ct</td>\n",
       "      <td>-42.10</td>\n",
       "      <td>propane</td>\n",
       "    </tr>\n",
       "    <tr>\n",
       "      <th>3</th>\n",
       "      <td>4</td>\n",
       "      <td>molecule004.ct</td>\n",
       "      <td>-11.70</td>\n",
       "      <td>2-methylpropane</td>\n",
       "    </tr>\n",
       "    <tr>\n",
       "      <th>4</th>\n",
       "      <td>5</td>\n",
       "      <td>molecule005.ct</td>\n",
       "      <td>-0.50</td>\n",
       "      <td>butane</td>\n",
       "    </tr>\n",
       "    <tr>\n",
       "      <th>5</th>\n",
       "      <td>6</td>\n",
       "      <td>molecule006.ct</td>\n",
       "      <td>9.50</td>\n",
       "      <td>2,2-dimethylpropane</td>\n",
       "    </tr>\n",
       "    <tr>\n",
       "      <th>6</th>\n",
       "      <td>7</td>\n",
       "      <td>molecule007.ct</td>\n",
       "      <td>27.80</td>\n",
       "      <td>2-methylbutane</td>\n",
       "    </tr>\n",
       "    <tr>\n",
       "      <th>7</th>\n",
       "      <td>8</td>\n",
       "      <td>molecule008.ct</td>\n",
       "      <td>36.10</td>\n",
       "      <td>pentane</td>\n",
       "    </tr>\n",
       "    <tr>\n",
       "      <th>8</th>\n",
       "      <td>9</td>\n",
       "      <td>molecule009.ct</td>\n",
       "      <td>49.70</td>\n",
       "      <td>2,2-dimethylbutane</td>\n",
       "    </tr>\n",
       "    <tr>\n",
       "      <th>9</th>\n",
       "      <td>10</td>\n",
       "      <td>molecule010.ct</td>\n",
       "      <td>58.00</td>\n",
       "      <td>2,3-dimethylbutane</td>\n",
       "    </tr>\n",
       "    <tr>\n",
       "      <th>10</th>\n",
       "      <td>11</td>\n",
       "      <td>molecule011.ct</td>\n",
       "      <td>60.30</td>\n",
       "      <td>2-methylpentane</td>\n",
       "    </tr>\n",
       "    <tr>\n",
       "      <th>11</th>\n",
       "      <td>13</td>\n",
       "      <td>molecule013.ct</td>\n",
       "      <td>69.00</td>\n",
       "      <td>hexane</td>\n",
       "    </tr>\n",
       "    <tr>\n",
       "      <th>12</th>\n",
       "      <td>14</td>\n",
       "      <td>molecule014.ct</td>\n",
       "      <td>80.90</td>\n",
       "      <td>2,2,3-trimethylbutane</td>\n",
       "    </tr>\n",
       "    <tr>\n",
       "      <th>13</th>\n",
       "      <td>15</td>\n",
       "      <td>molecule015.ct</td>\n",
       "      <td>79.20</td>\n",
       "      <td>2,2-dimethylpentane</td>\n",
       "    </tr>\n",
       "    <tr>\n",
       "      <th>14</th>\n",
       "      <td>19</td>\n",
       "      <td>molecule019.ct</td>\n",
       "      <td>90.00</td>\n",
       "      <td>2-methylhexane</td>\n",
       "    </tr>\n",
       "    <tr>\n",
       "      <th>15</th>\n",
       "      <td>20</td>\n",
       "      <td>molecule020.ct</td>\n",
       "      <td>92.00</td>\n",
       "      <td>3-methylhexane</td>\n",
       "    </tr>\n",
       "    <tr>\n",
       "      <th>16</th>\n",
       "      <td>21</td>\n",
       "      <td>molecule021.ct</td>\n",
       "      <td>93.50</td>\n",
       "      <td>3-ethylpentane</td>\n",
       "    </tr>\n",
       "    <tr>\n",
       "      <th>17</th>\n",
       "      <td>22</td>\n",
       "      <td>molecule022.ct</td>\n",
       "      <td>98.40</td>\n",
       "      <td>heptane</td>\n",
       "    </tr>\n",
       "    <tr>\n",
       "      <th>18</th>\n",
       "      <td>23</td>\n",
       "      <td>molecule023.ct</td>\n",
       "      <td>106.50</td>\n",
       "      <td>2,2,3,3-tetramethylbutane</td>\n",
       "    </tr>\n",
       "    <tr>\n",
       "      <th>19</th>\n",
       "      <td>24</td>\n",
       "      <td>molecule024.ct</td>\n",
       "      <td>110.00</td>\n",
       "      <td>2,2,3-trimethylpentane</td>\n",
       "    </tr>\n",
       "    <tr>\n",
       "      <th>20</th>\n",
       "      <td>31</td>\n",
       "      <td>molecule031.ct</td>\n",
       "      <td>115.60</td>\n",
       "      <td>2,3-dimethylhexane</td>\n",
       "    </tr>\n",
       "    <tr>\n",
       "      <th>21</th>\n",
       "      <td>36</td>\n",
       "      <td>molecule036.ct</td>\n",
       "      <td>117.60</td>\n",
       "      <td>2-methylheptane</td>\n",
       "    </tr>\n",
       "    <tr>\n",
       "      <th>22</th>\n",
       "      <td>39</td>\n",
       "      <td>molecule039.ct</td>\n",
       "      <td>118.50</td>\n",
       "      <td>3-ethylhexane</td>\n",
       "    </tr>\n",
       "    <tr>\n",
       "      <th>23</th>\n",
       "      <td>40</td>\n",
       "      <td>molecule040.ct</td>\n",
       "      <td>125.70</td>\n",
       "      <td>octane</td>\n",
       "    </tr>\n",
       "    <tr>\n",
       "      <th>24</th>\n",
       "      <td>41</td>\n",
       "      <td>molecule041.ct</td>\n",
       "      <td>140.27</td>\n",
       "      <td>2,2,3,3-tetramethylpentane</td>\n",
       "    </tr>\n",
       "    <tr>\n",
       "      <th>25</th>\n",
       "      <td>43</td>\n",
       "      <td>molecule043.ct</td>\n",
       "      <td>131.70</td>\n",
       "      <td>2,2,3-trimethylhexane</td>\n",
       "    </tr>\n",
       "    <tr>\n",
       "      <th>26</th>\n",
       "      <td>48</td>\n",
       "      <td>molecule048.ct</td>\n",
       "      <td>141.60</td>\n",
       "      <td>2,3-dimethyl-3-ethylpentane</td>\n",
       "    </tr>\n",
       "    <tr>\n",
       "      <th>27</th>\n",
       "      <td>56</td>\n",
       "      <td>molecule056.ct</td>\n",
       "      <td>140.60</td>\n",
       "      <td>3-ethyl-3-methylhexane</td>\n",
       "    </tr>\n",
       "    <tr>\n",
       "      <th>28</th>\n",
       "      <td>57</td>\n",
       "      <td>molecule057.ct</td>\n",
       "      <td>146.20</td>\n",
       "      <td>3,3-diethylpentane</td>\n",
       "    </tr>\n",
       "    <tr>\n",
       "      <th>29</th>\n",
       "      <td>59</td>\n",
       "      <td>molecule059.ct</td>\n",
       "      <td>136.73</td>\n",
       "      <td>2,4-dimethyl-3-ethylpentane</td>\n",
       "    </tr>\n",
       "    <tr>\n",
       "      <th>30</th>\n",
       "      <td>72</td>\n",
       "      <td>molecule072.ct</td>\n",
       "      <td>142.40</td>\n",
       "      <td>4-methyloctane</td>\n",
       "    </tr>\n",
       "    <tr>\n",
       "      <th>31</th>\n",
       "      <td>73</td>\n",
       "      <td>molecule073.ct</td>\n",
       "      <td>143.00</td>\n",
       "      <td>3-ethylheptane</td>\n",
       "    </tr>\n",
       "    <tr>\n",
       "      <th>32</th>\n",
       "      <td>77</td>\n",
       "      <td>molecule077.ct</td>\n",
       "      <td>158.00</td>\n",
       "      <td>2,2,3,3-tetramethylhexane</td>\n",
       "    </tr>\n",
       "    <tr>\n",
       "      <th>33</th>\n",
       "      <td>99</td>\n",
       "      <td>molecule099.ct</td>\n",
       "      <td>147.70</td>\n",
       "      <td>2,2,4-trimethylheptane</td>\n",
       "    </tr>\n",
       "  </tbody>\n",
       "</table>\n",
       "</div>"
      ],
      "text/plain": [
       "    idx        filename  boiling_point                   iupac_name\n",
       "0     1  molecule001.ct        -164.00                      methane\n",
       "1     2  molecule002.ct         -88.60                       ethane\n",
       "2     3  molecule003.ct         -42.10                      propane\n",
       "3     4  molecule004.ct         -11.70              2-methylpropane\n",
       "4     5  molecule005.ct          -0.50                       butane\n",
       "5     6  molecule006.ct           9.50          2,2-dimethylpropane\n",
       "6     7  molecule007.ct          27.80               2-methylbutane\n",
       "7     8  molecule008.ct          36.10                      pentane\n",
       "8     9  molecule009.ct          49.70           2,2-dimethylbutane\n",
       "9    10  molecule010.ct          58.00           2,3-dimethylbutane\n",
       "10   11  molecule011.ct          60.30              2-methylpentane\n",
       "11   13  molecule013.ct          69.00                       hexane\n",
       "12   14  molecule014.ct          80.90        2,2,3-trimethylbutane\n",
       "13   15  molecule015.ct          79.20          2,2-dimethylpentane\n",
       "14   19  molecule019.ct          90.00               2-methylhexane\n",
       "15   20  molecule020.ct          92.00               3-methylhexane\n",
       "16   21  molecule021.ct          93.50               3-ethylpentane\n",
       "17   22  molecule022.ct          98.40                      heptane\n",
       "18   23  molecule023.ct         106.50    2,2,3,3-tetramethylbutane\n",
       "19   24  molecule024.ct         110.00       2,2,3-trimethylpentane\n",
       "20   31  molecule031.ct         115.60           2,3-dimethylhexane\n",
       "21   36  molecule036.ct         117.60              2-methylheptane\n",
       "22   39  molecule039.ct         118.50                3-ethylhexane\n",
       "23   40  molecule040.ct         125.70                       octane\n",
       "24   41  molecule041.ct         140.27   2,2,3,3-tetramethylpentane\n",
       "25   43  molecule043.ct         131.70        2,2,3-trimethylhexane\n",
       "26   48  molecule048.ct         141.60  2,3-dimethyl-3-ethylpentane\n",
       "27   56  molecule056.ct         140.60       3-ethyl-3-methylhexane\n",
       "28   57  molecule057.ct         146.20           3,3-diethylpentane\n",
       "29   59  molecule059.ct         136.73  2,4-dimethyl-3-ethylpentane\n",
       "30   72  molecule072.ct         142.40               4-methyloctane\n",
       "31   73  molecule073.ct         143.00               3-ethylheptane\n",
       "32   77  molecule077.ct         158.00    2,2,3,3-tetramethylhexane\n",
       "33   99  molecule099.ct         147.70       2,2,4-trimethylheptane"
      ]
     },
     "execution_count": 1,
     "metadata": {},
     "output_type": "execute_result"
    }
   ],
   "source": [
    "import pandas as pd\n",
    "\n",
    "with open(\"iupac_and_boiling.csv\", \"r\") as f:\n",
    "    data = pd.read_csv(f, sep=\"   \", engine=\"python\")\n",
    "data\n"
   ]
  },
  {
   "attachments": {},
   "cell_type": "markdown",
   "id": "dfd196dc",
   "metadata": {},
   "source": [
    "Use [py2opsin](https://github.com/JacksonBurns/py2opsin) to convert the IUPAC names into smiles strings:"
   ]
  },
  {
   "cell_type": "code",
   "execution_count": 2,
   "id": "82a58e02",
   "metadata": {},
   "outputs": [],
   "source": [
    "from py2opsin import py2opsin\n",
    "\n",
    "data[\"smiles\"] = py2opsin(data[\"iupac_name\"])\n"
   ]
  },
  {
   "attachments": {},
   "cell_type": "markdown",
   "id": "9c098cd1",
   "metadata": {},
   "source": [
    "Use RDKit to get the molecular weight as our input feature."
   ]
  },
  {
   "cell_type": "code",
   "execution_count": 3,
   "id": "4f20a83a",
   "metadata": {},
   "outputs": [],
   "source": [
    "from rdkit.Chem.Descriptors import ExactMolWt\n",
    "from rdkit.Chem import MolFromSmiles\n",
    "import numpy as np\n",
    "\n",
    "weights = []\n",
    "for smi in data[\"smiles\"]:\n",
    "    weights.append(ExactMolWt(MolFromSmiles(smi)))\n",
    "weights = np.array(weights)"
   ]
  },
  {
   "attachments": {},
   "cell_type": "markdown",
   "id": "669ba802",
   "metadata": {},
   "source": [
    "Now we use `train_val_test_split` to partition this data using a random sampler, and then using the SPXY and Sphere Exclusion algorithms."
   ]
  },
  {
   "cell_type": "code",
   "execution_count": 4,
   "id": "215c964e",
   "metadata": {},
   "outputs": [
    {
     "name": "stderr",
     "output_type": "stream",
     "text": [
      "/home/jackson/astartes/astartes/astartes/main.py:357: ImperfectSplittingWarning: Actual train/test split differs from requested size. Requested train size of 0.80, got 0.79. Requested validation size of 0.10, got 0.12. Requested test size of 0.10, got 0.12. \n",
      "  warn(\n"
     ]
    }
   ],
   "source": [
    "from astartes.molecules import train_val_test_split\n",
    "\n",
    "\n",
    "tts_args = dict(\n",
    "    y=data[\"boiling_point\"].to_numpy(),\n",
    "    train_size=0.8,\n",
    "    test_size=0.1,\n",
    "    val_size=0.1,\n",
    ")\n",
    "\n",
    "(\n",
    "    X_train,\n",
    "    X_val,\n",
    "    X_test,\n",
    "    y_train,\n",
    "    y_val,\n",
    "    y_test,\n",
    ") = train_val_test_split(\n",
    "    weights,\n",
    "    **tts_args,\n",
    ")\n"
   ]
  },
  {
   "attachments": {},
   "cell_type": "markdown",
   "id": "eb89e2d9",
   "metadata": {},
   "source": [
    "To plot the results of each sampling approach, we define `scatter`."
   ]
  },
  {
   "cell_type": "code",
   "execution_count": 5,
   "metadata": {},
   "outputs": [],
   "source": [
    "import plotly.graph_objects as go\n",
    "import plotly.express as px\n",
    "from scipy.optimize import curve_fit\n",
    "from sklearn.metrics import mean_absolute_error, r2_score\n",
    "\n",
    "\n",
    "def model(x, m, b):\n",
    "    return m * x + b\n",
    "\n",
    "\n",
    "def scatter(X_train, X_val, X_test, y_train, y_val, y_test):\n",
    "    fig = px.scatter(\n",
    "        x=X_train,\n",
    "        y=y_train,\n",
    "    )\n",
    "    fig.update_traces(\n",
    "        marker=dict(\n",
    "            size=8,\n",
    "            color=\"grey\",\n",
    "            opacity=0.6,\n",
    "        )\n",
    "    )\n",
    "    params, _ = curve_fit(model, X_train, y_train)\n",
    "    regression_xdata = np.arange(16, 145, 1)\n",
    "    regression_y_data = np.array([model(i, *params) for i in regression_xdata])\n",
    "    fig.add_trace(\n",
    "        go.Scatter(\n",
    "            x=regression_xdata,\n",
    "            y=regression_y_data,\n",
    "            mode=\"lines\",\n",
    "            name=\"model prediction\",\n",
    "            line=dict(\n",
    "                color=\"black\",\n",
    "            )\n",
    "        )\n",
    "    )\n",
    "    fig.add_trace(\n",
    "        go.Scatter(\n",
    "            x=X_val,\n",
    "            y=y_val,\n",
    "            mode=\"markers\",\n",
    "            marker=dict(\n",
    "                size=12,\n",
    "                color=\"red\",\n",
    "            ),\n",
    "            name=\"validation\",\n",
    "        )\n",
    "    )\n",
    "    fig.add_trace(\n",
    "        go.Scatter(\n",
    "            x=X_test,\n",
    "            y=y_test,\n",
    "            mode=\"markers\",\n",
    "            marker=dict(\n",
    "                size=12,\n",
    "                color=\"blue\",\n",
    "            ),\n",
    "            name=\"testing\",\n",
    "        )\n",
    "    )\n",
    "    fig.update_layout(\n",
    "        dict(\n",
    "            plot_bgcolor=\"rgba(0, 0, 0, 0)\",\n",
    "            paper_bgcolor=\"rgba(0, 0, 0, 0)\",\n",
    "            height=600,\n",
    "            width=600,\n",
    "        ),\n",
    "        legend=dict(\n",
    "            orientation=\"h\",\n",
    "            yanchor=\"bottom\",\n",
    "            y=1.02,\n",
    "            xanchor=\"center\",\n",
    "            x=0.5,\n",
    "        ),\n",
    "    )\n",
    "    ax_args = dict(\n",
    "        showline=True,\n",
    "        linewidth=2,\n",
    "        linecolor=\"grey\",\n",
    "        gridwidth=1,\n",
    "        showgrid=True,\n",
    "        gridcolor=\"rgba(0, 0, 0, 0.15)\",\n",
    "        zerolinecolor=\"grey\",\n",
    "        zerolinewidth=1,\n",
    "        griddash='dash',\n",
    "        layer='below traces',\n",
    "    )\n",
    "    fig.update_xaxes(title=\"Molecular Weight\", **ax_args)\n",
    "    fig.update_yaxes(title=\"Boiling Point (°C)\", **ax_args)\n",
    "    fig.add_annotation(\n",
    "        x=50,\n",
    "        y=150,\n",
    "        text=\"Training MAE: {:.2f}<br>Validation MAE: {:.2f}<br>Testing MAE: {:.2f}<br>\".format(\n",
    "            mean_absolute_error(y_train, model(X_train, *params)),\n",
    "            mean_absolute_error(y_val, model(X_val, *params)),\n",
    "            mean_absolute_error(y_test, model(X_test, *params)),\n",
    "        ),\n",
    "        showarrow=False,\n",
    "        font=dict(\n",
    "            size=16,\n",
    "        ),\n",
    "        bgcolor=\"rgba(0, 0, 0, 0.1)\",\n",
    "        bordercolor=\"rgba(0, 0, 0, 1)\",\n",
    "        borderwidth=1,\n",
    "    )\n",
    "    fig.add_annotation(\n",
    "        x=100,\n",
    "        y=-100,\n",
    "        text=\"Model:<br>BP={:.2f}*MW{:.2f}<br>R<sup>2</sup>={:.2f}<br>\".format(\n",
    "            params[0],\n",
    "            params[1],\n",
    "            r2_score(y_train, model(X_train, *params)),\n",
    "        ),\n",
    "        showarrow=False,\n",
    "        font=dict(\n",
    "            size=16,\n",
    "        ),\n",
    "        bgcolor=\"rgba(0, 0, 0, 0.1)\",\n",
    "        bordercolor=\"rgba(0, 0, 0, 1)\",\n",
    "    )\n",
    "    fig.show()"
   ]
  },
  {
   "cell_type": "code",
   "execution_count": 6,
   "id": "e9b7b993",
   "metadata": {},
   "outputs": [
    {
     "data": {
      "application/vnd.plotly.v1+json": {
       "config": {
        "plotlyServerURL": "https://plot.ly"
       },
       "data": [
        {
         "hovertemplate": "x=%{x}<br>y=%{y}<extra></extra>",
         "legendgroup": "",
         "marker": {
          "color": "grey",
          "opacity": 0.6,
          "size": 8,
          "symbol": "circle"
         },
         "mode": "markers",
         "name": "",
         "orientation": "v",
         "showlegend": false,
         "type": "scatter",
         "x": [
          114.14085057599999,
          128.15650064,
          128.15650064,
          86.109550448,
          128.15650064,
          114.14085057599999,
          100.12520051199999,
          142.172150704,
          86.109550448,
          16.031300127999998,
          58.078250319999995,
          100.12520051199999,
          100.12520051199999,
          72.093900384,
          100.12520051199999,
          86.109550448,
          30.046950192,
          44.062600255999996,
          128.15650064,
          58.078250319999995,
          128.15650064,
          114.14085057599999,
          128.15650064,
          114.14085057599999,
          114.14085057599999,
          128.15650064,
          72.093900384
         ],
         "xaxis": "x",
         "y": [
          110,
          140.6,
          141.6,
          49.7,
          140.27,
          117.6,
          80.9,
          158,
          58,
          -164,
          -0.5,
          93.5,
          98.4,
          9.5,
          79.2,
          69,
          -88.6,
          -42.1,
          142.4,
          -11.7,
          136.73,
          125.7,
          143,
          118.5,
          106.5,
          131.7,
          27.8
         ],
         "yaxis": "y"
        },
        {
         "line": {
          "color": "black"
         },
         "mode": "lines",
         "name": "model prediction",
         "type": "scatter",
         "x": [
          16,
          17,
          18,
          19,
          20,
          21,
          22,
          23,
          24,
          25,
          26,
          27,
          28,
          29,
          30,
          31,
          32,
          33,
          34,
          35,
          36,
          37,
          38,
          39,
          40,
          41,
          42,
          43,
          44,
          45,
          46,
          47,
          48,
          49,
          50,
          51,
          52,
          53,
          54,
          55,
          56,
          57,
          58,
          59,
          60,
          61,
          62,
          63,
          64,
          65,
          66,
          67,
          68,
          69,
          70,
          71,
          72,
          73,
          74,
          75,
          76,
          77,
          78,
          79,
          80,
          81,
          82,
          83,
          84,
          85,
          86,
          87,
          88,
          89,
          90,
          91,
          92,
          93,
          94,
          95,
          96,
          97,
          98,
          99,
          100,
          101,
          102,
          103,
          104,
          105,
          106,
          107,
          108,
          109,
          110,
          111,
          112,
          113,
          114,
          115,
          116,
          117,
          118,
          119,
          120,
          121,
          122,
          123,
          124,
          125,
          126,
          127,
          128,
          129,
          130,
          131,
          132,
          133,
          134,
          135,
          136,
          137,
          138,
          139,
          140,
          141,
          142,
          143,
          144
         ],
         "y": [
          -117.07425741681486,
          -114.72764899642019,
          -112.38104057602553,
          -110.03443215563085,
          -107.68782373523618,
          -105.34121531484152,
          -102.99460689444685,
          -100.64799847405217,
          -98.30139005365751,
          -95.95478163326284,
          -93.60817321286817,
          -91.26156479247351,
          -88.91495637207883,
          -86.56834795168416,
          -84.22173953128949,
          -81.87513111089483,
          -79.52852269050015,
          -77.18191427010548,
          -74.83530584971082,
          -72.48869742931615,
          -70.14208900892147,
          -67.79548058852681,
          -65.44887216813214,
          -63.10226374773747,
          -60.755655327342794,
          -58.409046906948134,
          -56.06243848655346,
          -53.71583006615879,
          -51.36922164576413,
          -49.022613225369454,
          -46.67600480497478,
          -44.32939638458012,
          -41.98278796418545,
          -39.636179543790774,
          -37.289571123396115,
          -34.94296270300144,
          -32.59635428260677,
          -30.24974586221211,
          -27.903137441817435,
          -25.55652902142276,
          -23.209920601028102,
          -20.863312180633415,
          -18.516703760238755,
          -16.170095339844096,
          -13.823486919449408,
          -11.476878499054749,
          -9.13027007866009,
          -6.783661658265402,
          -4.437053237870742,
          -2.090444817476083,
          0.25616360291860474,
          2.602772023313264,
          4.949380443707923,
          7.295988864102611,
          9.64259728449727,
          11.98920570489193,
          14.335814125286618,
          16.682422545681277,
          19.029030966075936,
          21.375639386470624,
          23.722247806865283,
          26.068856227259943,
          28.41546464765463,
          30.76207306804929,
          33.10868148844398,
          35.45528990883864,
          37.801898329233296,
          40.148506749627984,
          42.49511517002264,
          44.8417235904173,
          47.18833201081199,
          49.53494043120665,
          51.88154885160131,
          54.228157271996,
          56.574765692390656,
          58.921374112785315,
          61.26798253318,
          63.61459095357466,
          65.96119937396932,
          68.30780779436401,
          70.65441621475867,
          73.00102463515333,
          75.34763305554802,
          77.69424147594268,
          80.04084989633733,
          82.38745831673202,
          84.73406673712668,
          87.08067515752134,
          89.42728357791603,
          91.77389199831069,
          94.12050041870535,
          96.46710883910004,
          98.8137172594947,
          101.16032567988935,
          103.50693410028404,
          105.8535425206787,
          108.20015094107336,
          110.54675936146802,
          112.89336778186274,
          115.2399762022574,
          117.58658462265205,
          119.93319304304671,
          122.27980146344137,
          124.62640988383603,
          126.97301830423075,
          129.3196267246254,
          131.66623514502007,
          134.01284356541473,
          136.3594519858094,
          138.70606040620405,
          141.05266882659876,
          143.39927724699342,
          145.74588566738808,
          148.09249408778274,
          150.4391025081774,
          152.78571092857212,
          155.13231934896677,
          157.47892776936143,
          159.8255361897561,
          162.17214461015075,
          164.5187530305454,
          166.86536145094013,
          169.2119698713348,
          171.55857829172945,
          173.9051867121241,
          176.25179513251877,
          178.59840355291342,
          180.94501197330814,
          183.2916203937028
         ]
        },
        {
         "marker": {
          "color": "red",
          "size": 12
         },
         "mode": "markers",
         "name": "validation",
         "type": "scatter",
         "x": [
          114.14085057599999,
          142.172150704,
          72.093900384
         ],
         "y": [
          115.6,
          147.7,
          36.1
         ]
        },
        {
         "marker": {
          "color": "blue",
          "size": 12
         },
         "mode": "markers",
         "name": "testing",
         "type": "scatter",
         "x": [
          86.109550448,
          100.12520051199999,
          128.15650064,
          100.12520051199999
         ],
         "y": [
          60.3,
          90,
          146.2,
          92
         ]
        }
       ],
       "layout": {
        "annotations": [
         {
          "bgcolor": "rgba(0, 0, 0, 0.1)",
          "bordercolor": "rgba(0, 0, 0, 1)",
          "borderwidth": 1,
          "font": {
           "size": 16
          },
          "showarrow": false,
          "text": "Training MAE: 10.01<br>Validation MAE: 18.41<br>Testing MAE: 8.57<br>",
          "x": 50,
          "y": 150
         },
         {
          "bgcolor": "rgba(0, 0, 0, 0.1)",
          "bordercolor": "rgba(0, 0, 0, 1)",
          "font": {
           "size": 16
          },
          "showarrow": false,
          "text": "Model:<br>BP=2.35*MW-154.62<br>R<sup>2</sup>=0.97<br>",
          "x": 100,
          "y": -100
         }
        ],
        "height": 600,
        "legend": {
         "orientation": "h",
         "tracegroupgap": 0,
         "x": 0.5,
         "xanchor": "center",
         "y": 1.02,
         "yanchor": "bottom"
        },
        "margin": {
         "t": 60
        },
        "paper_bgcolor": "rgba(0, 0, 0, 0)",
        "plot_bgcolor": "rgba(0, 0, 0, 0)",
        "template": {
         "data": {
          "bar": [
           {
            "error_x": {
             "color": "#2a3f5f"
            },
            "error_y": {
             "color": "#2a3f5f"
            },
            "marker": {
             "line": {
              "color": "#E5ECF6",
              "width": 0.5
             },
             "pattern": {
              "fillmode": "overlay",
              "size": 10,
              "solidity": 0.2
             }
            },
            "type": "bar"
           }
          ],
          "barpolar": [
           {
            "marker": {
             "line": {
              "color": "#E5ECF6",
              "width": 0.5
             },
             "pattern": {
              "fillmode": "overlay",
              "size": 10,
              "solidity": 0.2
             }
            },
            "type": "barpolar"
           }
          ],
          "carpet": [
           {
            "aaxis": {
             "endlinecolor": "#2a3f5f",
             "gridcolor": "white",
             "linecolor": "white",
             "minorgridcolor": "white",
             "startlinecolor": "#2a3f5f"
            },
            "baxis": {
             "endlinecolor": "#2a3f5f",
             "gridcolor": "white",
             "linecolor": "white",
             "minorgridcolor": "white",
             "startlinecolor": "#2a3f5f"
            },
            "type": "carpet"
           }
          ],
          "choropleth": [
           {
            "colorbar": {
             "outlinewidth": 0,
             "ticks": ""
            },
            "type": "choropleth"
           }
          ],
          "contour": [
           {
            "colorbar": {
             "outlinewidth": 0,
             "ticks": ""
            },
            "colorscale": [
             [
              0,
              "#0d0887"
             ],
             [
              0.1111111111111111,
              "#46039f"
             ],
             [
              0.2222222222222222,
              "#7201a8"
             ],
             [
              0.3333333333333333,
              "#9c179e"
             ],
             [
              0.4444444444444444,
              "#bd3786"
             ],
             [
              0.5555555555555556,
              "#d8576b"
             ],
             [
              0.6666666666666666,
              "#ed7953"
             ],
             [
              0.7777777777777778,
              "#fb9f3a"
             ],
             [
              0.8888888888888888,
              "#fdca26"
             ],
             [
              1,
              "#f0f921"
             ]
            ],
            "type": "contour"
           }
          ],
          "contourcarpet": [
           {
            "colorbar": {
             "outlinewidth": 0,
             "ticks": ""
            },
            "type": "contourcarpet"
           }
          ],
          "heatmap": [
           {
            "colorbar": {
             "outlinewidth": 0,
             "ticks": ""
            },
            "colorscale": [
             [
              0,
              "#0d0887"
             ],
             [
              0.1111111111111111,
              "#46039f"
             ],
             [
              0.2222222222222222,
              "#7201a8"
             ],
             [
              0.3333333333333333,
              "#9c179e"
             ],
             [
              0.4444444444444444,
              "#bd3786"
             ],
             [
              0.5555555555555556,
              "#d8576b"
             ],
             [
              0.6666666666666666,
              "#ed7953"
             ],
             [
              0.7777777777777778,
              "#fb9f3a"
             ],
             [
              0.8888888888888888,
              "#fdca26"
             ],
             [
              1,
              "#f0f921"
             ]
            ],
            "type": "heatmap"
           }
          ],
          "heatmapgl": [
           {
            "colorbar": {
             "outlinewidth": 0,
             "ticks": ""
            },
            "colorscale": [
             [
              0,
              "#0d0887"
             ],
             [
              0.1111111111111111,
              "#46039f"
             ],
             [
              0.2222222222222222,
              "#7201a8"
             ],
             [
              0.3333333333333333,
              "#9c179e"
             ],
             [
              0.4444444444444444,
              "#bd3786"
             ],
             [
              0.5555555555555556,
              "#d8576b"
             ],
             [
              0.6666666666666666,
              "#ed7953"
             ],
             [
              0.7777777777777778,
              "#fb9f3a"
             ],
             [
              0.8888888888888888,
              "#fdca26"
             ],
             [
              1,
              "#f0f921"
             ]
            ],
            "type": "heatmapgl"
           }
          ],
          "histogram": [
           {
            "marker": {
             "pattern": {
              "fillmode": "overlay",
              "size": 10,
              "solidity": 0.2
             }
            },
            "type": "histogram"
           }
          ],
          "histogram2d": [
           {
            "colorbar": {
             "outlinewidth": 0,
             "ticks": ""
            },
            "colorscale": [
             [
              0,
              "#0d0887"
             ],
             [
              0.1111111111111111,
              "#46039f"
             ],
             [
              0.2222222222222222,
              "#7201a8"
             ],
             [
              0.3333333333333333,
              "#9c179e"
             ],
             [
              0.4444444444444444,
              "#bd3786"
             ],
             [
              0.5555555555555556,
              "#d8576b"
             ],
             [
              0.6666666666666666,
              "#ed7953"
             ],
             [
              0.7777777777777778,
              "#fb9f3a"
             ],
             [
              0.8888888888888888,
              "#fdca26"
             ],
             [
              1,
              "#f0f921"
             ]
            ],
            "type": "histogram2d"
           }
          ],
          "histogram2dcontour": [
           {
            "colorbar": {
             "outlinewidth": 0,
             "ticks": ""
            },
            "colorscale": [
             [
              0,
              "#0d0887"
             ],
             [
              0.1111111111111111,
              "#46039f"
             ],
             [
              0.2222222222222222,
              "#7201a8"
             ],
             [
              0.3333333333333333,
              "#9c179e"
             ],
             [
              0.4444444444444444,
              "#bd3786"
             ],
             [
              0.5555555555555556,
              "#d8576b"
             ],
             [
              0.6666666666666666,
              "#ed7953"
             ],
             [
              0.7777777777777778,
              "#fb9f3a"
             ],
             [
              0.8888888888888888,
              "#fdca26"
             ],
             [
              1,
              "#f0f921"
             ]
            ],
            "type": "histogram2dcontour"
           }
          ],
          "mesh3d": [
           {
            "colorbar": {
             "outlinewidth": 0,
             "ticks": ""
            },
            "type": "mesh3d"
           }
          ],
          "parcoords": [
           {
            "line": {
             "colorbar": {
              "outlinewidth": 0,
              "ticks": ""
             }
            },
            "type": "parcoords"
           }
          ],
          "pie": [
           {
            "automargin": true,
            "type": "pie"
           }
          ],
          "scatter": [
           {
            "fillpattern": {
             "fillmode": "overlay",
             "size": 10,
             "solidity": 0.2
            },
            "type": "scatter"
           }
          ],
          "scatter3d": [
           {
            "line": {
             "colorbar": {
              "outlinewidth": 0,
              "ticks": ""
             }
            },
            "marker": {
             "colorbar": {
              "outlinewidth": 0,
              "ticks": ""
             }
            },
            "type": "scatter3d"
           }
          ],
          "scattercarpet": [
           {
            "marker": {
             "colorbar": {
              "outlinewidth": 0,
              "ticks": ""
             }
            },
            "type": "scattercarpet"
           }
          ],
          "scattergeo": [
           {
            "marker": {
             "colorbar": {
              "outlinewidth": 0,
              "ticks": ""
             }
            },
            "type": "scattergeo"
           }
          ],
          "scattergl": [
           {
            "marker": {
             "colorbar": {
              "outlinewidth": 0,
              "ticks": ""
             }
            },
            "type": "scattergl"
           }
          ],
          "scattermapbox": [
           {
            "marker": {
             "colorbar": {
              "outlinewidth": 0,
              "ticks": ""
             }
            },
            "type": "scattermapbox"
           }
          ],
          "scatterpolar": [
           {
            "marker": {
             "colorbar": {
              "outlinewidth": 0,
              "ticks": ""
             }
            },
            "type": "scatterpolar"
           }
          ],
          "scatterpolargl": [
           {
            "marker": {
             "colorbar": {
              "outlinewidth": 0,
              "ticks": ""
             }
            },
            "type": "scatterpolargl"
           }
          ],
          "scatterternary": [
           {
            "marker": {
             "colorbar": {
              "outlinewidth": 0,
              "ticks": ""
             }
            },
            "type": "scatterternary"
           }
          ],
          "surface": [
           {
            "colorbar": {
             "outlinewidth": 0,
             "ticks": ""
            },
            "colorscale": [
             [
              0,
              "#0d0887"
             ],
             [
              0.1111111111111111,
              "#46039f"
             ],
             [
              0.2222222222222222,
              "#7201a8"
             ],
             [
              0.3333333333333333,
              "#9c179e"
             ],
             [
              0.4444444444444444,
              "#bd3786"
             ],
             [
              0.5555555555555556,
              "#d8576b"
             ],
             [
              0.6666666666666666,
              "#ed7953"
             ],
             [
              0.7777777777777778,
              "#fb9f3a"
             ],
             [
              0.8888888888888888,
              "#fdca26"
             ],
             [
              1,
              "#f0f921"
             ]
            ],
            "type": "surface"
           }
          ],
          "table": [
           {
            "cells": {
             "fill": {
              "color": "#EBF0F8"
             },
             "line": {
              "color": "white"
             }
            },
            "header": {
             "fill": {
              "color": "#C8D4E3"
             },
             "line": {
              "color": "white"
             }
            },
            "type": "table"
           }
          ]
         },
         "layout": {
          "annotationdefaults": {
           "arrowcolor": "#2a3f5f",
           "arrowhead": 0,
           "arrowwidth": 1
          },
          "autotypenumbers": "strict",
          "coloraxis": {
           "colorbar": {
            "outlinewidth": 0,
            "ticks": ""
           }
          },
          "colorscale": {
           "diverging": [
            [
             0,
             "#8e0152"
            ],
            [
             0.1,
             "#c51b7d"
            ],
            [
             0.2,
             "#de77ae"
            ],
            [
             0.3,
             "#f1b6da"
            ],
            [
             0.4,
             "#fde0ef"
            ],
            [
             0.5,
             "#f7f7f7"
            ],
            [
             0.6,
             "#e6f5d0"
            ],
            [
             0.7,
             "#b8e186"
            ],
            [
             0.8,
             "#7fbc41"
            ],
            [
             0.9,
             "#4d9221"
            ],
            [
             1,
             "#276419"
            ]
           ],
           "sequential": [
            [
             0,
             "#0d0887"
            ],
            [
             0.1111111111111111,
             "#46039f"
            ],
            [
             0.2222222222222222,
             "#7201a8"
            ],
            [
             0.3333333333333333,
             "#9c179e"
            ],
            [
             0.4444444444444444,
             "#bd3786"
            ],
            [
             0.5555555555555556,
             "#d8576b"
            ],
            [
             0.6666666666666666,
             "#ed7953"
            ],
            [
             0.7777777777777778,
             "#fb9f3a"
            ],
            [
             0.8888888888888888,
             "#fdca26"
            ],
            [
             1,
             "#f0f921"
            ]
           ],
           "sequentialminus": [
            [
             0,
             "#0d0887"
            ],
            [
             0.1111111111111111,
             "#46039f"
            ],
            [
             0.2222222222222222,
             "#7201a8"
            ],
            [
             0.3333333333333333,
             "#9c179e"
            ],
            [
             0.4444444444444444,
             "#bd3786"
            ],
            [
             0.5555555555555556,
             "#d8576b"
            ],
            [
             0.6666666666666666,
             "#ed7953"
            ],
            [
             0.7777777777777778,
             "#fb9f3a"
            ],
            [
             0.8888888888888888,
             "#fdca26"
            ],
            [
             1,
             "#f0f921"
            ]
           ]
          },
          "colorway": [
           "#636efa",
           "#EF553B",
           "#00cc96",
           "#ab63fa",
           "#FFA15A",
           "#19d3f3",
           "#FF6692",
           "#B6E880",
           "#FF97FF",
           "#FECB52"
          ],
          "font": {
           "color": "#2a3f5f"
          },
          "geo": {
           "bgcolor": "white",
           "lakecolor": "white",
           "landcolor": "#E5ECF6",
           "showlakes": true,
           "showland": true,
           "subunitcolor": "white"
          },
          "hoverlabel": {
           "align": "left"
          },
          "hovermode": "closest",
          "mapbox": {
           "style": "light"
          },
          "paper_bgcolor": "white",
          "plot_bgcolor": "#E5ECF6",
          "polar": {
           "angularaxis": {
            "gridcolor": "white",
            "linecolor": "white",
            "ticks": ""
           },
           "bgcolor": "#E5ECF6",
           "radialaxis": {
            "gridcolor": "white",
            "linecolor": "white",
            "ticks": ""
           }
          },
          "scene": {
           "xaxis": {
            "backgroundcolor": "#E5ECF6",
            "gridcolor": "white",
            "gridwidth": 2,
            "linecolor": "white",
            "showbackground": true,
            "ticks": "",
            "zerolinecolor": "white"
           },
           "yaxis": {
            "backgroundcolor": "#E5ECF6",
            "gridcolor": "white",
            "gridwidth": 2,
            "linecolor": "white",
            "showbackground": true,
            "ticks": "",
            "zerolinecolor": "white"
           },
           "zaxis": {
            "backgroundcolor": "#E5ECF6",
            "gridcolor": "white",
            "gridwidth": 2,
            "linecolor": "white",
            "showbackground": true,
            "ticks": "",
            "zerolinecolor": "white"
           }
          },
          "shapedefaults": {
           "line": {
            "color": "#2a3f5f"
           }
          },
          "ternary": {
           "aaxis": {
            "gridcolor": "white",
            "linecolor": "white",
            "ticks": ""
           },
           "baxis": {
            "gridcolor": "white",
            "linecolor": "white",
            "ticks": ""
           },
           "bgcolor": "#E5ECF6",
           "caxis": {
            "gridcolor": "white",
            "linecolor": "white",
            "ticks": ""
           }
          },
          "title": {
           "x": 0.05
          },
          "xaxis": {
           "automargin": true,
           "gridcolor": "white",
           "linecolor": "white",
           "ticks": "",
           "title": {
            "standoff": 15
           },
           "zerolinecolor": "white",
           "zerolinewidth": 2
          },
          "yaxis": {
           "automargin": true,
           "gridcolor": "white",
           "linecolor": "white",
           "ticks": "",
           "title": {
            "standoff": 15
           },
           "zerolinecolor": "white",
           "zerolinewidth": 2
          }
         }
        },
        "width": 600,
        "xaxis": {
         "anchor": "y",
         "domain": [
          0,
          1
         ],
         "gridcolor": "rgba(0, 0, 0, 0.15)",
         "griddash": "dash",
         "gridwidth": 1,
         "layer": "below traces",
         "linecolor": "grey",
         "linewidth": 2,
         "showgrid": true,
         "showline": true,
         "title": {
          "text": "Molecular Weight"
         },
         "zerolinecolor": "grey",
         "zerolinewidth": 1
        },
        "yaxis": {
         "anchor": "x",
         "domain": [
          0,
          1
         ],
         "gridcolor": "rgba(0, 0, 0, 0.15)",
         "griddash": "dash",
         "gridwidth": 1,
         "layer": "below traces",
         "linecolor": "grey",
         "linewidth": 2,
         "showgrid": true,
         "showline": true,
         "title": {
          "text": "Boiling Point (°C)"
         },
         "zerolinecolor": "grey",
         "zerolinewidth": 1
        }
       }
      }
     },
     "metadata": {},
     "output_type": "display_data"
    }
   ],
   "source": [
    "scatter(\n",
    "    X_train,\n",
    "    X_val,\n",
    "    X_test,\n",
    "    y_train,\n",
    "    y_val,\n",
    "    y_test,\n",
    ")"
   ]
  },
  {
   "cell_type": "code",
   "execution_count": 7,
   "id": "a31007e4",
   "metadata": {},
   "outputs": [
    {
     "name": "stderr",
     "output_type": "stream",
     "text": [
      "/home/jackson/astartes/astartes/astartes/main.py:357: ImperfectSplittingWarning:\n",
      "\n",
      "Actual train/test split differs from requested size. Requested train size of 0.80, got 0.79. Requested validation size of 0.10, got 0.12. Requested test size of 0.10, got 0.12. \n",
      "\n"
     ]
    },
    {
     "data": {
      "application/vnd.plotly.v1+json": {
       "config": {
        "plotlyServerURL": "https://plot.ly"
       },
       "data": [
        {
         "hovertemplate": "x=%{x}<br>y=%{y}<extra></extra>",
         "legendgroup": "",
         "marker": {
          "color": "grey",
          "opacity": 0.6,
          "size": 8,
          "symbol": "circle"
         },
         "mode": "markers",
         "name": "",
         "orientation": "v",
         "showlegend": false,
         "type": "scatter",
         "x": [
          16.031300127999998,
          142.172150704,
          72.093900384,
          100.12520051199999,
          44.062600255999996,
          30.046950192,
          86.109550448,
          114.14085057599999,
          58.078250319999995,
          128.15650064,
          72.093900384,
          100.12520051199999,
          114.14085057599999,
          58.078250319999995,
          86.109550448,
          142.172150704,
          128.15650064,
          114.14085057599999,
          100.12520051199999,
          72.093900384,
          86.109550448,
          128.15650064,
          128.15650064,
          100.12520051199999,
          114.14085057599999,
          114.14085057599999,
          86.109550448
         ],
         "xaxis": "x",
         "y": [
          -164,
          158,
          9.5,
          98.4,
          -42.1,
          -88.6,
          58,
          125.7,
          -11.7,
          141.6,
          36.1,
          79.2,
          106.5,
          -0.5,
          69,
          147.7,
          131.7,
          115.6,
          90,
          27.8,
          49.7,
          136.73,
          146.2,
          93.5,
          110,
          118.5,
          60.3
         ],
         "yaxis": "y"
        },
        {
         "line": {
          "color": "black"
         },
         "mode": "lines",
         "name": "model prediction",
         "type": "scatter",
         "x": [
          16,
          17,
          18,
          19,
          20,
          21,
          22,
          23,
          24,
          25,
          26,
          27,
          28,
          29,
          30,
          31,
          32,
          33,
          34,
          35,
          36,
          37,
          38,
          39,
          40,
          41,
          42,
          43,
          44,
          45,
          46,
          47,
          48,
          49,
          50,
          51,
          52,
          53,
          54,
          55,
          56,
          57,
          58,
          59,
          60,
          61,
          62,
          63,
          64,
          65,
          66,
          67,
          68,
          69,
          70,
          71,
          72,
          73,
          74,
          75,
          76,
          77,
          78,
          79,
          80,
          81,
          82,
          83,
          84,
          85,
          86,
          87,
          88,
          89,
          90,
          91,
          92,
          93,
          94,
          95,
          96,
          97,
          98,
          99,
          100,
          101,
          102,
          103,
          104,
          105,
          106,
          107,
          108,
          109,
          110,
          111,
          112,
          113,
          114,
          115,
          116,
          117,
          118,
          119,
          120,
          121,
          122,
          123,
          124,
          125,
          126,
          127,
          128,
          129,
          130,
          131,
          132,
          133,
          134,
          135,
          136,
          137,
          138,
          139,
          140,
          141,
          142,
          143,
          144
         ],
         "y": [
          -112.07602730606183,
          -109.78004989250468,
          -107.48407247894751,
          -105.18809506539034,
          -102.89211765183317,
          -100.596140238276,
          -98.30016282471885,
          -96.00418541116167,
          -93.70820799760452,
          -91.41223058404735,
          -89.11625317049018,
          -86.82027575693301,
          -84.52429834337585,
          -82.2283209298187,
          -79.93234351626153,
          -77.63636610270436,
          -75.34038868914719,
          -73.04441127559002,
          -70.74843386203285,
          -68.45245644847569,
          -66.15647903491853,
          -63.860501621361365,
          -61.5645242078042,
          -59.26854679424703,
          -56.97256938068986,
          -54.676591967132694,
          -52.38061455357554,
          -50.08463714001837,
          -47.788659726461205,
          -45.49268231290404,
          -43.19670489934687,
          -40.9007274857897,
          -38.60475007223255,
          -36.30877265867538,
          -34.01279524511821,
          -31.716817831561045,
          -29.420840418003877,
          -27.12486300444671,
          -24.82888559088954,
          -22.532908177332388,
          -20.236930763775206,
          -17.940953350218052,
          -15.644975936660899,
          -13.348998523103717,
          -11.053021109546563,
          -8.757043695989381,
          -6.461066282432228,
          -4.165088868875046,
          -1.869111455317892,
          0.42686595823926154,
          2.7228433717964435,
          5.018820785353597,
          7.314798198910779,
          9.610775612467933,
          11.906753026025115,
          14.202730439582268,
          16.498707853139422,
          18.794685266696604,
          21.090662680253757,
          23.38664009381094,
          25.682617507368093,
          27.978594920925246,
          30.27457233448243,
          32.57054974803958,
          34.866527161596764,
          37.16250457515392,
          39.4584819887111,
          41.75445940226825,
          44.05043681582541,
          46.34641422938259,
          48.64239164293974,
          50.938369056496924,
          53.23434647005408,
          55.53032388361126,
          57.82630129716841,
          60.12227871072557,
          62.41825612428275,
          64.7142335378399,
          67.01021095139708,
          69.30618836495424,
          71.60216577851139,
          73.89814319206857,
          76.19412060562573,
          78.49009801918291,
          80.78607543274006,
          83.08205284629724,
          85.3780302598544,
          87.67400767341155,
          89.96998508696873,
          92.26596250052589,
          94.56193991408307,
          96.85791732764022,
          99.1538947411974,
          101.44987215475456,
          103.74584956831171,
          106.0418269818689,
          108.33780439542608,
          110.6337818089832,
          112.92975922254038,
          115.22573663609757,
          117.52171404965469,
          119.81769146321187,
          122.11366887676905,
          124.40964629032624,
          126.70562370388336,
          129.00160111744054,
          131.29757853099773,
          133.59355594455485,
          135.88953335811203,
          138.18551077166921,
          140.4814881852264,
          142.77746559878352,
          145.0734430123407,
          147.36942042589789,
          149.665397839455,
          151.9613752530122,
          154.25735266656937,
          156.55333008012656,
          158.84930749368368,
          161.14528490724086,
          163.44126232079805,
          165.73723973435517,
          168.03321714791235,
          170.32919456146954,
          172.62517197502672,
          174.92114938858384,
          177.21712680214102,
          179.5131042156982,
          181.80908162925533
         ]
        },
        {
         "marker": {
          "color": "red",
          "size": 12
         },
         "mode": "markers",
         "name": "validation",
         "type": "scatter",
         "x": [
          100.12520051199999,
          100.12520051199999,
          128.15650064
         ],
         "y": [
          80.9,
          92,
          143
         ]
        },
        {
         "marker": {
          "color": "blue",
          "size": 12
         },
         "mode": "markers",
         "name": "testing",
         "type": "scatter",
         "x": [
          128.15650064,
          114.14085057599999,
          128.15650064,
          128.15650064
         ],
         "y": [
          140.27,
          117.6,
          142.4,
          140.6
         ]
        }
       ],
       "layout": {
        "annotations": [
         {
          "bgcolor": "rgba(0, 0, 0, 0.1)",
          "bordercolor": "rgba(0, 0, 0, 1)",
          "borderwidth": 1,
          "font": {
           "size": 16
          },
          "showarrow": false,
          "text": "Training MAE: 11.53<br>Validation MAE: 4.51<br>Testing MAE: 4.34<br>",
          "x": 50,
          "y": 150
         },
         {
          "bgcolor": "rgba(0, 0, 0, 0.1)",
          "bordercolor": "rgba(0, 0, 0, 1)",
          "font": {
           "size": 16
          },
          "showarrow": false,
          "text": "Model:<br>BP=2.30*MW-148.81<br>R<sup>2</sup>=0.96<br>",
          "x": 100,
          "y": -100
         }
        ],
        "height": 600,
        "legend": {
         "orientation": "h",
         "tracegroupgap": 0,
         "x": 0.5,
         "xanchor": "center",
         "y": 1.02,
         "yanchor": "bottom"
        },
        "margin": {
         "t": 60
        },
        "paper_bgcolor": "rgba(0, 0, 0, 0)",
        "plot_bgcolor": "rgba(0, 0, 0, 0)",
        "template": {
         "data": {
          "bar": [
           {
            "error_x": {
             "color": "#2a3f5f"
            },
            "error_y": {
             "color": "#2a3f5f"
            },
            "marker": {
             "line": {
              "color": "#E5ECF6",
              "width": 0.5
             },
             "pattern": {
              "fillmode": "overlay",
              "size": 10,
              "solidity": 0.2
             }
            },
            "type": "bar"
           }
          ],
          "barpolar": [
           {
            "marker": {
             "line": {
              "color": "#E5ECF6",
              "width": 0.5
             },
             "pattern": {
              "fillmode": "overlay",
              "size": 10,
              "solidity": 0.2
             }
            },
            "type": "barpolar"
           }
          ],
          "carpet": [
           {
            "aaxis": {
             "endlinecolor": "#2a3f5f",
             "gridcolor": "white",
             "linecolor": "white",
             "minorgridcolor": "white",
             "startlinecolor": "#2a3f5f"
            },
            "baxis": {
             "endlinecolor": "#2a3f5f",
             "gridcolor": "white",
             "linecolor": "white",
             "minorgridcolor": "white",
             "startlinecolor": "#2a3f5f"
            },
            "type": "carpet"
           }
          ],
          "choropleth": [
           {
            "colorbar": {
             "outlinewidth": 0,
             "ticks": ""
            },
            "type": "choropleth"
           }
          ],
          "contour": [
           {
            "colorbar": {
             "outlinewidth": 0,
             "ticks": ""
            },
            "colorscale": [
             [
              0,
              "#0d0887"
             ],
             [
              0.1111111111111111,
              "#46039f"
             ],
             [
              0.2222222222222222,
              "#7201a8"
             ],
             [
              0.3333333333333333,
              "#9c179e"
             ],
             [
              0.4444444444444444,
              "#bd3786"
             ],
             [
              0.5555555555555556,
              "#d8576b"
             ],
             [
              0.6666666666666666,
              "#ed7953"
             ],
             [
              0.7777777777777778,
              "#fb9f3a"
             ],
             [
              0.8888888888888888,
              "#fdca26"
             ],
             [
              1,
              "#f0f921"
             ]
            ],
            "type": "contour"
           }
          ],
          "contourcarpet": [
           {
            "colorbar": {
             "outlinewidth": 0,
             "ticks": ""
            },
            "type": "contourcarpet"
           }
          ],
          "heatmap": [
           {
            "colorbar": {
             "outlinewidth": 0,
             "ticks": ""
            },
            "colorscale": [
             [
              0,
              "#0d0887"
             ],
             [
              0.1111111111111111,
              "#46039f"
             ],
             [
              0.2222222222222222,
              "#7201a8"
             ],
             [
              0.3333333333333333,
              "#9c179e"
             ],
             [
              0.4444444444444444,
              "#bd3786"
             ],
             [
              0.5555555555555556,
              "#d8576b"
             ],
             [
              0.6666666666666666,
              "#ed7953"
             ],
             [
              0.7777777777777778,
              "#fb9f3a"
             ],
             [
              0.8888888888888888,
              "#fdca26"
             ],
             [
              1,
              "#f0f921"
             ]
            ],
            "type": "heatmap"
           }
          ],
          "heatmapgl": [
           {
            "colorbar": {
             "outlinewidth": 0,
             "ticks": ""
            },
            "colorscale": [
             [
              0,
              "#0d0887"
             ],
             [
              0.1111111111111111,
              "#46039f"
             ],
             [
              0.2222222222222222,
              "#7201a8"
             ],
             [
              0.3333333333333333,
              "#9c179e"
             ],
             [
              0.4444444444444444,
              "#bd3786"
             ],
             [
              0.5555555555555556,
              "#d8576b"
             ],
             [
              0.6666666666666666,
              "#ed7953"
             ],
             [
              0.7777777777777778,
              "#fb9f3a"
             ],
             [
              0.8888888888888888,
              "#fdca26"
             ],
             [
              1,
              "#f0f921"
             ]
            ],
            "type": "heatmapgl"
           }
          ],
          "histogram": [
           {
            "marker": {
             "pattern": {
              "fillmode": "overlay",
              "size": 10,
              "solidity": 0.2
             }
            },
            "type": "histogram"
           }
          ],
          "histogram2d": [
           {
            "colorbar": {
             "outlinewidth": 0,
             "ticks": ""
            },
            "colorscale": [
             [
              0,
              "#0d0887"
             ],
             [
              0.1111111111111111,
              "#46039f"
             ],
             [
              0.2222222222222222,
              "#7201a8"
             ],
             [
              0.3333333333333333,
              "#9c179e"
             ],
             [
              0.4444444444444444,
              "#bd3786"
             ],
             [
              0.5555555555555556,
              "#d8576b"
             ],
             [
              0.6666666666666666,
              "#ed7953"
             ],
             [
              0.7777777777777778,
              "#fb9f3a"
             ],
             [
              0.8888888888888888,
              "#fdca26"
             ],
             [
              1,
              "#f0f921"
             ]
            ],
            "type": "histogram2d"
           }
          ],
          "histogram2dcontour": [
           {
            "colorbar": {
             "outlinewidth": 0,
             "ticks": ""
            },
            "colorscale": [
             [
              0,
              "#0d0887"
             ],
             [
              0.1111111111111111,
              "#46039f"
             ],
             [
              0.2222222222222222,
              "#7201a8"
             ],
             [
              0.3333333333333333,
              "#9c179e"
             ],
             [
              0.4444444444444444,
              "#bd3786"
             ],
             [
              0.5555555555555556,
              "#d8576b"
             ],
             [
              0.6666666666666666,
              "#ed7953"
             ],
             [
              0.7777777777777778,
              "#fb9f3a"
             ],
             [
              0.8888888888888888,
              "#fdca26"
             ],
             [
              1,
              "#f0f921"
             ]
            ],
            "type": "histogram2dcontour"
           }
          ],
          "mesh3d": [
           {
            "colorbar": {
             "outlinewidth": 0,
             "ticks": ""
            },
            "type": "mesh3d"
           }
          ],
          "parcoords": [
           {
            "line": {
             "colorbar": {
              "outlinewidth": 0,
              "ticks": ""
             }
            },
            "type": "parcoords"
           }
          ],
          "pie": [
           {
            "automargin": true,
            "type": "pie"
           }
          ],
          "scatter": [
           {
            "fillpattern": {
             "fillmode": "overlay",
             "size": 10,
             "solidity": 0.2
            },
            "type": "scatter"
           }
          ],
          "scatter3d": [
           {
            "line": {
             "colorbar": {
              "outlinewidth": 0,
              "ticks": ""
             }
            },
            "marker": {
             "colorbar": {
              "outlinewidth": 0,
              "ticks": ""
             }
            },
            "type": "scatter3d"
           }
          ],
          "scattercarpet": [
           {
            "marker": {
             "colorbar": {
              "outlinewidth": 0,
              "ticks": ""
             }
            },
            "type": "scattercarpet"
           }
          ],
          "scattergeo": [
           {
            "marker": {
             "colorbar": {
              "outlinewidth": 0,
              "ticks": ""
             }
            },
            "type": "scattergeo"
           }
          ],
          "scattergl": [
           {
            "marker": {
             "colorbar": {
              "outlinewidth": 0,
              "ticks": ""
             }
            },
            "type": "scattergl"
           }
          ],
          "scattermapbox": [
           {
            "marker": {
             "colorbar": {
              "outlinewidth": 0,
              "ticks": ""
             }
            },
            "type": "scattermapbox"
           }
          ],
          "scatterpolar": [
           {
            "marker": {
             "colorbar": {
              "outlinewidth": 0,
              "ticks": ""
             }
            },
            "type": "scatterpolar"
           }
          ],
          "scatterpolargl": [
           {
            "marker": {
             "colorbar": {
              "outlinewidth": 0,
              "ticks": ""
             }
            },
            "type": "scatterpolargl"
           }
          ],
          "scatterternary": [
           {
            "marker": {
             "colorbar": {
              "outlinewidth": 0,
              "ticks": ""
             }
            },
            "type": "scatterternary"
           }
          ],
          "surface": [
           {
            "colorbar": {
             "outlinewidth": 0,
             "ticks": ""
            },
            "colorscale": [
             [
              0,
              "#0d0887"
             ],
             [
              0.1111111111111111,
              "#46039f"
             ],
             [
              0.2222222222222222,
              "#7201a8"
             ],
             [
              0.3333333333333333,
              "#9c179e"
             ],
             [
              0.4444444444444444,
              "#bd3786"
             ],
             [
              0.5555555555555556,
              "#d8576b"
             ],
             [
              0.6666666666666666,
              "#ed7953"
             ],
             [
              0.7777777777777778,
              "#fb9f3a"
             ],
             [
              0.8888888888888888,
              "#fdca26"
             ],
             [
              1,
              "#f0f921"
             ]
            ],
            "type": "surface"
           }
          ],
          "table": [
           {
            "cells": {
             "fill": {
              "color": "#EBF0F8"
             },
             "line": {
              "color": "white"
             }
            },
            "header": {
             "fill": {
              "color": "#C8D4E3"
             },
             "line": {
              "color": "white"
             }
            },
            "type": "table"
           }
          ]
         },
         "layout": {
          "annotationdefaults": {
           "arrowcolor": "#2a3f5f",
           "arrowhead": 0,
           "arrowwidth": 1
          },
          "autotypenumbers": "strict",
          "coloraxis": {
           "colorbar": {
            "outlinewidth": 0,
            "ticks": ""
           }
          },
          "colorscale": {
           "diverging": [
            [
             0,
             "#8e0152"
            ],
            [
             0.1,
             "#c51b7d"
            ],
            [
             0.2,
             "#de77ae"
            ],
            [
             0.3,
             "#f1b6da"
            ],
            [
             0.4,
             "#fde0ef"
            ],
            [
             0.5,
             "#f7f7f7"
            ],
            [
             0.6,
             "#e6f5d0"
            ],
            [
             0.7,
             "#b8e186"
            ],
            [
             0.8,
             "#7fbc41"
            ],
            [
             0.9,
             "#4d9221"
            ],
            [
             1,
             "#276419"
            ]
           ],
           "sequential": [
            [
             0,
             "#0d0887"
            ],
            [
             0.1111111111111111,
             "#46039f"
            ],
            [
             0.2222222222222222,
             "#7201a8"
            ],
            [
             0.3333333333333333,
             "#9c179e"
            ],
            [
             0.4444444444444444,
             "#bd3786"
            ],
            [
             0.5555555555555556,
             "#d8576b"
            ],
            [
             0.6666666666666666,
             "#ed7953"
            ],
            [
             0.7777777777777778,
             "#fb9f3a"
            ],
            [
             0.8888888888888888,
             "#fdca26"
            ],
            [
             1,
             "#f0f921"
            ]
           ],
           "sequentialminus": [
            [
             0,
             "#0d0887"
            ],
            [
             0.1111111111111111,
             "#46039f"
            ],
            [
             0.2222222222222222,
             "#7201a8"
            ],
            [
             0.3333333333333333,
             "#9c179e"
            ],
            [
             0.4444444444444444,
             "#bd3786"
            ],
            [
             0.5555555555555556,
             "#d8576b"
            ],
            [
             0.6666666666666666,
             "#ed7953"
            ],
            [
             0.7777777777777778,
             "#fb9f3a"
            ],
            [
             0.8888888888888888,
             "#fdca26"
            ],
            [
             1,
             "#f0f921"
            ]
           ]
          },
          "colorway": [
           "#636efa",
           "#EF553B",
           "#00cc96",
           "#ab63fa",
           "#FFA15A",
           "#19d3f3",
           "#FF6692",
           "#B6E880",
           "#FF97FF",
           "#FECB52"
          ],
          "font": {
           "color": "#2a3f5f"
          },
          "geo": {
           "bgcolor": "white",
           "lakecolor": "white",
           "landcolor": "#E5ECF6",
           "showlakes": true,
           "showland": true,
           "subunitcolor": "white"
          },
          "hoverlabel": {
           "align": "left"
          },
          "hovermode": "closest",
          "mapbox": {
           "style": "light"
          },
          "paper_bgcolor": "white",
          "plot_bgcolor": "#E5ECF6",
          "polar": {
           "angularaxis": {
            "gridcolor": "white",
            "linecolor": "white",
            "ticks": ""
           },
           "bgcolor": "#E5ECF6",
           "radialaxis": {
            "gridcolor": "white",
            "linecolor": "white",
            "ticks": ""
           }
          },
          "scene": {
           "xaxis": {
            "backgroundcolor": "#E5ECF6",
            "gridcolor": "white",
            "gridwidth": 2,
            "linecolor": "white",
            "showbackground": true,
            "ticks": "",
            "zerolinecolor": "white"
           },
           "yaxis": {
            "backgroundcolor": "#E5ECF6",
            "gridcolor": "white",
            "gridwidth": 2,
            "linecolor": "white",
            "showbackground": true,
            "ticks": "",
            "zerolinecolor": "white"
           },
           "zaxis": {
            "backgroundcolor": "#E5ECF6",
            "gridcolor": "white",
            "gridwidth": 2,
            "linecolor": "white",
            "showbackground": true,
            "ticks": "",
            "zerolinecolor": "white"
           }
          },
          "shapedefaults": {
           "line": {
            "color": "#2a3f5f"
           }
          },
          "ternary": {
           "aaxis": {
            "gridcolor": "white",
            "linecolor": "white",
            "ticks": ""
           },
           "baxis": {
            "gridcolor": "white",
            "linecolor": "white",
            "ticks": ""
           },
           "bgcolor": "#E5ECF6",
           "caxis": {
            "gridcolor": "white",
            "linecolor": "white",
            "ticks": ""
           }
          },
          "title": {
           "x": 0.05
          },
          "xaxis": {
           "automargin": true,
           "gridcolor": "white",
           "linecolor": "white",
           "ticks": "",
           "title": {
            "standoff": 15
           },
           "zerolinecolor": "white",
           "zerolinewidth": 2
          },
          "yaxis": {
           "automargin": true,
           "gridcolor": "white",
           "linecolor": "white",
           "ticks": "",
           "title": {
            "standoff": 15
           },
           "zerolinecolor": "white",
           "zerolinewidth": 2
          }
         }
        },
        "width": 600,
        "xaxis": {
         "anchor": "y",
         "domain": [
          0,
          1
         ],
         "gridcolor": "rgba(0, 0, 0, 0.15)",
         "griddash": "dash",
         "gridwidth": 1,
         "layer": "below traces",
         "linecolor": "grey",
         "linewidth": 2,
         "showgrid": true,
         "showline": true,
         "title": {
          "text": "Molecular Weight"
         },
         "zerolinecolor": "grey",
         "zerolinewidth": 1
        },
        "yaxis": {
         "anchor": "x",
         "domain": [
          0,
          1
         ],
         "gridcolor": "rgba(0, 0, 0, 0.15)",
         "griddash": "dash",
         "gridwidth": 1,
         "layer": "below traces",
         "linecolor": "grey",
         "linewidth": 2,
         "showgrid": true,
         "showline": true,
         "title": {
          "text": "Boiling Point (°C)"
         },
         "zerolinecolor": "grey",
         "zerolinewidth": 1
        }
       }
      }
     },
     "metadata": {},
     "output_type": "display_data"
    }
   ],
   "source": [
    "(\n",
    "    ks_X_train,\n",
    "    ks_X_val,\n",
    "    ks_X_test,\n",
    "    ks_y_train,\n",
    "    ks_y_val,\n",
    "    ks_y_test,\n",
    ") = train_val_test_split(\n",
    "    weights.reshape(-1, 1),\n",
    "    sampler=\"spxy\",\n",
    "    hopts=dict(\n",
    "        metric=\"euclidean\",\n",
    "    ),\n",
    "    **tts_args,\n",
    ")\n",
    "scatter(\n",
    "    ks_X_train.flatten(),\n",
    "    ks_X_val.flatten(),\n",
    "    ks_X_test.flatten(),\n",
    "    ks_y_train,\n",
    "    ks_y_val,\n",
    "    ks_y_test,\n",
    ")\n"
   ]
  },
  {
   "cell_type": "code",
   "execution_count": 8,
   "id": "9606b707",
   "metadata": {},
   "outputs": [
    {
     "name": "stderr",
     "output_type": "stream",
     "text": [
      "/home/jackson/astartes/astartes/astartes/main.py:357: ImperfectSplittingWarning:\n",
      "\n",
      "Actual train/test split differs from requested size. Requested train size of 0.80, got 0.85. Requested validation size of 0.10, got 0.09. Requested test size of 0.10, got 0.09. \n",
      "\n"
     ]
    },
    {
     "data": {
      "application/vnd.plotly.v1+json": {
       "config": {
        "plotlyServerURL": "https://plot.ly"
       },
       "data": [
        {
         "hovertemplate": "x=%{x}<br>y=%{y}<extra></extra>",
         "legendgroup": "",
         "marker": {
          "color": "grey",
          "opacity": 0.6,
          "size": 8,
          "symbol": "circle"
         },
         "mode": "markers",
         "name": "",
         "orientation": "v",
         "showlegend": false,
         "type": "scatter",
         "x": [
          142.172150704,
          142.172150704,
          72.093900384,
          72.093900384,
          72.093900384,
          86.109550448,
          86.109550448,
          86.109550448,
          86.109550448,
          100.12520051199999,
          100.12520051199999,
          100.12520051199999,
          100.12520051199999,
          100.12520051199999,
          100.12520051199999,
          114.14085057599999,
          114.14085057599999,
          114.14085057599999,
          114.14085057599999,
          114.14085057599999,
          114.14085057599999,
          128.15650064,
          128.15650064,
          128.15650064,
          128.15650064,
          128.15650064,
          128.15650064,
          128.15650064,
          128.15650064
         ],
         "xaxis": "x",
         "y": [
          158,
          147.7,
          9.5,
          27.8,
          36.1,
          49.7,
          58,
          60.3,
          69,
          80.9,
          79.2,
          90,
          92,
          93.5,
          98.4,
          106.5,
          110,
          115.6,
          117.6,
          118.5,
          125.7,
          140.27,
          131.7,
          141.6,
          140.6,
          146.2,
          136.73,
          142.4,
          143
         ],
         "yaxis": "y"
        },
        {
         "line": {
          "color": "black"
         },
         "mode": "lines",
         "name": "model prediction",
         "type": "scatter",
         "x": [
          16,
          17,
          18,
          19,
          20,
          21,
          22,
          23,
          24,
          25,
          26,
          27,
          28,
          29,
          30,
          31,
          32,
          33,
          34,
          35,
          36,
          37,
          38,
          39,
          40,
          41,
          42,
          43,
          44,
          45,
          46,
          47,
          48,
          49,
          50,
          51,
          52,
          53,
          54,
          55,
          56,
          57,
          58,
          59,
          60,
          61,
          62,
          63,
          64,
          65,
          66,
          67,
          68,
          69,
          70,
          71,
          72,
          73,
          74,
          75,
          76,
          77,
          78,
          79,
          80,
          81,
          82,
          83,
          84,
          85,
          86,
          87,
          88,
          89,
          90,
          91,
          92,
          93,
          94,
          95,
          96,
          97,
          98,
          99,
          100,
          101,
          102,
          103,
          104,
          105,
          106,
          107,
          108,
          109,
          110,
          111,
          112,
          113,
          114,
          115,
          116,
          117,
          118,
          119,
          120,
          121,
          122,
          123,
          124,
          125,
          126,
          127,
          128,
          129,
          130,
          131,
          132,
          133,
          134,
          135,
          136,
          137,
          138,
          139,
          140,
          141,
          142,
          143,
          144
         ],
         "y": [
          -75.28232674974815,
          -73.36930489441878,
          -71.4562830390894,
          -69.54326118376002,
          -67.63023932843063,
          -65.71721747310126,
          -63.80419561777188,
          -61.8911737624425,
          -59.97815190711312,
          -58.06513005178374,
          -56.152108196454364,
          -54.23908634112498,
          -52.326064485795605,
          -50.41304263046622,
          -48.500020775136846,
          -46.58699891980746,
          -44.67397706447809,
          -42.76095520914871,
          -40.84793335381933,
          -38.93491149848995,
          -37.02188964316058,
          -35.10886778783119,
          -33.19584593250181,
          -31.282824077172435,
          -29.36980222184306,
          -27.45678036651367,
          -25.543758511184294,
          -23.630736655854918,
          -21.717714800525542,
          -19.80469294519615,
          -17.891671089866776,
          -15.9786492345374,
          -14.065627379208024,
          -12.152605523878648,
          -10.239583668549258,
          -8.326561813219882,
          -6.413539957890507,
          -4.500518102561131,
          -2.5874962472317407,
          -0.6744743919023648,
          1.238547463427011,
          3.151569318756387,
          5.064591174085777,
          6.977613029415153,
          8.890634884744529,
          10.803656740073905,
          12.716678595403295,
          14.62970045073267,
          16.542722306062046,
          18.455744161391422,
          20.368766016720798,
          22.281787872050174,
          24.194809727379564,
          26.107831582708954,
          28.020853438038316,
          29.933875293367706,
          31.846897148697067,
          33.75991900402646,
          35.67294085935585,
          37.58596271468521,
          39.4989845700146,
          41.41200642534399,
          43.32502828067335,
          45.23805013600274,
          47.1510719913321,
          49.06409384666149,
          50.97711570199088,
          52.890137557320244,
          54.803159412649634,
          56.716181267978996,
          58.629203123308386,
          60.542224978637776,
          62.45524683396714,
          64.36826868929653,
          66.28129054462592,
          68.19431239995528,
          70.10733425528467,
          72.02035611061403,
          73.93337796594342,
          75.84639982127281,
          77.75942167660217,
          79.67244353193156,
          81.58546538726092,
          83.49848724259031,
          85.4115090979197,
          87.32453095324907,
          89.23755280857846,
          91.15057466390785,
          93.06359651923721,
          94.9766183745666,
          96.88964022989596,
          98.80266208522535,
          100.71568394055474,
          102.6287057958841,
          104.54172765121349,
          106.45474950654288,
          108.36777136187224,
          110.28079321720163,
          112.193815072531,
          114.10683692786039,
          116.01985878318978,
          117.93288063851914,
          119.84590249384853,
          121.75892434917789,
          123.67194620450728,
          125.58496805983667,
          127.49798991516603,
          129.4110117704954,
          131.32403362582482,
          133.2370554811542,
          135.15007733648355,
          137.0630991918129,
          138.97612104714233,
          140.8891429024717,
          142.80216475780105,
          144.71518661313047,
          146.62820846845983,
          148.5412303237892,
          150.45425217911855,
          152.36727403444797,
          154.28029588977734,
          156.1933177451067,
          158.10633960043612,
          160.01936145576548,
          161.93238331109484,
          163.84540516642426,
          165.75842702175362,
          167.67144887708298,
          169.58447073241234
         ]
        },
        {
         "marker": {
          "color": "red",
          "size": 12
         },
         "mode": "markers",
         "name": "validation",
         "type": "scatter",
         "x": [
          58.078250319999995,
          58.078250319999995
         ],
         "y": [
          -11.7,
          -0.5
         ]
        },
        {
         "marker": {
          "color": "blue",
          "size": 12
         },
         "mode": "markers",
         "name": "testing",
         "type": "scatter",
         "x": [
          16.031300127999998,
          30.046950192,
          44.062600255999996
         ],
         "y": [
          -164,
          -88.6,
          -42.1
         ]
        }
       ],
       "layout": {
        "annotations": [
         {
          "bgcolor": "rgba(0, 0, 0, 0.1)",
          "bordercolor": "rgba(0, 0, 0, 1)",
          "borderwidth": 1,
          "font": {
           "size": 16
          },
          "showarrow": false,
          "text": "Training MAE: 6.41<br>Validation MAE: 11.31<br>Testing MAE: 49.82<br>",
          "x": 50,
          "y": 150
         },
         {
          "bgcolor": "rgba(0, 0, 0, 0.1)",
          "bordercolor": "rgba(0, 0, 0, 1)",
          "font": {
           "size": 16
          },
          "showarrow": false,
          "text": "Model:<br>BP=1.91*MW-105.89<br>R<sup>2</sup>=0.96<br>",
          "x": 100,
          "y": -100
         }
        ],
        "height": 600,
        "legend": {
         "orientation": "h",
         "tracegroupgap": 0,
         "x": 0.5,
         "xanchor": "center",
         "y": 1.02,
         "yanchor": "bottom"
        },
        "margin": {
         "t": 60
        },
        "paper_bgcolor": "rgba(0, 0, 0, 0)",
        "plot_bgcolor": "rgba(0, 0, 0, 0)",
        "template": {
         "data": {
          "bar": [
           {
            "error_x": {
             "color": "#2a3f5f"
            },
            "error_y": {
             "color": "#2a3f5f"
            },
            "marker": {
             "line": {
              "color": "#E5ECF6",
              "width": 0.5
             },
             "pattern": {
              "fillmode": "overlay",
              "size": 10,
              "solidity": 0.2
             }
            },
            "type": "bar"
           }
          ],
          "barpolar": [
           {
            "marker": {
             "line": {
              "color": "#E5ECF6",
              "width": 0.5
             },
             "pattern": {
              "fillmode": "overlay",
              "size": 10,
              "solidity": 0.2
             }
            },
            "type": "barpolar"
           }
          ],
          "carpet": [
           {
            "aaxis": {
             "endlinecolor": "#2a3f5f",
             "gridcolor": "white",
             "linecolor": "white",
             "minorgridcolor": "white",
             "startlinecolor": "#2a3f5f"
            },
            "baxis": {
             "endlinecolor": "#2a3f5f",
             "gridcolor": "white",
             "linecolor": "white",
             "minorgridcolor": "white",
             "startlinecolor": "#2a3f5f"
            },
            "type": "carpet"
           }
          ],
          "choropleth": [
           {
            "colorbar": {
             "outlinewidth": 0,
             "ticks": ""
            },
            "type": "choropleth"
           }
          ],
          "contour": [
           {
            "colorbar": {
             "outlinewidth": 0,
             "ticks": ""
            },
            "colorscale": [
             [
              0,
              "#0d0887"
             ],
             [
              0.1111111111111111,
              "#46039f"
             ],
             [
              0.2222222222222222,
              "#7201a8"
             ],
             [
              0.3333333333333333,
              "#9c179e"
             ],
             [
              0.4444444444444444,
              "#bd3786"
             ],
             [
              0.5555555555555556,
              "#d8576b"
             ],
             [
              0.6666666666666666,
              "#ed7953"
             ],
             [
              0.7777777777777778,
              "#fb9f3a"
             ],
             [
              0.8888888888888888,
              "#fdca26"
             ],
             [
              1,
              "#f0f921"
             ]
            ],
            "type": "contour"
           }
          ],
          "contourcarpet": [
           {
            "colorbar": {
             "outlinewidth": 0,
             "ticks": ""
            },
            "type": "contourcarpet"
           }
          ],
          "heatmap": [
           {
            "colorbar": {
             "outlinewidth": 0,
             "ticks": ""
            },
            "colorscale": [
             [
              0,
              "#0d0887"
             ],
             [
              0.1111111111111111,
              "#46039f"
             ],
             [
              0.2222222222222222,
              "#7201a8"
             ],
             [
              0.3333333333333333,
              "#9c179e"
             ],
             [
              0.4444444444444444,
              "#bd3786"
             ],
             [
              0.5555555555555556,
              "#d8576b"
             ],
             [
              0.6666666666666666,
              "#ed7953"
             ],
             [
              0.7777777777777778,
              "#fb9f3a"
             ],
             [
              0.8888888888888888,
              "#fdca26"
             ],
             [
              1,
              "#f0f921"
             ]
            ],
            "type": "heatmap"
           }
          ],
          "heatmapgl": [
           {
            "colorbar": {
             "outlinewidth": 0,
             "ticks": ""
            },
            "colorscale": [
             [
              0,
              "#0d0887"
             ],
             [
              0.1111111111111111,
              "#46039f"
             ],
             [
              0.2222222222222222,
              "#7201a8"
             ],
             [
              0.3333333333333333,
              "#9c179e"
             ],
             [
              0.4444444444444444,
              "#bd3786"
             ],
             [
              0.5555555555555556,
              "#d8576b"
             ],
             [
              0.6666666666666666,
              "#ed7953"
             ],
             [
              0.7777777777777778,
              "#fb9f3a"
             ],
             [
              0.8888888888888888,
              "#fdca26"
             ],
             [
              1,
              "#f0f921"
             ]
            ],
            "type": "heatmapgl"
           }
          ],
          "histogram": [
           {
            "marker": {
             "pattern": {
              "fillmode": "overlay",
              "size": 10,
              "solidity": 0.2
             }
            },
            "type": "histogram"
           }
          ],
          "histogram2d": [
           {
            "colorbar": {
             "outlinewidth": 0,
             "ticks": ""
            },
            "colorscale": [
             [
              0,
              "#0d0887"
             ],
             [
              0.1111111111111111,
              "#46039f"
             ],
             [
              0.2222222222222222,
              "#7201a8"
             ],
             [
              0.3333333333333333,
              "#9c179e"
             ],
             [
              0.4444444444444444,
              "#bd3786"
             ],
             [
              0.5555555555555556,
              "#d8576b"
             ],
             [
              0.6666666666666666,
              "#ed7953"
             ],
             [
              0.7777777777777778,
              "#fb9f3a"
             ],
             [
              0.8888888888888888,
              "#fdca26"
             ],
             [
              1,
              "#f0f921"
             ]
            ],
            "type": "histogram2d"
           }
          ],
          "histogram2dcontour": [
           {
            "colorbar": {
             "outlinewidth": 0,
             "ticks": ""
            },
            "colorscale": [
             [
              0,
              "#0d0887"
             ],
             [
              0.1111111111111111,
              "#46039f"
             ],
             [
              0.2222222222222222,
              "#7201a8"
             ],
             [
              0.3333333333333333,
              "#9c179e"
             ],
             [
              0.4444444444444444,
              "#bd3786"
             ],
             [
              0.5555555555555556,
              "#d8576b"
             ],
             [
              0.6666666666666666,
              "#ed7953"
             ],
             [
              0.7777777777777778,
              "#fb9f3a"
             ],
             [
              0.8888888888888888,
              "#fdca26"
             ],
             [
              1,
              "#f0f921"
             ]
            ],
            "type": "histogram2dcontour"
           }
          ],
          "mesh3d": [
           {
            "colorbar": {
             "outlinewidth": 0,
             "ticks": ""
            },
            "type": "mesh3d"
           }
          ],
          "parcoords": [
           {
            "line": {
             "colorbar": {
              "outlinewidth": 0,
              "ticks": ""
             }
            },
            "type": "parcoords"
           }
          ],
          "pie": [
           {
            "automargin": true,
            "type": "pie"
           }
          ],
          "scatter": [
           {
            "fillpattern": {
             "fillmode": "overlay",
             "size": 10,
             "solidity": 0.2
            },
            "type": "scatter"
           }
          ],
          "scatter3d": [
           {
            "line": {
             "colorbar": {
              "outlinewidth": 0,
              "ticks": ""
             }
            },
            "marker": {
             "colorbar": {
              "outlinewidth": 0,
              "ticks": ""
             }
            },
            "type": "scatter3d"
           }
          ],
          "scattercarpet": [
           {
            "marker": {
             "colorbar": {
              "outlinewidth": 0,
              "ticks": ""
             }
            },
            "type": "scattercarpet"
           }
          ],
          "scattergeo": [
           {
            "marker": {
             "colorbar": {
              "outlinewidth": 0,
              "ticks": ""
             }
            },
            "type": "scattergeo"
           }
          ],
          "scattergl": [
           {
            "marker": {
             "colorbar": {
              "outlinewidth": 0,
              "ticks": ""
             }
            },
            "type": "scattergl"
           }
          ],
          "scattermapbox": [
           {
            "marker": {
             "colorbar": {
              "outlinewidth": 0,
              "ticks": ""
             }
            },
            "type": "scattermapbox"
           }
          ],
          "scatterpolar": [
           {
            "marker": {
             "colorbar": {
              "outlinewidth": 0,
              "ticks": ""
             }
            },
            "type": "scatterpolar"
           }
          ],
          "scatterpolargl": [
           {
            "marker": {
             "colorbar": {
              "outlinewidth": 0,
              "ticks": ""
             }
            },
            "type": "scatterpolargl"
           }
          ],
          "scatterternary": [
           {
            "marker": {
             "colorbar": {
              "outlinewidth": 0,
              "ticks": ""
             }
            },
            "type": "scatterternary"
           }
          ],
          "surface": [
           {
            "colorbar": {
             "outlinewidth": 0,
             "ticks": ""
            },
            "colorscale": [
             [
              0,
              "#0d0887"
             ],
             [
              0.1111111111111111,
              "#46039f"
             ],
             [
              0.2222222222222222,
              "#7201a8"
             ],
             [
              0.3333333333333333,
              "#9c179e"
             ],
             [
              0.4444444444444444,
              "#bd3786"
             ],
             [
              0.5555555555555556,
              "#d8576b"
             ],
             [
              0.6666666666666666,
              "#ed7953"
             ],
             [
              0.7777777777777778,
              "#fb9f3a"
             ],
             [
              0.8888888888888888,
              "#fdca26"
             ],
             [
              1,
              "#f0f921"
             ]
            ],
            "type": "surface"
           }
          ],
          "table": [
           {
            "cells": {
             "fill": {
              "color": "#EBF0F8"
             },
             "line": {
              "color": "white"
             }
            },
            "header": {
             "fill": {
              "color": "#C8D4E3"
             },
             "line": {
              "color": "white"
             }
            },
            "type": "table"
           }
          ]
         },
         "layout": {
          "annotationdefaults": {
           "arrowcolor": "#2a3f5f",
           "arrowhead": 0,
           "arrowwidth": 1
          },
          "autotypenumbers": "strict",
          "coloraxis": {
           "colorbar": {
            "outlinewidth": 0,
            "ticks": ""
           }
          },
          "colorscale": {
           "diverging": [
            [
             0,
             "#8e0152"
            ],
            [
             0.1,
             "#c51b7d"
            ],
            [
             0.2,
             "#de77ae"
            ],
            [
             0.3,
             "#f1b6da"
            ],
            [
             0.4,
             "#fde0ef"
            ],
            [
             0.5,
             "#f7f7f7"
            ],
            [
             0.6,
             "#e6f5d0"
            ],
            [
             0.7,
             "#b8e186"
            ],
            [
             0.8,
             "#7fbc41"
            ],
            [
             0.9,
             "#4d9221"
            ],
            [
             1,
             "#276419"
            ]
           ],
           "sequential": [
            [
             0,
             "#0d0887"
            ],
            [
             0.1111111111111111,
             "#46039f"
            ],
            [
             0.2222222222222222,
             "#7201a8"
            ],
            [
             0.3333333333333333,
             "#9c179e"
            ],
            [
             0.4444444444444444,
             "#bd3786"
            ],
            [
             0.5555555555555556,
             "#d8576b"
            ],
            [
             0.6666666666666666,
             "#ed7953"
            ],
            [
             0.7777777777777778,
             "#fb9f3a"
            ],
            [
             0.8888888888888888,
             "#fdca26"
            ],
            [
             1,
             "#f0f921"
            ]
           ],
           "sequentialminus": [
            [
             0,
             "#0d0887"
            ],
            [
             0.1111111111111111,
             "#46039f"
            ],
            [
             0.2222222222222222,
             "#7201a8"
            ],
            [
             0.3333333333333333,
             "#9c179e"
            ],
            [
             0.4444444444444444,
             "#bd3786"
            ],
            [
             0.5555555555555556,
             "#d8576b"
            ],
            [
             0.6666666666666666,
             "#ed7953"
            ],
            [
             0.7777777777777778,
             "#fb9f3a"
            ],
            [
             0.8888888888888888,
             "#fdca26"
            ],
            [
             1,
             "#f0f921"
            ]
           ]
          },
          "colorway": [
           "#636efa",
           "#EF553B",
           "#00cc96",
           "#ab63fa",
           "#FFA15A",
           "#19d3f3",
           "#FF6692",
           "#B6E880",
           "#FF97FF",
           "#FECB52"
          ],
          "font": {
           "color": "#2a3f5f"
          },
          "geo": {
           "bgcolor": "white",
           "lakecolor": "white",
           "landcolor": "#E5ECF6",
           "showlakes": true,
           "showland": true,
           "subunitcolor": "white"
          },
          "hoverlabel": {
           "align": "left"
          },
          "hovermode": "closest",
          "mapbox": {
           "style": "light"
          },
          "paper_bgcolor": "white",
          "plot_bgcolor": "#E5ECF6",
          "polar": {
           "angularaxis": {
            "gridcolor": "white",
            "linecolor": "white",
            "ticks": ""
           },
           "bgcolor": "#E5ECF6",
           "radialaxis": {
            "gridcolor": "white",
            "linecolor": "white",
            "ticks": ""
           }
          },
          "scene": {
           "xaxis": {
            "backgroundcolor": "#E5ECF6",
            "gridcolor": "white",
            "gridwidth": 2,
            "linecolor": "white",
            "showbackground": true,
            "ticks": "",
            "zerolinecolor": "white"
           },
           "yaxis": {
            "backgroundcolor": "#E5ECF6",
            "gridcolor": "white",
            "gridwidth": 2,
            "linecolor": "white",
            "showbackground": true,
            "ticks": "",
            "zerolinecolor": "white"
           },
           "zaxis": {
            "backgroundcolor": "#E5ECF6",
            "gridcolor": "white",
            "gridwidth": 2,
            "linecolor": "white",
            "showbackground": true,
            "ticks": "",
            "zerolinecolor": "white"
           }
          },
          "shapedefaults": {
           "line": {
            "color": "#2a3f5f"
           }
          },
          "ternary": {
           "aaxis": {
            "gridcolor": "white",
            "linecolor": "white",
            "ticks": ""
           },
           "baxis": {
            "gridcolor": "white",
            "linecolor": "white",
            "ticks": ""
           },
           "bgcolor": "#E5ECF6",
           "caxis": {
            "gridcolor": "white",
            "linecolor": "white",
            "ticks": ""
           }
          },
          "title": {
           "x": 0.05
          },
          "xaxis": {
           "automargin": true,
           "gridcolor": "white",
           "linecolor": "white",
           "ticks": "",
           "title": {
            "standoff": 15
           },
           "zerolinecolor": "white",
           "zerolinewidth": 2
          },
          "yaxis": {
           "automargin": true,
           "gridcolor": "white",
           "linecolor": "white",
           "ticks": "",
           "title": {
            "standoff": 15
           },
           "zerolinecolor": "white",
           "zerolinewidth": 2
          }
         }
        },
        "width": 600,
        "xaxis": {
         "anchor": "y",
         "domain": [
          0,
          1
         ],
         "gridcolor": "rgba(0, 0, 0, 0.15)",
         "griddash": "dash",
         "gridwidth": 1,
         "layer": "below traces",
         "linecolor": "grey",
         "linewidth": 2,
         "showgrid": true,
         "showline": true,
         "title": {
          "text": "Molecular Weight"
         },
         "zerolinecolor": "grey",
         "zerolinewidth": 1
        },
        "yaxis": {
         "anchor": "x",
         "domain": [
          0,
          1
         ],
         "gridcolor": "rgba(0, 0, 0, 0.15)",
         "griddash": "dash",
         "gridwidth": 1,
         "layer": "below traces",
         "linecolor": "grey",
         "linewidth": 2,
         "showgrid": true,
         "showline": true,
         "title": {
          "text": "Boiling Point (°C)"
         },
         "zerolinecolor": "grey",
         "zerolinewidth": 1
        }
       }
      }
     },
     "metadata": {},
     "output_type": "display_data"
    }
   ],
   "source": [
    "(\n",
    "    spex_X_train,\n",
    "    spex_X_val,\n",
    "    spex_X_test,\n",
    "    spex_y_train,\n",
    "    spex_y_val,\n",
    "    spex_y_test,\n",
    "    _,\n",
    "    _,\n",
    "    _,\n",
    ") = train_val_test_split(\n",
    "    weights.reshape(-1, 1),\n",
    "    sampler=\"sphere_exclusion\",\n",
    "    hopts=dict(\n",
    "        metric=\"euclidean\",\n",
    "        distance_cutoff=0.1,\n",
    "    ),\n",
    "    **tts_args,\n",
    ")\n",
    "scatter(\n",
    "    spex_X_train.flatten(),\n",
    "    spex_X_val.flatten(),\n",
    "    spex_X_test.flatten(),\n",
    "    spex_y_train,\n",
    "    spex_y_val,\n",
    "    spex_y_test,\n",
    ")\n"
   ]
  }
 ],
 "metadata": {
  "kernelspec": {
   "display_name": "Python 3 (ipykernel)",
   "language": "python",
   "name": "python3"
  },
  "language_info": {
   "codemirror_mode": {
    "name": "ipython",
    "version": 3
   },
   "file_extension": ".py",
   "mimetype": "text/x-python",
   "name": "python",
   "nbconvert_exporter": "python",
   "pygments_lexer": "ipython3",
   "version": "3.11.3"
  }
 },
 "nbformat": 4,
 "nbformat_minor": 5
}
