{
 "cells": [
  {
   "attachments": {},
   "cell_type": "markdown",
   "id": "9feb8e56",
   "metadata": {},
   "source": [
    "# Better Data Splits for Machine Learning with `astartes`\n",
    "\n",
    "acyclic molecules and boiling point trainset0\n",
    "https://brunl01.users.greyc.fr/CHEMISTRY/\n",
    "\n",
    "molplotly"
   ]
  },
  {
   "cell_type": "code",
   "execution_count": 1,
   "id": "91321870",
   "metadata": {},
   "outputs": [
    {
     "data": {
      "text/html": [
       "<div>\n",
       "<style scoped>\n",
       "    .dataframe tbody tr th:only-of-type {\n",
       "        vertical-align: middle;\n",
       "    }\n",
       "\n",
       "    .dataframe tbody tr th {\n",
       "        vertical-align: top;\n",
       "    }\n",
       "\n",
       "    .dataframe thead th {\n",
       "        text-align: right;\n",
       "    }\n",
       "</style>\n",
       "<table border=\"1\" class=\"dataframe\">\n",
       "  <thead>\n",
       "    <tr style=\"text-align: right;\">\n",
       "      <th></th>\n",
       "      <th>iupac_name</th>\n",
       "      <th>boiling_point</th>\n",
       "    </tr>\n",
       "  </thead>\n",
       "  <tbody>\n",
       "    <tr>\n",
       "      <th>0</th>\n",
       "      <td>ethylmethylether</td>\n",
       "      <td>10.80</td>\n",
       "    </tr>\n",
       "    <tr>\n",
       "      <th>1</th>\n",
       "      <td>diethylether</td>\n",
       "      <td>34.60</td>\n",
       "    </tr>\n",
       "    <tr>\n",
       "      <th>2</th>\n",
       "      <td>isopropylmethylether</td>\n",
       "      <td>32.00</td>\n",
       "    </tr>\n",
       "    <tr>\n",
       "      <th>3</th>\n",
       "      <td>butylmethylether</td>\n",
       "      <td>70.30</td>\n",
       "    </tr>\n",
       "    <tr>\n",
       "      <th>4</th>\n",
       "      <td>ethylpropylether</td>\n",
       "      <td>63.60</td>\n",
       "    </tr>\n",
       "    <tr>\n",
       "      <th>...</th>\n",
       "      <td>...</td>\n",
       "      <td>...</td>\n",
       "    </tr>\n",
       "    <tr>\n",
       "      <th>110</th>\n",
       "      <td>2,2,5,5-tetramethylhexane</td>\n",
       "      <td>137.46</td>\n",
       "    </tr>\n",
       "    <tr>\n",
       "      <th>111</th>\n",
       "      <td>2,2,5-trimethylheptane</td>\n",
       "      <td>148.00</td>\n",
       "    </tr>\n",
       "    <tr>\n",
       "      <th>112</th>\n",
       "      <td>2,5,5-trimethylheptane</td>\n",
       "      <td>152.80</td>\n",
       "    </tr>\n",
       "    <tr>\n",
       "      <th>113</th>\n",
       "      <td>2,2,6-trimethylheptane</td>\n",
       "      <td>148.20</td>\n",
       "    </tr>\n",
       "    <tr>\n",
       "      <th>114</th>\n",
       "      <td>2,2-dimethyloctane</td>\n",
       "      <td>155.00</td>\n",
       "    </tr>\n",
       "  </tbody>\n",
       "</table>\n",
       "<p>115 rows × 2 columns</p>\n",
       "</div>"
      ],
      "text/plain": [
       "                    iupac_name  boiling_point\n",
       "0             ethylmethylether          10.80\n",
       "1                 diethylether          34.60\n",
       "2         isopropylmethylether          32.00\n",
       "3             butylmethylether          70.30\n",
       "4             ethylpropylether          63.60\n",
       "..                         ...            ...\n",
       "110  2,2,5,5-tetramethylhexane         137.46\n",
       "111     2,2,5-trimethylheptane         148.00\n",
       "112     2,5,5-trimethylheptane         152.80\n",
       "113     2,2,6-trimethylheptane         148.20\n",
       "114         2,2-dimethyloctane         155.00\n",
       "\n",
       "[115 rows x 2 columns]"
      ]
     },
     "execution_count": 1,
     "metadata": {},
     "output_type": "execute_result"
    }
   ],
   "source": [
    "import pandas as pd\n",
    "\n",
    "with open(\"iupac_and_boiling.csv\", \"r\") as f:\n",
    "    data = pd.read_csv(f, sep=\"   \", engine=\"python\")\n",
    "data\n"
   ]
  },
  {
   "attachments": {},
   "cell_type": "markdown",
   "id": "dfd196dc",
   "metadata": {},
   "source": [
    "use py2opsin to convert the IUPAC names into smiles strings"
   ]
  },
  {
   "cell_type": "code",
   "execution_count": 2,
   "id": "82a58e02",
   "metadata": {},
   "outputs": [],
   "source": [
    "from py2opsin import py2opsin\n",
    "\n",
    "data[\"smiles\"] = py2opsin(data[\"iupac_name\"])\n"
   ]
  },
  {
   "cell_type": "code",
   "execution_count": 3,
   "id": "215c964e",
   "metadata": {},
   "outputs": [],
   "source": [
    "from astartes.molecules import train_val_test_split\n",
    "from rdkit.Chem.Descriptors import ExactMolWt\n",
    "from rdkit.Chem import MolFromSmiles\n",
    "import numpy as np\n",
    "\n",
    "weights = []\n",
    "for smi in data[\"smiles\"]:\n",
    "    weights.append(ExactMolWt(MolFromSmiles(smi)))\n",
    "weights = np.array(weights)\n",
    "\n",
    "tts_args = dict(\n",
    "    y=data[\"boiling_point\"].to_numpy(),\n",
    "    train_size=0.8,\n",
    "    test_size=0.1,\n",
    "    val_size=0.1,\n",
    ")\n",
    "\n",
    "(\n",
    "    X_train,\n",
    "    X_val,\n",
    "    X_test,\n",
    "    y_train,\n",
    "    y_val,\n",
    "    y_test,\n",
    ") = train_val_test_split(\n",
    "    weights,\n",
    "    **tts_args,\n",
    ")\n"
   ]
  },
  {
   "cell_type": "code",
   "execution_count": 4,
   "metadata": {},
   "outputs": [],
   "source": [
    "import plotly.graph_objects as go\n",
    "import plotly.express as px\n",
    "from scipy.optimize import curve_fit\n",
    "from sklearn.metrics import mean_absolute_error\n",
    "\n",
    "def model(x, a, b):\n",
    "    return a**(x+b)\n",
    "\n",
    "\n",
    "def scatter(X_train, X_val, X_test, y_train, y_val, y_test):\n",
    "    fig = px.scatter(\n",
    "        x=X_train,\n",
    "        y=y_train,\n",
    "    )\n",
    "    params, _ = curve_fit(model, X_train, y_train)\n",
    "    print(\"Validation MAE:\", mean_absolute_error(y_val, model(X_val,*params)))\n",
    "    print(\"Testing MAE:\", mean_absolute_error(y_test, model(X_test,*params)))\n",
    "    regression_xdata = np.arange(40,160,1)\n",
    "    regression_y_data = np.array([model(i,*params) for i in regression_xdata])\n",
    "    fig.add_trace(\n",
    "        go.Scatter(\n",
    "            x=regression_xdata,\n",
    "            y=regression_y_data,\n",
    "            mode=\"lines\",\n",
    "            name=\"model prediction\",\n",
    "            \n",
    "        )\n",
    "    )\n",
    "    fig.add_trace(\n",
    "        go.Scatter(\n",
    "            x=X_val,\n",
    "            y=y_val,\n",
    "            mode=\"markers\",\n",
    "            name=\"validation\",\n",
    "        )\n",
    "    )\n",
    "    fig.add_trace(\n",
    "        go.Scatter(\n",
    "            x=X_test,\n",
    "            y=y_test,\n",
    "            mode=\"markers\",\n",
    "            name=\"testing\",\n",
    "        )\n",
    "    )\n",
    "    fig.update_layout(\n",
    "        dict(\n",
    "            plot_bgcolor=\"rgba(0, 0, 0, 0)\",\n",
    "            paper_bgcolor=\"rgba(0, 0, 0, 0)\",\n",
    "            height=800,\n",
    "            width=800,\n",
    "        ),\n",
    "        legend=dict(\n",
    "            orientation=\"h\",\n",
    "            yanchor=\"bottom\",\n",
    "            y=1.02,\n",
    "            xanchor=\"center\",\n",
    "            x=0.5,\n",
    "        ),\n",
    "    )\n",
    "    ax_args = dict(\n",
    "        showline=True,\n",
    "        linewidth=2,\n",
    "        linecolor=\"grey\",\n",
    "        gridwidth=1,\n",
    "        showgrid=True,\n",
    "        gridcolor=\"grey\",\n",
    "        zerolinecolor=\"grey\",\n",
    "        zerolinewidth=1,\n",
    "    )\n",
    "    fig.update_xaxes(title=\"Molecular Weight\", **ax_args)\n",
    "    fig.update_yaxes(title=\"Boiling Point (°C)\", **ax_args)\n",
    "    fig.show()"
   ]
  },
  {
   "cell_type": "code",
   "execution_count": 5,
   "id": "e9b7b993",
   "metadata": {},
   "outputs": [
    {
     "name": "stdout",
     "output_type": "stream",
     "text": [
      "Validation MAE: 10.352598175092146\n",
      "Testing MAE: 9.478193874530506\n"
     ]
    },
    {
     "data": {
      "application/vnd.plotly.v1+json": {
       "config": {
        "plotlyServerURL": "https://plot.ly"
       },
       "data": [
        {
         "hovertemplate": "x=%{x}<br>y=%{y}<extra></extra>",
         "legendgroup": "",
         "marker": {
          "color": "#636efa",
          "symbol": "circle"
         },
         "mode": "markers",
         "name": "",
         "orientation": "v",
         "showlegend": false,
         "type": "scatter",
         "x": [
          88.088815004,
          144.15141526,
          128.15650064,
          102.104465068,
          144.15141526,
          128.15650064,
          128.15650064,
          158.167065324,
          102.104465068,
          142.172150704,
          130.135765196,
          142.172150704,
          142.172150704,
          116.120115132,
          60.057514876,
          128.15650064,
          116.120115132,
          142.172150704,
          46.041864812,
          142.172150704,
          142.172150704,
          102.104465068,
          130.135765196,
          128.15650064,
          142.172150704,
          142.172150704,
          116.120115132,
          144.15141526,
          142.172150704,
          128.15650064,
          102.104465068,
          130.135765196,
          142.172150704,
          102.104465068,
          130.135765196,
          128.15650064,
          128.15650064,
          130.135765196,
          144.15141526,
          88.088815004,
          128.15650064,
          128.15650064,
          130.135765196,
          130.135765196,
          102.104465068,
          142.172150704,
          130.135765196,
          128.15650064,
          88.088815004,
          144.15141526,
          128.15650064,
          142.172150704,
          116.120115132,
          116.120115132,
          142.172150704,
          142.172150704,
          116.120115132,
          88.088815004,
          142.172150704,
          158.167065324,
          102.104465068,
          128.15650064,
          116.120115132,
          88.088815004,
          102.104465068,
          130.135765196,
          142.172150704,
          88.088815004,
          128.15650064,
          142.172150704,
          142.172150704,
          128.15650064,
          158.167065324,
          128.15650064,
          144.15141526,
          128.15650064,
          128.15650064,
          142.172150704,
          128.15650064,
          142.172150704,
          144.15141526,
          128.15650064,
          158.167065324,
          142.172150704,
          128.15650064,
          128.15650064,
          130.135765196,
          142.172150704,
          128.15650064,
          128.15650064,
          142.172150704,
          130.135765196
         ],
         "xaxis": "x",
         "y": [
          63.6,
          165.5,
          140.1,
          92.3,
          173,
          140.4,
          131.3,
          186.5,
          90.1,
          160.1,
          106,
          168,
          148.2,
          125,
          10.8,
          133.8,
          101,
          147.7,
          -23.7,
          165,
          152.8,
          80.2,
          130.5,
          140.5,
          164,
          158,
          102.5,
          153.5,
          153,
          142.4,
          69,
          132,
          158,
          99.5,
          122,
          140.6,
          136.73,
          142,
          139,
          52.5,
          122.7,
          139,
          128.5,
          112,
          86.3,
          137.46,
          121,
          126.5,
          59.5,
          163,
          138,
          148.2,
          99.3,
          118,
          158,
          164,
          87.6,
          55.2,
          170.5,
          186.8,
          82,
          141.2,
          97.4,
          70.3,
          82,
          151,
          155.3,
          59,
          136,
          169.44,
          148.4,
          141.6,
          173,
          142.8,
          155.5,
          143.3,
          135.2,
          148,
          143,
          162.2,
          157,
          124,
          173.2,
          170,
          126.5,
          135.2,
          125,
          155.68,
          132.7,
          146.2,
          164.59,
          114.5
         ],
         "yaxis": "y"
        },
        {
         "mode": "lines",
         "name": "model prediction",
         "type": "scatter",
         "x": [
          40,
          41,
          42,
          43,
          44,
          45,
          46,
          47,
          48,
          49,
          50,
          51,
          52,
          53,
          54,
          55,
          56,
          57,
          58,
          59,
          60,
          61,
          62,
          63,
          64,
          65,
          66,
          67,
          68,
          69,
          70,
          71,
          72,
          73,
          74,
          75,
          76,
          77,
          78,
          79,
          80,
          81,
          82,
          83,
          84,
          85,
          86,
          87,
          88,
          89,
          90,
          91,
          92,
          93,
          94,
          95,
          96,
          97,
          98,
          99,
          100,
          101,
          102,
          103,
          104,
          105,
          106,
          107,
          108,
          109,
          110,
          111,
          112,
          113,
          114,
          115,
          116,
          117,
          118,
          119,
          120,
          121,
          122,
          123,
          124,
          125,
          126,
          127,
          128,
          129,
          130,
          131,
          132,
          133,
          134,
          135,
          136,
          137,
          138,
          139,
          140,
          141,
          142,
          143,
          144,
          145,
          146,
          147,
          148,
          149,
          150,
          151,
          152,
          153,
          154,
          155,
          156,
          157,
          158,
          159
         ],
         "y": [
          33.64763992708117,
          34.15761219034085,
          34.67531372405925,
          35.20086167504245,
          35.73437496560355,
          36.27597432047276,
          36.82578229411528,
          37.383923298463195,
          37.950523631067774,
          38.52571150367838,
          39.10961707125453,
          39.7023724614177,
          40.30411180434951,
          40.914971263143,
          41.53508906461401,
          42.16460553057944,
          42.80366310960966,
          43.45240640926212,
          44.11098222880349,
          44.77953959242783,
          45.45822978297807,
          46.14720637617876,
          46.8466252753875,
          47.556644746873225,
          48.27742545562896,
          49.00913050172766,
          49.75192545722881,
          50.5059784036445,
          51.271459969973336,
          52.04854337131082,
          52.83740444804487,
          53.638221705645435,
          54.451176355057164,
          55.27645235370427,
          56.1142364471169,
          56.96471821118835,
          57.82809009507279,
          58.70454746473316,
          59.59428864714904,
          60.49751497519461,
          61.41443083319674,
          62.34524370318358,
          63.290164211834146,
          64.24940617813942,
          65.22318666178592,
          66.21172601227238,
          67.21524791877114,
          68.23397946074498,
          69.2681511593313,
          70.317997029505,
          71.38375463303194,
          72.46566513222513,
          73.56397334451538,
          74.67892779784935,
          75.810780786927,
          76.95978843029148,
          78.12621072828432,
          79.31031162187891,
          80.51235905240574,
          81.73262502218286,
          82.97138565606524,
          84.22892126392698,
          85.50551640409056,
          86.80145994771739,
          88.11704514417434,
          89.45256968739088,
          90.80833578322208,
          92.18465021783246,
          93.58182442711637,
          95.0001745671705,
          96.4400215858344,
          97.90169129531546,
          99.38551444591445,
          100.89182680086859,
          102.42096921232881,
          103.97328769848875,
          105.5491335218825,
          107.14886326886929,
          108.77283893032268,
          110.42142798354276,
          112.09500347540987,
          113.7939441067986,
          115.51863431827114,
          117.26946437706944,
          119.04683046542594,
          120.85113477021261,
          122.68278557394883,
          124.54219734718863,
          126.42979084230807,
          128.34599318871412,
          130.29123798949672,
          132.2659654195454,
          134.27062232515334,
          136.30566232513064,
          138.3715459134506,
          140.46874056345123,
          142.59772083361645,
          144.7589684749603,
          146.95297254003873,
          149.18022949361378,
          151.44124332499473,
          153.73652566208213,
          156.06659588714035,
          158.43198125432448,
          160.83321700898892,
          163.270846508804,
          165.74542134670827,
          168.25750147572438,
          170.80765533566665,
          173.39645998176906,
          176.02450121526277,
          178.6923737159327,
          181.40068117668312,
          184.1500364401429,
          186.941061637341,
          189.7743883284838,
          192.6506576458663,
          195.57052043894896,
          198.53463742163373,
          201.54367932177192
         ]
        },
        {
         "mode": "markers",
         "name": "validation",
         "type": "scatter",
         "x": [
          130.135765196,
          142.172150704,
          74.07316494,
          158.167065324,
          116.120115132,
          74.07316494,
          116.120115132,
          142.172150704,
          142.172150704,
          142.172150704,
          128.15650064
         ],
         "y": [
          125,
          169,
          34.6,
          174,
          107,
          32,
          112,
          153,
          154.9,
          153.3,
          136
         ]
        },
        {
         "mode": "markers",
         "name": "testing",
         "type": "scatter",
         "x": [
          142.172150704,
          142.172150704,
          142.172150704,
          116.120115132,
          128.15650064,
          128.15650064,
          142.172150704,
          102.104465068,
          142.172150704,
          158.167065324,
          142.172150704,
          128.15650064
         ],
         "y": [
          159.29,
          166.05,
          155,
          117.1,
          137.3,
          133.5,
          147,
          91.2,
          159,
          187,
          174,
          150.77
         ]
        }
       ],
       "layout": {
        "height": 800,
        "legend": {
         "orientation": "h",
         "tracegroupgap": 0,
         "x": 0.5,
         "xanchor": "center",
         "y": 1.02,
         "yanchor": "bottom"
        },
        "margin": {
         "t": 60
        },
        "paper_bgcolor": "rgba(0, 0, 0, 0)",
        "plot_bgcolor": "rgba(0, 0, 0, 0)",
        "template": {
         "data": {
          "bar": [
           {
            "error_x": {
             "color": "#2a3f5f"
            },
            "error_y": {
             "color": "#2a3f5f"
            },
            "marker": {
             "line": {
              "color": "#E5ECF6",
              "width": 0.5
             },
             "pattern": {
              "fillmode": "overlay",
              "size": 10,
              "solidity": 0.2
             }
            },
            "type": "bar"
           }
          ],
          "barpolar": [
           {
            "marker": {
             "line": {
              "color": "#E5ECF6",
              "width": 0.5
             },
             "pattern": {
              "fillmode": "overlay",
              "size": 10,
              "solidity": 0.2
             }
            },
            "type": "barpolar"
           }
          ],
          "carpet": [
           {
            "aaxis": {
             "endlinecolor": "#2a3f5f",
             "gridcolor": "white",
             "linecolor": "white",
             "minorgridcolor": "white",
             "startlinecolor": "#2a3f5f"
            },
            "baxis": {
             "endlinecolor": "#2a3f5f",
             "gridcolor": "white",
             "linecolor": "white",
             "minorgridcolor": "white",
             "startlinecolor": "#2a3f5f"
            },
            "type": "carpet"
           }
          ],
          "choropleth": [
           {
            "colorbar": {
             "outlinewidth": 0,
             "ticks": ""
            },
            "type": "choropleth"
           }
          ],
          "contour": [
           {
            "colorbar": {
             "outlinewidth": 0,
             "ticks": ""
            },
            "colorscale": [
             [
              0,
              "#0d0887"
             ],
             [
              0.1111111111111111,
              "#46039f"
             ],
             [
              0.2222222222222222,
              "#7201a8"
             ],
             [
              0.3333333333333333,
              "#9c179e"
             ],
             [
              0.4444444444444444,
              "#bd3786"
             ],
             [
              0.5555555555555556,
              "#d8576b"
             ],
             [
              0.6666666666666666,
              "#ed7953"
             ],
             [
              0.7777777777777778,
              "#fb9f3a"
             ],
             [
              0.8888888888888888,
              "#fdca26"
             ],
             [
              1,
              "#f0f921"
             ]
            ],
            "type": "contour"
           }
          ],
          "contourcarpet": [
           {
            "colorbar": {
             "outlinewidth": 0,
             "ticks": ""
            },
            "type": "contourcarpet"
           }
          ],
          "heatmap": [
           {
            "colorbar": {
             "outlinewidth": 0,
             "ticks": ""
            },
            "colorscale": [
             [
              0,
              "#0d0887"
             ],
             [
              0.1111111111111111,
              "#46039f"
             ],
             [
              0.2222222222222222,
              "#7201a8"
             ],
             [
              0.3333333333333333,
              "#9c179e"
             ],
             [
              0.4444444444444444,
              "#bd3786"
             ],
             [
              0.5555555555555556,
              "#d8576b"
             ],
             [
              0.6666666666666666,
              "#ed7953"
             ],
             [
              0.7777777777777778,
              "#fb9f3a"
             ],
             [
              0.8888888888888888,
              "#fdca26"
             ],
             [
              1,
              "#f0f921"
             ]
            ],
            "type": "heatmap"
           }
          ],
          "heatmapgl": [
           {
            "colorbar": {
             "outlinewidth": 0,
             "ticks": ""
            },
            "colorscale": [
             [
              0,
              "#0d0887"
             ],
             [
              0.1111111111111111,
              "#46039f"
             ],
             [
              0.2222222222222222,
              "#7201a8"
             ],
             [
              0.3333333333333333,
              "#9c179e"
             ],
             [
              0.4444444444444444,
              "#bd3786"
             ],
             [
              0.5555555555555556,
              "#d8576b"
             ],
             [
              0.6666666666666666,
              "#ed7953"
             ],
             [
              0.7777777777777778,
              "#fb9f3a"
             ],
             [
              0.8888888888888888,
              "#fdca26"
             ],
             [
              1,
              "#f0f921"
             ]
            ],
            "type": "heatmapgl"
           }
          ],
          "histogram": [
           {
            "marker": {
             "pattern": {
              "fillmode": "overlay",
              "size": 10,
              "solidity": 0.2
             }
            },
            "type": "histogram"
           }
          ],
          "histogram2d": [
           {
            "colorbar": {
             "outlinewidth": 0,
             "ticks": ""
            },
            "colorscale": [
             [
              0,
              "#0d0887"
             ],
             [
              0.1111111111111111,
              "#46039f"
             ],
             [
              0.2222222222222222,
              "#7201a8"
             ],
             [
              0.3333333333333333,
              "#9c179e"
             ],
             [
              0.4444444444444444,
              "#bd3786"
             ],
             [
              0.5555555555555556,
              "#d8576b"
             ],
             [
              0.6666666666666666,
              "#ed7953"
             ],
             [
              0.7777777777777778,
              "#fb9f3a"
             ],
             [
              0.8888888888888888,
              "#fdca26"
             ],
             [
              1,
              "#f0f921"
             ]
            ],
            "type": "histogram2d"
           }
          ],
          "histogram2dcontour": [
           {
            "colorbar": {
             "outlinewidth": 0,
             "ticks": ""
            },
            "colorscale": [
             [
              0,
              "#0d0887"
             ],
             [
              0.1111111111111111,
              "#46039f"
             ],
             [
              0.2222222222222222,
              "#7201a8"
             ],
             [
              0.3333333333333333,
              "#9c179e"
             ],
             [
              0.4444444444444444,
              "#bd3786"
             ],
             [
              0.5555555555555556,
              "#d8576b"
             ],
             [
              0.6666666666666666,
              "#ed7953"
             ],
             [
              0.7777777777777778,
              "#fb9f3a"
             ],
             [
              0.8888888888888888,
              "#fdca26"
             ],
             [
              1,
              "#f0f921"
             ]
            ],
            "type": "histogram2dcontour"
           }
          ],
          "mesh3d": [
           {
            "colorbar": {
             "outlinewidth": 0,
             "ticks": ""
            },
            "type": "mesh3d"
           }
          ],
          "parcoords": [
           {
            "line": {
             "colorbar": {
              "outlinewidth": 0,
              "ticks": ""
             }
            },
            "type": "parcoords"
           }
          ],
          "pie": [
           {
            "automargin": true,
            "type": "pie"
           }
          ],
          "scatter": [
           {
            "fillpattern": {
             "fillmode": "overlay",
             "size": 10,
             "solidity": 0.2
            },
            "type": "scatter"
           }
          ],
          "scatter3d": [
           {
            "line": {
             "colorbar": {
              "outlinewidth": 0,
              "ticks": ""
             }
            },
            "marker": {
             "colorbar": {
              "outlinewidth": 0,
              "ticks": ""
             }
            },
            "type": "scatter3d"
           }
          ],
          "scattercarpet": [
           {
            "marker": {
             "colorbar": {
              "outlinewidth": 0,
              "ticks": ""
             }
            },
            "type": "scattercarpet"
           }
          ],
          "scattergeo": [
           {
            "marker": {
             "colorbar": {
              "outlinewidth": 0,
              "ticks": ""
             }
            },
            "type": "scattergeo"
           }
          ],
          "scattergl": [
           {
            "marker": {
             "colorbar": {
              "outlinewidth": 0,
              "ticks": ""
             }
            },
            "type": "scattergl"
           }
          ],
          "scattermapbox": [
           {
            "marker": {
             "colorbar": {
              "outlinewidth": 0,
              "ticks": ""
             }
            },
            "type": "scattermapbox"
           }
          ],
          "scatterpolar": [
           {
            "marker": {
             "colorbar": {
              "outlinewidth": 0,
              "ticks": ""
             }
            },
            "type": "scatterpolar"
           }
          ],
          "scatterpolargl": [
           {
            "marker": {
             "colorbar": {
              "outlinewidth": 0,
              "ticks": ""
             }
            },
            "type": "scatterpolargl"
           }
          ],
          "scatterternary": [
           {
            "marker": {
             "colorbar": {
              "outlinewidth": 0,
              "ticks": ""
             }
            },
            "type": "scatterternary"
           }
          ],
          "surface": [
           {
            "colorbar": {
             "outlinewidth": 0,
             "ticks": ""
            },
            "colorscale": [
             [
              0,
              "#0d0887"
             ],
             [
              0.1111111111111111,
              "#46039f"
             ],
             [
              0.2222222222222222,
              "#7201a8"
             ],
             [
              0.3333333333333333,
              "#9c179e"
             ],
             [
              0.4444444444444444,
              "#bd3786"
             ],
             [
              0.5555555555555556,
              "#d8576b"
             ],
             [
              0.6666666666666666,
              "#ed7953"
             ],
             [
              0.7777777777777778,
              "#fb9f3a"
             ],
             [
              0.8888888888888888,
              "#fdca26"
             ],
             [
              1,
              "#f0f921"
             ]
            ],
            "type": "surface"
           }
          ],
          "table": [
           {
            "cells": {
             "fill": {
              "color": "#EBF0F8"
             },
             "line": {
              "color": "white"
             }
            },
            "header": {
             "fill": {
              "color": "#C8D4E3"
             },
             "line": {
              "color": "white"
             }
            },
            "type": "table"
           }
          ]
         },
         "layout": {
          "annotationdefaults": {
           "arrowcolor": "#2a3f5f",
           "arrowhead": 0,
           "arrowwidth": 1
          },
          "autotypenumbers": "strict",
          "coloraxis": {
           "colorbar": {
            "outlinewidth": 0,
            "ticks": ""
           }
          },
          "colorscale": {
           "diverging": [
            [
             0,
             "#8e0152"
            ],
            [
             0.1,
             "#c51b7d"
            ],
            [
             0.2,
             "#de77ae"
            ],
            [
             0.3,
             "#f1b6da"
            ],
            [
             0.4,
             "#fde0ef"
            ],
            [
             0.5,
             "#f7f7f7"
            ],
            [
             0.6,
             "#e6f5d0"
            ],
            [
             0.7,
             "#b8e186"
            ],
            [
             0.8,
             "#7fbc41"
            ],
            [
             0.9,
             "#4d9221"
            ],
            [
             1,
             "#276419"
            ]
           ],
           "sequential": [
            [
             0,
             "#0d0887"
            ],
            [
             0.1111111111111111,
             "#46039f"
            ],
            [
             0.2222222222222222,
             "#7201a8"
            ],
            [
             0.3333333333333333,
             "#9c179e"
            ],
            [
             0.4444444444444444,
             "#bd3786"
            ],
            [
             0.5555555555555556,
             "#d8576b"
            ],
            [
             0.6666666666666666,
             "#ed7953"
            ],
            [
             0.7777777777777778,
             "#fb9f3a"
            ],
            [
             0.8888888888888888,
             "#fdca26"
            ],
            [
             1,
             "#f0f921"
            ]
           ],
           "sequentialminus": [
            [
             0,
             "#0d0887"
            ],
            [
             0.1111111111111111,
             "#46039f"
            ],
            [
             0.2222222222222222,
             "#7201a8"
            ],
            [
             0.3333333333333333,
             "#9c179e"
            ],
            [
             0.4444444444444444,
             "#bd3786"
            ],
            [
             0.5555555555555556,
             "#d8576b"
            ],
            [
             0.6666666666666666,
             "#ed7953"
            ],
            [
             0.7777777777777778,
             "#fb9f3a"
            ],
            [
             0.8888888888888888,
             "#fdca26"
            ],
            [
             1,
             "#f0f921"
            ]
           ]
          },
          "colorway": [
           "#636efa",
           "#EF553B",
           "#00cc96",
           "#ab63fa",
           "#FFA15A",
           "#19d3f3",
           "#FF6692",
           "#B6E880",
           "#FF97FF",
           "#FECB52"
          ],
          "font": {
           "color": "#2a3f5f"
          },
          "geo": {
           "bgcolor": "white",
           "lakecolor": "white",
           "landcolor": "#E5ECF6",
           "showlakes": true,
           "showland": true,
           "subunitcolor": "white"
          },
          "hoverlabel": {
           "align": "left"
          },
          "hovermode": "closest",
          "mapbox": {
           "style": "light"
          },
          "paper_bgcolor": "white",
          "plot_bgcolor": "#E5ECF6",
          "polar": {
           "angularaxis": {
            "gridcolor": "white",
            "linecolor": "white",
            "ticks": ""
           },
           "bgcolor": "#E5ECF6",
           "radialaxis": {
            "gridcolor": "white",
            "linecolor": "white",
            "ticks": ""
           }
          },
          "scene": {
           "xaxis": {
            "backgroundcolor": "#E5ECF6",
            "gridcolor": "white",
            "gridwidth": 2,
            "linecolor": "white",
            "showbackground": true,
            "ticks": "",
            "zerolinecolor": "white"
           },
           "yaxis": {
            "backgroundcolor": "#E5ECF6",
            "gridcolor": "white",
            "gridwidth": 2,
            "linecolor": "white",
            "showbackground": true,
            "ticks": "",
            "zerolinecolor": "white"
           },
           "zaxis": {
            "backgroundcolor": "#E5ECF6",
            "gridcolor": "white",
            "gridwidth": 2,
            "linecolor": "white",
            "showbackground": true,
            "ticks": "",
            "zerolinecolor": "white"
           }
          },
          "shapedefaults": {
           "line": {
            "color": "#2a3f5f"
           }
          },
          "ternary": {
           "aaxis": {
            "gridcolor": "white",
            "linecolor": "white",
            "ticks": ""
           },
           "baxis": {
            "gridcolor": "white",
            "linecolor": "white",
            "ticks": ""
           },
           "bgcolor": "#E5ECF6",
           "caxis": {
            "gridcolor": "white",
            "linecolor": "white",
            "ticks": ""
           }
          },
          "title": {
           "x": 0.05
          },
          "xaxis": {
           "automargin": true,
           "gridcolor": "white",
           "linecolor": "white",
           "ticks": "",
           "title": {
            "standoff": 15
           },
           "zerolinecolor": "white",
           "zerolinewidth": 2
          },
          "yaxis": {
           "automargin": true,
           "gridcolor": "white",
           "linecolor": "white",
           "ticks": "",
           "title": {
            "standoff": 15
           },
           "zerolinecolor": "white",
           "zerolinewidth": 2
          }
         }
        },
        "width": 800,
        "xaxis": {
         "anchor": "y",
         "domain": [
          0,
          1
         ],
         "gridcolor": "grey",
         "gridwidth": 1,
         "linecolor": "grey",
         "linewidth": 2,
         "showgrid": true,
         "showline": true,
         "title": {
          "text": "Molecular Weight"
         },
         "zerolinecolor": "grey",
         "zerolinewidth": 1
        },
        "yaxis": {
         "anchor": "x",
         "domain": [
          0,
          1
         ],
         "gridcolor": "grey",
         "gridwidth": 1,
         "linecolor": "grey",
         "linewidth": 2,
         "showgrid": true,
         "showline": true,
         "title": {
          "text": "Boiling Point (°C)"
         },
         "zerolinecolor": "grey",
         "zerolinewidth": 1
        }
       }
      }
     },
     "metadata": {},
     "output_type": "display_data"
    }
   ],
   "source": [
    "scatter(\n",
    "    X_train,\n",
    "    X_val,\n",
    "    X_test,\n",
    "    y_train,\n",
    "    y_val,\n",
    "    y_test,\n",
    ")"
   ]
  },
  {
   "cell_type": "code",
   "execution_count": 6,
   "id": "a31007e4",
   "metadata": {},
   "outputs": [
    {
     "name": "stdout",
     "output_type": "stream",
     "text": [
      "Validation MAE: 9.166684669711474\n",
      "Testing MAE: 6.091710058627203\n"
     ]
    },
    {
     "data": {
      "application/vnd.plotly.v1+json": {
       "config": {
        "plotlyServerURL": "https://plot.ly"
       },
       "data": [
        {
         "hovertemplate": "x=%{x}<br>y=%{y}<extra></extra>",
         "legendgroup": "",
         "marker": {
          "color": "#636efa",
          "symbol": "circle"
         },
         "mode": "markers",
         "name": "",
         "orientation": "v",
         "showlegend": false,
         "type": "scatter",
         "x": [
          158.167065324,
          46.041864812,
          102.104465068,
          74.07316494,
          130.135765196,
          60.057514876,
          88.088815004,
          116.120115132,
          144.15141526,
          128.15650064,
          142.172150704,
          74.07316494,
          88.088815004,
          88.088815004,
          88.088815004,
          88.088815004,
          88.088815004,
          102.104465068,
          102.104465068,
          102.104465068,
          102.104465068,
          102.104465068,
          102.104465068,
          102.104465068,
          102.104465068,
          116.120115132,
          116.120115132,
          116.120115132,
          116.120115132,
          116.120115132,
          116.120115132,
          116.120115132,
          116.120115132,
          116.120115132,
          130.135765196,
          130.135765196,
          130.135765196,
          130.135765196,
          130.135765196,
          130.135765196,
          130.135765196,
          130.135765196,
          130.135765196,
          130.135765196,
          130.135765196,
          144.15141526,
          144.15141526,
          144.15141526,
          144.15141526,
          144.15141526,
          144.15141526,
          158.167065324,
          158.167065324,
          158.167065324,
          158.167065324,
          158.167065324,
          128.15650064,
          128.15650064,
          128.15650064,
          128.15650064,
          128.15650064,
          128.15650064,
          128.15650064,
          128.15650064,
          128.15650064,
          128.15650064,
          128.15650064,
          128.15650064,
          128.15650064,
          128.15650064,
          128.15650064,
          128.15650064,
          128.15650064,
          128.15650064,
          128.15650064,
          128.15650064,
          128.15650064,
          128.15650064,
          128.15650064,
          128.15650064,
          128.15650064,
          128.15650064,
          128.15650064,
          142.172150704,
          142.172150704,
          142.172150704,
          142.172150704,
          142.172150704,
          142.172150704,
          142.172150704,
          142.172150704,
          142.172150704
         ],
         "xaxis": "x",
         "y": [
          186.5,
          -23.7,
          99.5,
          34.6,
          142,
          10.8,
          70.3,
          125,
          165.5,
          141.6,
          166.05,
          32,
          63.6,
          52.5,
          59,
          59.5,
          55.2,
          92.3,
          90.1,
          80.2,
          82,
          91.2,
          69,
          86.3,
          82,
          118,
          117.1,
          107,
          102.5,
          112,
          97.4,
          87.6,
          101,
          99.3,
          125,
          132,
          130.5,
          125,
          122,
          121,
          112,
          106,
          114.5,
          151,
          128.5,
          157,
          139,
          163,
          153.5,
          173,
          155.5,
          173.2,
          186.8,
          173,
          187,
          174,
          122.7,
          126.5,
          126.5,
          124,
          132.7,
          137.3,
          135.2,
          140.6,
          146.2,
          139,
          136.73,
          131.3,
          140.5,
          138,
          140.1,
          140.4,
          133.5,
          133.8,
          136,
          136,
          135.2,
          142.8,
          143.3,
          142.4,
          143,
          141.2,
          150.77,
          158,
          168,
          170.5,
          159.29,
          154.9,
          155.3,
          162.2,
          148.4,
          158
         ],
         "yaxis": "y"
        },
        {
         "mode": "lines",
         "name": "model prediction",
         "type": "scatter",
         "x": [
          40,
          41,
          42,
          43,
          44,
          45,
          46,
          47,
          48,
          49,
          50,
          51,
          52,
          53,
          54,
          55,
          56,
          57,
          58,
          59,
          60,
          61,
          62,
          63,
          64,
          65,
          66,
          67,
          68,
          69,
          70,
          71,
          72,
          73,
          74,
          75,
          76,
          77,
          78,
          79,
          80,
          81,
          82,
          83,
          84,
          85,
          86,
          87,
          88,
          89,
          90,
          91,
          92,
          93,
          94,
          95,
          96,
          97,
          98,
          99,
          100,
          101,
          102,
          103,
          104,
          105,
          106,
          107,
          108,
          109,
          110,
          111,
          112,
          113,
          114,
          115,
          116,
          117,
          118,
          119,
          120,
          121,
          122,
          123,
          124,
          125,
          126,
          127,
          128,
          129,
          130,
          131,
          132,
          133,
          134,
          135,
          136,
          137,
          138,
          139,
          140,
          141,
          142,
          143,
          144,
          145,
          146,
          147,
          148,
          149,
          150,
          151,
          152,
          153,
          154,
          155,
          156,
          157,
          158,
          159
         ],
         "y": [
          34.331319631818054,
          34.84407925271961,
          35.36449725761708,
          35.89268802924078,
          36.42876765869826,
          36.97285397099,
          37.52506655090619,
          38.08552676931024,
          38.654357809814975,
          39.23168469585708,
          39.81763431817609,
          40.41233546270368,
          41.01591883886955,
          41.62851710833007,
          42.250264914125985,
          42.881298910275646,
          43.521757791810195,
          44.171782325257354,
          44.831515379580544,
          45.50110195758004,
          46.18068922776317,
          46.87042655669049,
          47.570465541805085,
          48.280960044752185,
          49.00206622519641,
          49.73394257514416,
          50.476749953778565,
          51.23065162281474,
          51.99581328238311,
          52.77240310744865,
          53.56059178477409,
          54.360552550435145,
          55.17246122789614,
          55.99649626665424,
          56.832838781460865,
          57.681672592128976,
          58.543184263934805,
          59.41756314862305,
          60.30500142602459,
          61.20569414629561,
          62.11983927278777,
          63.04763772555856,
          63.98929342553154,
          64.94501333931618,
          65.915007524697,
          66.89948917680229,
          67.89867467496218,
          68.91278363026679,
          69.94203893383448,
          70.98666680580119,
          72.04689684504132,
          73.12296207963132,
          74.215099018067,
          75.32354770124569,
          76.44855175522488,
          77.59035844476885,
          78.74921872769495,
          79.92538731003174,
          81.11912270200075,
          82.33068727483456,
          83.56034731844335,
          84.8083730999428,
          86.07503892305616,
          87.36062318840341,
          88.66540845469109,
          89.9896815008158,
          91.33373338889542,
          92.69785952824166,
          94.08235974028813,
          95.48753832448807,
          96.91370412519645,
          98.36117059955083,
          99.83025588636617,
          101.3212828760586,
          102.83457928161351,
          104.37047771061366,
          105.92931573834299,
          107.51143598198237,
          109.1171861759135,
          110.74691924814736,
          112.40099339789445,
          114.07977217429334,
          115.78362455631517,
          117.51292503386166,
          119.2680536900742,
          121.04939628487239,
          122.85734433974028,
          124.6922952237789,
          126.55465224104405,
          128.4448247191886,
          130.36322809942854,
          132.310284027853,
          134.28642044809772,
          136.29207169540305,
          138.3276785920763,
          140.39368854438027,
          142.4905556408687,
          144.6187407521905,
          146.7787116323843,
          148.97094302168654,
          151.19591675087443,
          153.45412184716758,
          155.74605464171154,
          158.07221887866626,
          160.43312582592424,
          162.82929438748195,
          165.2612512174901,
          167.72953083600675,
          170.23467574647964,
          172.77723655498303,
          175.35777209123557,
          177.97684953142547,
          180.6350445228702,
          183.3329413105381,
          186.0711328654597,
          188.8502210150568,
          191.67081657541826,
          194.53353948555122,
          197.4390189436377,
          200.38789354532608
         ]
        },
        {
         "mode": "markers",
         "name": "validation",
         "type": "scatter",
         "x": [
          142.172150704,
          142.172150704,
          142.172150704,
          142.172150704,
          142.172150704,
          142.172150704,
          142.172150704,
          142.172150704,
          142.172150704,
          142.172150704,
          142.172150704
         ],
         "y": [
          159,
          164,
          165,
          164.59,
          164,
          170,
          169.44,
          153,
          160.1,
          169,
          174
         ]
        },
        {
         "mode": "markers",
         "name": "testing",
         "type": "scatter",
         "x": [
          142.172150704,
          142.172150704,
          142.172150704,
          142.172150704,
          142.172150704,
          142.172150704,
          142.172150704,
          142.172150704,
          142.172150704,
          142.172150704,
          142.172150704,
          142.172150704
         ],
         "y": [
          153.3,
          148.2,
          147.7,
          147,
          155.68,
          153,
          158,
          137.46,
          148,
          152.8,
          148.2,
          155
         ]
        }
       ],
       "layout": {
        "height": 800,
        "legend": {
         "orientation": "h",
         "tracegroupgap": 0,
         "x": 0.5,
         "xanchor": "center",
         "y": 1.02,
         "yanchor": "bottom"
        },
        "margin": {
         "t": 60
        },
        "paper_bgcolor": "rgba(0, 0, 0, 0)",
        "plot_bgcolor": "rgba(0, 0, 0, 0)",
        "template": {
         "data": {
          "bar": [
           {
            "error_x": {
             "color": "#2a3f5f"
            },
            "error_y": {
             "color": "#2a3f5f"
            },
            "marker": {
             "line": {
              "color": "#E5ECF6",
              "width": 0.5
             },
             "pattern": {
              "fillmode": "overlay",
              "size": 10,
              "solidity": 0.2
             }
            },
            "type": "bar"
           }
          ],
          "barpolar": [
           {
            "marker": {
             "line": {
              "color": "#E5ECF6",
              "width": 0.5
             },
             "pattern": {
              "fillmode": "overlay",
              "size": 10,
              "solidity": 0.2
             }
            },
            "type": "barpolar"
           }
          ],
          "carpet": [
           {
            "aaxis": {
             "endlinecolor": "#2a3f5f",
             "gridcolor": "white",
             "linecolor": "white",
             "minorgridcolor": "white",
             "startlinecolor": "#2a3f5f"
            },
            "baxis": {
             "endlinecolor": "#2a3f5f",
             "gridcolor": "white",
             "linecolor": "white",
             "minorgridcolor": "white",
             "startlinecolor": "#2a3f5f"
            },
            "type": "carpet"
           }
          ],
          "choropleth": [
           {
            "colorbar": {
             "outlinewidth": 0,
             "ticks": ""
            },
            "type": "choropleth"
           }
          ],
          "contour": [
           {
            "colorbar": {
             "outlinewidth": 0,
             "ticks": ""
            },
            "colorscale": [
             [
              0,
              "#0d0887"
             ],
             [
              0.1111111111111111,
              "#46039f"
             ],
             [
              0.2222222222222222,
              "#7201a8"
             ],
             [
              0.3333333333333333,
              "#9c179e"
             ],
             [
              0.4444444444444444,
              "#bd3786"
             ],
             [
              0.5555555555555556,
              "#d8576b"
             ],
             [
              0.6666666666666666,
              "#ed7953"
             ],
             [
              0.7777777777777778,
              "#fb9f3a"
             ],
             [
              0.8888888888888888,
              "#fdca26"
             ],
             [
              1,
              "#f0f921"
             ]
            ],
            "type": "contour"
           }
          ],
          "contourcarpet": [
           {
            "colorbar": {
             "outlinewidth": 0,
             "ticks": ""
            },
            "type": "contourcarpet"
           }
          ],
          "heatmap": [
           {
            "colorbar": {
             "outlinewidth": 0,
             "ticks": ""
            },
            "colorscale": [
             [
              0,
              "#0d0887"
             ],
             [
              0.1111111111111111,
              "#46039f"
             ],
             [
              0.2222222222222222,
              "#7201a8"
             ],
             [
              0.3333333333333333,
              "#9c179e"
             ],
             [
              0.4444444444444444,
              "#bd3786"
             ],
             [
              0.5555555555555556,
              "#d8576b"
             ],
             [
              0.6666666666666666,
              "#ed7953"
             ],
             [
              0.7777777777777778,
              "#fb9f3a"
             ],
             [
              0.8888888888888888,
              "#fdca26"
             ],
             [
              1,
              "#f0f921"
             ]
            ],
            "type": "heatmap"
           }
          ],
          "heatmapgl": [
           {
            "colorbar": {
             "outlinewidth": 0,
             "ticks": ""
            },
            "colorscale": [
             [
              0,
              "#0d0887"
             ],
             [
              0.1111111111111111,
              "#46039f"
             ],
             [
              0.2222222222222222,
              "#7201a8"
             ],
             [
              0.3333333333333333,
              "#9c179e"
             ],
             [
              0.4444444444444444,
              "#bd3786"
             ],
             [
              0.5555555555555556,
              "#d8576b"
             ],
             [
              0.6666666666666666,
              "#ed7953"
             ],
             [
              0.7777777777777778,
              "#fb9f3a"
             ],
             [
              0.8888888888888888,
              "#fdca26"
             ],
             [
              1,
              "#f0f921"
             ]
            ],
            "type": "heatmapgl"
           }
          ],
          "histogram": [
           {
            "marker": {
             "pattern": {
              "fillmode": "overlay",
              "size": 10,
              "solidity": 0.2
             }
            },
            "type": "histogram"
           }
          ],
          "histogram2d": [
           {
            "colorbar": {
             "outlinewidth": 0,
             "ticks": ""
            },
            "colorscale": [
             [
              0,
              "#0d0887"
             ],
             [
              0.1111111111111111,
              "#46039f"
             ],
             [
              0.2222222222222222,
              "#7201a8"
             ],
             [
              0.3333333333333333,
              "#9c179e"
             ],
             [
              0.4444444444444444,
              "#bd3786"
             ],
             [
              0.5555555555555556,
              "#d8576b"
             ],
             [
              0.6666666666666666,
              "#ed7953"
             ],
             [
              0.7777777777777778,
              "#fb9f3a"
             ],
             [
              0.8888888888888888,
              "#fdca26"
             ],
             [
              1,
              "#f0f921"
             ]
            ],
            "type": "histogram2d"
           }
          ],
          "histogram2dcontour": [
           {
            "colorbar": {
             "outlinewidth": 0,
             "ticks": ""
            },
            "colorscale": [
             [
              0,
              "#0d0887"
             ],
             [
              0.1111111111111111,
              "#46039f"
             ],
             [
              0.2222222222222222,
              "#7201a8"
             ],
             [
              0.3333333333333333,
              "#9c179e"
             ],
             [
              0.4444444444444444,
              "#bd3786"
             ],
             [
              0.5555555555555556,
              "#d8576b"
             ],
             [
              0.6666666666666666,
              "#ed7953"
             ],
             [
              0.7777777777777778,
              "#fb9f3a"
             ],
             [
              0.8888888888888888,
              "#fdca26"
             ],
             [
              1,
              "#f0f921"
             ]
            ],
            "type": "histogram2dcontour"
           }
          ],
          "mesh3d": [
           {
            "colorbar": {
             "outlinewidth": 0,
             "ticks": ""
            },
            "type": "mesh3d"
           }
          ],
          "parcoords": [
           {
            "line": {
             "colorbar": {
              "outlinewidth": 0,
              "ticks": ""
             }
            },
            "type": "parcoords"
           }
          ],
          "pie": [
           {
            "automargin": true,
            "type": "pie"
           }
          ],
          "scatter": [
           {
            "fillpattern": {
             "fillmode": "overlay",
             "size": 10,
             "solidity": 0.2
            },
            "type": "scatter"
           }
          ],
          "scatter3d": [
           {
            "line": {
             "colorbar": {
              "outlinewidth": 0,
              "ticks": ""
             }
            },
            "marker": {
             "colorbar": {
              "outlinewidth": 0,
              "ticks": ""
             }
            },
            "type": "scatter3d"
           }
          ],
          "scattercarpet": [
           {
            "marker": {
             "colorbar": {
              "outlinewidth": 0,
              "ticks": ""
             }
            },
            "type": "scattercarpet"
           }
          ],
          "scattergeo": [
           {
            "marker": {
             "colorbar": {
              "outlinewidth": 0,
              "ticks": ""
             }
            },
            "type": "scattergeo"
           }
          ],
          "scattergl": [
           {
            "marker": {
             "colorbar": {
              "outlinewidth": 0,
              "ticks": ""
             }
            },
            "type": "scattergl"
           }
          ],
          "scattermapbox": [
           {
            "marker": {
             "colorbar": {
              "outlinewidth": 0,
              "ticks": ""
             }
            },
            "type": "scattermapbox"
           }
          ],
          "scatterpolar": [
           {
            "marker": {
             "colorbar": {
              "outlinewidth": 0,
              "ticks": ""
             }
            },
            "type": "scatterpolar"
           }
          ],
          "scatterpolargl": [
           {
            "marker": {
             "colorbar": {
              "outlinewidth": 0,
              "ticks": ""
             }
            },
            "type": "scatterpolargl"
           }
          ],
          "scatterternary": [
           {
            "marker": {
             "colorbar": {
              "outlinewidth": 0,
              "ticks": ""
             }
            },
            "type": "scatterternary"
           }
          ],
          "surface": [
           {
            "colorbar": {
             "outlinewidth": 0,
             "ticks": ""
            },
            "colorscale": [
             [
              0,
              "#0d0887"
             ],
             [
              0.1111111111111111,
              "#46039f"
             ],
             [
              0.2222222222222222,
              "#7201a8"
             ],
             [
              0.3333333333333333,
              "#9c179e"
             ],
             [
              0.4444444444444444,
              "#bd3786"
             ],
             [
              0.5555555555555556,
              "#d8576b"
             ],
             [
              0.6666666666666666,
              "#ed7953"
             ],
             [
              0.7777777777777778,
              "#fb9f3a"
             ],
             [
              0.8888888888888888,
              "#fdca26"
             ],
             [
              1,
              "#f0f921"
             ]
            ],
            "type": "surface"
           }
          ],
          "table": [
           {
            "cells": {
             "fill": {
              "color": "#EBF0F8"
             },
             "line": {
              "color": "white"
             }
            },
            "header": {
             "fill": {
              "color": "#C8D4E3"
             },
             "line": {
              "color": "white"
             }
            },
            "type": "table"
           }
          ]
         },
         "layout": {
          "annotationdefaults": {
           "arrowcolor": "#2a3f5f",
           "arrowhead": 0,
           "arrowwidth": 1
          },
          "autotypenumbers": "strict",
          "coloraxis": {
           "colorbar": {
            "outlinewidth": 0,
            "ticks": ""
           }
          },
          "colorscale": {
           "diverging": [
            [
             0,
             "#8e0152"
            ],
            [
             0.1,
             "#c51b7d"
            ],
            [
             0.2,
             "#de77ae"
            ],
            [
             0.3,
             "#f1b6da"
            ],
            [
             0.4,
             "#fde0ef"
            ],
            [
             0.5,
             "#f7f7f7"
            ],
            [
             0.6,
             "#e6f5d0"
            ],
            [
             0.7,
             "#b8e186"
            ],
            [
             0.8,
             "#7fbc41"
            ],
            [
             0.9,
             "#4d9221"
            ],
            [
             1,
             "#276419"
            ]
           ],
           "sequential": [
            [
             0,
             "#0d0887"
            ],
            [
             0.1111111111111111,
             "#46039f"
            ],
            [
             0.2222222222222222,
             "#7201a8"
            ],
            [
             0.3333333333333333,
             "#9c179e"
            ],
            [
             0.4444444444444444,
             "#bd3786"
            ],
            [
             0.5555555555555556,
             "#d8576b"
            ],
            [
             0.6666666666666666,
             "#ed7953"
            ],
            [
             0.7777777777777778,
             "#fb9f3a"
            ],
            [
             0.8888888888888888,
             "#fdca26"
            ],
            [
             1,
             "#f0f921"
            ]
           ],
           "sequentialminus": [
            [
             0,
             "#0d0887"
            ],
            [
             0.1111111111111111,
             "#46039f"
            ],
            [
             0.2222222222222222,
             "#7201a8"
            ],
            [
             0.3333333333333333,
             "#9c179e"
            ],
            [
             0.4444444444444444,
             "#bd3786"
            ],
            [
             0.5555555555555556,
             "#d8576b"
            ],
            [
             0.6666666666666666,
             "#ed7953"
            ],
            [
             0.7777777777777778,
             "#fb9f3a"
            ],
            [
             0.8888888888888888,
             "#fdca26"
            ],
            [
             1,
             "#f0f921"
            ]
           ]
          },
          "colorway": [
           "#636efa",
           "#EF553B",
           "#00cc96",
           "#ab63fa",
           "#FFA15A",
           "#19d3f3",
           "#FF6692",
           "#B6E880",
           "#FF97FF",
           "#FECB52"
          ],
          "font": {
           "color": "#2a3f5f"
          },
          "geo": {
           "bgcolor": "white",
           "lakecolor": "white",
           "landcolor": "#E5ECF6",
           "showlakes": true,
           "showland": true,
           "subunitcolor": "white"
          },
          "hoverlabel": {
           "align": "left"
          },
          "hovermode": "closest",
          "mapbox": {
           "style": "light"
          },
          "paper_bgcolor": "white",
          "plot_bgcolor": "#E5ECF6",
          "polar": {
           "angularaxis": {
            "gridcolor": "white",
            "linecolor": "white",
            "ticks": ""
           },
           "bgcolor": "#E5ECF6",
           "radialaxis": {
            "gridcolor": "white",
            "linecolor": "white",
            "ticks": ""
           }
          },
          "scene": {
           "xaxis": {
            "backgroundcolor": "#E5ECF6",
            "gridcolor": "white",
            "gridwidth": 2,
            "linecolor": "white",
            "showbackground": true,
            "ticks": "",
            "zerolinecolor": "white"
           },
           "yaxis": {
            "backgroundcolor": "#E5ECF6",
            "gridcolor": "white",
            "gridwidth": 2,
            "linecolor": "white",
            "showbackground": true,
            "ticks": "",
            "zerolinecolor": "white"
           },
           "zaxis": {
            "backgroundcolor": "#E5ECF6",
            "gridcolor": "white",
            "gridwidth": 2,
            "linecolor": "white",
            "showbackground": true,
            "ticks": "",
            "zerolinecolor": "white"
           }
          },
          "shapedefaults": {
           "line": {
            "color": "#2a3f5f"
           }
          },
          "ternary": {
           "aaxis": {
            "gridcolor": "white",
            "linecolor": "white",
            "ticks": ""
           },
           "baxis": {
            "gridcolor": "white",
            "linecolor": "white",
            "ticks": ""
           },
           "bgcolor": "#E5ECF6",
           "caxis": {
            "gridcolor": "white",
            "linecolor": "white",
            "ticks": ""
           }
          },
          "title": {
           "x": 0.05
          },
          "xaxis": {
           "automargin": true,
           "gridcolor": "white",
           "linecolor": "white",
           "ticks": "",
           "title": {
            "standoff": 15
           },
           "zerolinecolor": "white",
           "zerolinewidth": 2
          },
          "yaxis": {
           "automargin": true,
           "gridcolor": "white",
           "linecolor": "white",
           "ticks": "",
           "title": {
            "standoff": 15
           },
           "zerolinecolor": "white",
           "zerolinewidth": 2
          }
         }
        },
        "width": 800,
        "xaxis": {
         "anchor": "y",
         "domain": [
          0,
          1
         ],
         "gridcolor": "grey",
         "gridwidth": 1,
         "linecolor": "grey",
         "linewidth": 2,
         "showgrid": true,
         "showline": true,
         "title": {
          "text": "Molecular Weight"
         },
         "zerolinecolor": "grey",
         "zerolinewidth": 1
        },
        "yaxis": {
         "anchor": "x",
         "domain": [
          0,
          1
         ],
         "gridcolor": "grey",
         "gridwidth": 1,
         "linecolor": "grey",
         "linewidth": 2,
         "showgrid": true,
         "showline": true,
         "title": {
          "text": "Boiling Point (°C)"
         },
         "zerolinecolor": "grey",
         "zerolinewidth": 1
        }
       }
      }
     },
     "metadata": {},
     "output_type": "display_data"
    }
   ],
   "source": [
    "(\n",
    "    ks_X_train,\n",
    "    ks_X_val,\n",
    "    ks_X_test,\n",
    "    ks_y_train,\n",
    "    ks_y_val,\n",
    "    ks_y_test,\n",
    ") = train_val_test_split(\n",
    "    weights.reshape(-1,1),\n",
    "    sampler=\"kennard_stone\",\n",
    "    hopts=dict(\n",
    "        metric=\"euclidean\",\n",
    "    ),\n",
    "    **tts_args,\n",
    ")\n",
    "scatter(ks_X_train.flatten(),\n",
    "    ks_X_val.flatten(),\n",
    "    ks_X_test.flatten(),\n",
    "    ks_y_train,\n",
    "    ks_y_val,\n",
    "    ks_y_test,)"
   ]
  },
  {
   "cell_type": "code",
   "execution_count": 7,
   "id": "9606b707",
   "metadata": {},
   "outputs": [
    {
     "name": "stdout",
     "output_type": "stream",
     "text": [
      "Validation MAE: 18.258527918375204\n",
      "Testing MAE: 24.15192257309957\n"
     ]
    },
    {
     "name": "stderr",
     "output_type": "stream",
     "text": [
      "C:\\Users\\jwb1j\\OneDrive\\Documents\\GitHub\\astartes\\astartes\\main.py:357: ImperfectSplittingWarning:\n",
      "\n",
      "Actual train/test split differs from requested size. Requested train size of 0.80, got 0.86. Requested validation size of 0.10, got 0.09. Requested test size of 0.10, got 0.09. \n",
      "\n"
     ]
    },
    {
     "data": {
      "application/vnd.plotly.v1+json": {
       "config": {
        "plotlyServerURL": "https://plot.ly"
       },
       "data": [
        {
         "hovertemplate": "x=%{x}<br>y=%{y}<extra></extra>",
         "legendgroup": "",
         "marker": {
          "color": "#636efa",
          "symbol": "circle"
         },
         "mode": "markers",
         "name": "",
         "orientation": "v",
         "showlegend": false,
         "type": "scatter",
         "x": [
          102.104465068,
          102.104465068,
          102.104465068,
          102.104465068,
          102.104465068,
          102.104465068,
          102.104465068,
          102.104465068,
          102.104465068,
          116.120115132,
          116.120115132,
          116.120115132,
          116.120115132,
          116.120115132,
          116.120115132,
          116.120115132,
          116.120115132,
          116.120115132,
          116.120115132,
          130.135765196,
          130.135765196,
          130.135765196,
          130.135765196,
          130.135765196,
          130.135765196,
          130.135765196,
          130.135765196,
          130.135765196,
          130.135765196,
          130.135765196,
          130.135765196,
          128.15650064,
          128.15650064,
          128.15650064,
          128.15650064,
          128.15650064,
          128.15650064,
          128.15650064,
          128.15650064,
          128.15650064,
          128.15650064,
          128.15650064,
          128.15650064,
          128.15650064,
          128.15650064,
          128.15650064,
          128.15650064,
          128.15650064,
          128.15650064,
          128.15650064,
          128.15650064,
          128.15650064,
          128.15650064,
          128.15650064,
          128.15650064,
          128.15650064,
          128.15650064,
          128.15650064,
          128.15650064,
          144.15141526,
          144.15141526,
          144.15141526,
          144.15141526,
          144.15141526,
          144.15141526,
          144.15141526,
          142.172150704,
          142.172150704,
          142.172150704,
          142.172150704,
          142.172150704,
          142.172150704,
          142.172150704,
          142.172150704,
          142.172150704,
          142.172150704,
          142.172150704,
          142.172150704,
          142.172150704,
          142.172150704,
          142.172150704,
          142.172150704,
          142.172150704,
          142.172150704,
          142.172150704,
          142.172150704,
          142.172150704,
          142.172150704,
          142.172150704,
          142.172150704,
          142.172150704,
          142.172150704,
          142.172150704,
          142.172150704,
          142.172150704,
          142.172150704,
          142.172150704,
          142.172150704,
          142.172150704
         ],
         "xaxis": "x",
         "y": [
          99.5,
          92.3,
          90.1,
          80.2,
          82,
          91.2,
          69,
          86.3,
          82,
          125,
          118,
          117.1,
          107,
          102.5,
          112,
          97.4,
          87.6,
          101,
          99.3,
          142,
          125,
          132,
          130.5,
          125,
          122,
          121,
          112,
          106,
          114.5,
          151,
          128.5,
          141.6,
          122.7,
          126.5,
          126.5,
          124,
          132.7,
          137.3,
          135.2,
          140.6,
          146.2,
          139,
          136.73,
          131.3,
          140.5,
          138,
          140.1,
          140.4,
          133.5,
          133.8,
          136,
          136,
          135.2,
          142.8,
          143.3,
          142.4,
          143,
          141.2,
          150.77,
          165.5,
          157,
          139,
          163,
          153.5,
          173,
          155.5,
          166.05,
          158,
          168,
          170.5,
          159.29,
          154.9,
          155.3,
          162.2,
          148.4,
          158,
          159,
          164,
          165,
          164.59,
          164,
          170,
          169.44,
          153,
          160.1,
          169,
          174,
          153.3,
          148.2,
          147.7,
          147,
          155.68,
          153,
          158,
          137.46,
          148,
          152.8,
          148.2,
          155
         ],
         "yaxis": "y"
        },
        {
         "mode": "lines",
         "name": "model prediction",
         "type": "scatter",
         "x": [
          40,
          41,
          42,
          43,
          44,
          45,
          46,
          47,
          48,
          49,
          50,
          51,
          52,
          53,
          54,
          55,
          56,
          57,
          58,
          59,
          60,
          61,
          62,
          63,
          64,
          65,
          66,
          67,
          68,
          69,
          70,
          71,
          72,
          73,
          74,
          75,
          76,
          77,
          78,
          79,
          80,
          81,
          82,
          83,
          84,
          85,
          86,
          87,
          88,
          89,
          90,
          91,
          92,
          93,
          94,
          95,
          96,
          97,
          98,
          99,
          100,
          101,
          102,
          103,
          104,
          105,
          106,
          107,
          108,
          109,
          110,
          111,
          112,
          113,
          114,
          115,
          116,
          117,
          118,
          119,
          120,
          121,
          122,
          123,
          124,
          125,
          126,
          127,
          128,
          129,
          130,
          131,
          132,
          133,
          134,
          135,
          136,
          137,
          138,
          139,
          140,
          141,
          142,
          143,
          144,
          145,
          146,
          147,
          148,
          149,
          150,
          151,
          152,
          153,
          154,
          155,
          156,
          157,
          158,
          159
         ],
         "y": [
          37.528424078748856,
          38.06091644031173,
          38.60096435801861,
          39.14867503796813,
          39.70415720741073,
          40.26752113633228,
          40.83887865934403,
          41.41834319788319,
          42.0060297827284,
          42.60205507683479,
          43.20653739849298,
          43.819596744816735,
          44.44135481556379,
          45.071935037294814,
          45.711462587875026,
          46.360064421323564,
          47.01786929301539,
          47.6850077852408,
          48.36161233312763,
          49.0478172509312,
          49.743758758697375,
          50.449575009303864,
          51.16540611588529,
          51.89139417964732,
          52.62768331807553,
          53.37441969354445,
          54.13175154233257,
          54.8998292040491,
          55.67880515147816,
          56.46883402084651,
          57.27007264252073,
          58.082680072139986,
          58.90681762219045,
          59.74264889402785,
          60.59033981035431,
          61.45005864815605,
          62.3219760721084,
          63.20626516845482,
          64.10310147936666,
          65.01266303779036,
          65.93513040278926,
          66.87068669538667,
          67.81951763491769,
          68.78181157589674,
          69.75775954540825,
          70.74755528102786,
          71.75139526928166,
          72.76947878465118,
          73.80200792913186,
          74.84918767235267,
          75.91122589226512,
          76.9883334164096,
          78.08072406376718,
          79.18861468720529,
          80.31222521652566,
          81.45177870212311,
          82.6075013592637,
          83.77962261299126,
          84.9683751436711,
          86.17399493317977,
          87.39672131175054,
          88.63679700548316,
          89.89446818452812,
          91.16998451195431,
          92.46359919331024,
          93.77556902688848,
          95.10615445470309,
          96.45561961419072,
          97.82423239064504,
          99.21226447039516,
          100.6199913947388,
          102.04769261464058,
          103.49565154620636,
          104.96415562694487,
          106.45349637282754,
          107.963969436158,
          109.4958746642626,
          111.04951615901385,
          112.62520233719827,
          114.22324599174095,
          115.84396435379874,
          117.48767915573445,
          119.15471669498474,
          120.84540789883407,
          122.56008839010784,
          124.29909855379758,
          126.06278360463159,
          127.85149365560419,
          129.6655837874775,
          131.50541411926915,
          133.37134987974056,
          135.26376147989905,
          137.1830245865291,
          139.12952019676666,
          141.10363471373194,
          143.1057600232348,
          145.13629357156927,
          147.19563844441117,
          149.28420344683568,
          151.4024031844701,
          153.55065814579808,
          155.72939478563185,
          157.93904560976856,
          160.18004926084797,
          162.45285060542844,
          164.75790082229835,
          167.09565749204052,
          169.46658468786762,
          171.87115306774632,
          174.30983996782865,
          176.78312949720905,
          179.29151263402588,
          181.8354873229267,
          184.4155585739162,
          187.03223856260692,
          189.68604673189242,
          192.37750989506287,
          195.10716234038406,
          197.8755459371601,
          200.683210243301
         ]
        },
        {
         "mode": "markers",
         "name": "validation",
         "type": "scatter",
         "x": [
          158.167065324,
          158.167065324,
          158.167065324,
          158.167065324,
          158.167065324,
          158.167065324
         ],
         "y": [
          186.5,
          173.2,
          186.8,
          173,
          187,
          174
         ]
        },
        {
         "mode": "markers",
         "name": "testing",
         "type": "scatter",
         "x": [
          60.057514876,
          46.041864812,
          74.07316494,
          74.07316494,
          88.088815004,
          88.088815004,
          88.088815004,
          88.088815004,
          88.088815004,
          88.088815004
         ],
         "y": [
          10.8,
          -23.7,
          34.6,
          32,
          70.3,
          63.6,
          52.5,
          59,
          59.5,
          55.2
         ]
        }
       ],
       "layout": {
        "height": 800,
        "legend": {
         "orientation": "h",
         "tracegroupgap": 0,
         "x": 0.5,
         "xanchor": "center",
         "y": 1.02,
         "yanchor": "bottom"
        },
        "margin": {
         "t": 60
        },
        "paper_bgcolor": "rgba(0, 0, 0, 0)",
        "plot_bgcolor": "rgba(0, 0, 0, 0)",
        "template": {
         "data": {
          "bar": [
           {
            "error_x": {
             "color": "#2a3f5f"
            },
            "error_y": {
             "color": "#2a3f5f"
            },
            "marker": {
             "line": {
              "color": "#E5ECF6",
              "width": 0.5
             },
             "pattern": {
              "fillmode": "overlay",
              "size": 10,
              "solidity": 0.2
             }
            },
            "type": "bar"
           }
          ],
          "barpolar": [
           {
            "marker": {
             "line": {
              "color": "#E5ECF6",
              "width": 0.5
             },
             "pattern": {
              "fillmode": "overlay",
              "size": 10,
              "solidity": 0.2
             }
            },
            "type": "barpolar"
           }
          ],
          "carpet": [
           {
            "aaxis": {
             "endlinecolor": "#2a3f5f",
             "gridcolor": "white",
             "linecolor": "white",
             "minorgridcolor": "white",
             "startlinecolor": "#2a3f5f"
            },
            "baxis": {
             "endlinecolor": "#2a3f5f",
             "gridcolor": "white",
             "linecolor": "white",
             "minorgridcolor": "white",
             "startlinecolor": "#2a3f5f"
            },
            "type": "carpet"
           }
          ],
          "choropleth": [
           {
            "colorbar": {
             "outlinewidth": 0,
             "ticks": ""
            },
            "type": "choropleth"
           }
          ],
          "contour": [
           {
            "colorbar": {
             "outlinewidth": 0,
             "ticks": ""
            },
            "colorscale": [
             [
              0,
              "#0d0887"
             ],
             [
              0.1111111111111111,
              "#46039f"
             ],
             [
              0.2222222222222222,
              "#7201a8"
             ],
             [
              0.3333333333333333,
              "#9c179e"
             ],
             [
              0.4444444444444444,
              "#bd3786"
             ],
             [
              0.5555555555555556,
              "#d8576b"
             ],
             [
              0.6666666666666666,
              "#ed7953"
             ],
             [
              0.7777777777777778,
              "#fb9f3a"
             ],
             [
              0.8888888888888888,
              "#fdca26"
             ],
             [
              1,
              "#f0f921"
             ]
            ],
            "type": "contour"
           }
          ],
          "contourcarpet": [
           {
            "colorbar": {
             "outlinewidth": 0,
             "ticks": ""
            },
            "type": "contourcarpet"
           }
          ],
          "heatmap": [
           {
            "colorbar": {
             "outlinewidth": 0,
             "ticks": ""
            },
            "colorscale": [
             [
              0,
              "#0d0887"
             ],
             [
              0.1111111111111111,
              "#46039f"
             ],
             [
              0.2222222222222222,
              "#7201a8"
             ],
             [
              0.3333333333333333,
              "#9c179e"
             ],
             [
              0.4444444444444444,
              "#bd3786"
             ],
             [
              0.5555555555555556,
              "#d8576b"
             ],
             [
              0.6666666666666666,
              "#ed7953"
             ],
             [
              0.7777777777777778,
              "#fb9f3a"
             ],
             [
              0.8888888888888888,
              "#fdca26"
             ],
             [
              1,
              "#f0f921"
             ]
            ],
            "type": "heatmap"
           }
          ],
          "heatmapgl": [
           {
            "colorbar": {
             "outlinewidth": 0,
             "ticks": ""
            },
            "colorscale": [
             [
              0,
              "#0d0887"
             ],
             [
              0.1111111111111111,
              "#46039f"
             ],
             [
              0.2222222222222222,
              "#7201a8"
             ],
             [
              0.3333333333333333,
              "#9c179e"
             ],
             [
              0.4444444444444444,
              "#bd3786"
             ],
             [
              0.5555555555555556,
              "#d8576b"
             ],
             [
              0.6666666666666666,
              "#ed7953"
             ],
             [
              0.7777777777777778,
              "#fb9f3a"
             ],
             [
              0.8888888888888888,
              "#fdca26"
             ],
             [
              1,
              "#f0f921"
             ]
            ],
            "type": "heatmapgl"
           }
          ],
          "histogram": [
           {
            "marker": {
             "pattern": {
              "fillmode": "overlay",
              "size": 10,
              "solidity": 0.2
             }
            },
            "type": "histogram"
           }
          ],
          "histogram2d": [
           {
            "colorbar": {
             "outlinewidth": 0,
             "ticks": ""
            },
            "colorscale": [
             [
              0,
              "#0d0887"
             ],
             [
              0.1111111111111111,
              "#46039f"
             ],
             [
              0.2222222222222222,
              "#7201a8"
             ],
             [
              0.3333333333333333,
              "#9c179e"
             ],
             [
              0.4444444444444444,
              "#bd3786"
             ],
             [
              0.5555555555555556,
              "#d8576b"
             ],
             [
              0.6666666666666666,
              "#ed7953"
             ],
             [
              0.7777777777777778,
              "#fb9f3a"
             ],
             [
              0.8888888888888888,
              "#fdca26"
             ],
             [
              1,
              "#f0f921"
             ]
            ],
            "type": "histogram2d"
           }
          ],
          "histogram2dcontour": [
           {
            "colorbar": {
             "outlinewidth": 0,
             "ticks": ""
            },
            "colorscale": [
             [
              0,
              "#0d0887"
             ],
             [
              0.1111111111111111,
              "#46039f"
             ],
             [
              0.2222222222222222,
              "#7201a8"
             ],
             [
              0.3333333333333333,
              "#9c179e"
             ],
             [
              0.4444444444444444,
              "#bd3786"
             ],
             [
              0.5555555555555556,
              "#d8576b"
             ],
             [
              0.6666666666666666,
              "#ed7953"
             ],
             [
              0.7777777777777778,
              "#fb9f3a"
             ],
             [
              0.8888888888888888,
              "#fdca26"
             ],
             [
              1,
              "#f0f921"
             ]
            ],
            "type": "histogram2dcontour"
           }
          ],
          "mesh3d": [
           {
            "colorbar": {
             "outlinewidth": 0,
             "ticks": ""
            },
            "type": "mesh3d"
           }
          ],
          "parcoords": [
           {
            "line": {
             "colorbar": {
              "outlinewidth": 0,
              "ticks": ""
             }
            },
            "type": "parcoords"
           }
          ],
          "pie": [
           {
            "automargin": true,
            "type": "pie"
           }
          ],
          "scatter": [
           {
            "fillpattern": {
             "fillmode": "overlay",
             "size": 10,
             "solidity": 0.2
            },
            "type": "scatter"
           }
          ],
          "scatter3d": [
           {
            "line": {
             "colorbar": {
              "outlinewidth": 0,
              "ticks": ""
             }
            },
            "marker": {
             "colorbar": {
              "outlinewidth": 0,
              "ticks": ""
             }
            },
            "type": "scatter3d"
           }
          ],
          "scattercarpet": [
           {
            "marker": {
             "colorbar": {
              "outlinewidth": 0,
              "ticks": ""
             }
            },
            "type": "scattercarpet"
           }
          ],
          "scattergeo": [
           {
            "marker": {
             "colorbar": {
              "outlinewidth": 0,
              "ticks": ""
             }
            },
            "type": "scattergeo"
           }
          ],
          "scattergl": [
           {
            "marker": {
             "colorbar": {
              "outlinewidth": 0,
              "ticks": ""
             }
            },
            "type": "scattergl"
           }
          ],
          "scattermapbox": [
           {
            "marker": {
             "colorbar": {
              "outlinewidth": 0,
              "ticks": ""
             }
            },
            "type": "scattermapbox"
           }
          ],
          "scatterpolar": [
           {
            "marker": {
             "colorbar": {
              "outlinewidth": 0,
              "ticks": ""
             }
            },
            "type": "scatterpolar"
           }
          ],
          "scatterpolargl": [
           {
            "marker": {
             "colorbar": {
              "outlinewidth": 0,
              "ticks": ""
             }
            },
            "type": "scatterpolargl"
           }
          ],
          "scatterternary": [
           {
            "marker": {
             "colorbar": {
              "outlinewidth": 0,
              "ticks": ""
             }
            },
            "type": "scatterternary"
           }
          ],
          "surface": [
           {
            "colorbar": {
             "outlinewidth": 0,
             "ticks": ""
            },
            "colorscale": [
             [
              0,
              "#0d0887"
             ],
             [
              0.1111111111111111,
              "#46039f"
             ],
             [
              0.2222222222222222,
              "#7201a8"
             ],
             [
              0.3333333333333333,
              "#9c179e"
             ],
             [
              0.4444444444444444,
              "#bd3786"
             ],
             [
              0.5555555555555556,
              "#d8576b"
             ],
             [
              0.6666666666666666,
              "#ed7953"
             ],
             [
              0.7777777777777778,
              "#fb9f3a"
             ],
             [
              0.8888888888888888,
              "#fdca26"
             ],
             [
              1,
              "#f0f921"
             ]
            ],
            "type": "surface"
           }
          ],
          "table": [
           {
            "cells": {
             "fill": {
              "color": "#EBF0F8"
             },
             "line": {
              "color": "white"
             }
            },
            "header": {
             "fill": {
              "color": "#C8D4E3"
             },
             "line": {
              "color": "white"
             }
            },
            "type": "table"
           }
          ]
         },
         "layout": {
          "annotationdefaults": {
           "arrowcolor": "#2a3f5f",
           "arrowhead": 0,
           "arrowwidth": 1
          },
          "autotypenumbers": "strict",
          "coloraxis": {
           "colorbar": {
            "outlinewidth": 0,
            "ticks": ""
           }
          },
          "colorscale": {
           "diverging": [
            [
             0,
             "#8e0152"
            ],
            [
             0.1,
             "#c51b7d"
            ],
            [
             0.2,
             "#de77ae"
            ],
            [
             0.3,
             "#f1b6da"
            ],
            [
             0.4,
             "#fde0ef"
            ],
            [
             0.5,
             "#f7f7f7"
            ],
            [
             0.6,
             "#e6f5d0"
            ],
            [
             0.7,
             "#b8e186"
            ],
            [
             0.8,
             "#7fbc41"
            ],
            [
             0.9,
             "#4d9221"
            ],
            [
             1,
             "#276419"
            ]
           ],
           "sequential": [
            [
             0,
             "#0d0887"
            ],
            [
             0.1111111111111111,
             "#46039f"
            ],
            [
             0.2222222222222222,
             "#7201a8"
            ],
            [
             0.3333333333333333,
             "#9c179e"
            ],
            [
             0.4444444444444444,
             "#bd3786"
            ],
            [
             0.5555555555555556,
             "#d8576b"
            ],
            [
             0.6666666666666666,
             "#ed7953"
            ],
            [
             0.7777777777777778,
             "#fb9f3a"
            ],
            [
             0.8888888888888888,
             "#fdca26"
            ],
            [
             1,
             "#f0f921"
            ]
           ],
           "sequentialminus": [
            [
             0,
             "#0d0887"
            ],
            [
             0.1111111111111111,
             "#46039f"
            ],
            [
             0.2222222222222222,
             "#7201a8"
            ],
            [
             0.3333333333333333,
             "#9c179e"
            ],
            [
             0.4444444444444444,
             "#bd3786"
            ],
            [
             0.5555555555555556,
             "#d8576b"
            ],
            [
             0.6666666666666666,
             "#ed7953"
            ],
            [
             0.7777777777777778,
             "#fb9f3a"
            ],
            [
             0.8888888888888888,
             "#fdca26"
            ],
            [
             1,
             "#f0f921"
            ]
           ]
          },
          "colorway": [
           "#636efa",
           "#EF553B",
           "#00cc96",
           "#ab63fa",
           "#FFA15A",
           "#19d3f3",
           "#FF6692",
           "#B6E880",
           "#FF97FF",
           "#FECB52"
          ],
          "font": {
           "color": "#2a3f5f"
          },
          "geo": {
           "bgcolor": "white",
           "lakecolor": "white",
           "landcolor": "#E5ECF6",
           "showlakes": true,
           "showland": true,
           "subunitcolor": "white"
          },
          "hoverlabel": {
           "align": "left"
          },
          "hovermode": "closest",
          "mapbox": {
           "style": "light"
          },
          "paper_bgcolor": "white",
          "plot_bgcolor": "#E5ECF6",
          "polar": {
           "angularaxis": {
            "gridcolor": "white",
            "linecolor": "white",
            "ticks": ""
           },
           "bgcolor": "#E5ECF6",
           "radialaxis": {
            "gridcolor": "white",
            "linecolor": "white",
            "ticks": ""
           }
          },
          "scene": {
           "xaxis": {
            "backgroundcolor": "#E5ECF6",
            "gridcolor": "white",
            "gridwidth": 2,
            "linecolor": "white",
            "showbackground": true,
            "ticks": "",
            "zerolinecolor": "white"
           },
           "yaxis": {
            "backgroundcolor": "#E5ECF6",
            "gridcolor": "white",
            "gridwidth": 2,
            "linecolor": "white",
            "showbackground": true,
            "ticks": "",
            "zerolinecolor": "white"
           },
           "zaxis": {
            "backgroundcolor": "#E5ECF6",
            "gridcolor": "white",
            "gridwidth": 2,
            "linecolor": "white",
            "showbackground": true,
            "ticks": "",
            "zerolinecolor": "white"
           }
          },
          "shapedefaults": {
           "line": {
            "color": "#2a3f5f"
           }
          },
          "ternary": {
           "aaxis": {
            "gridcolor": "white",
            "linecolor": "white",
            "ticks": ""
           },
           "baxis": {
            "gridcolor": "white",
            "linecolor": "white",
            "ticks": ""
           },
           "bgcolor": "#E5ECF6",
           "caxis": {
            "gridcolor": "white",
            "linecolor": "white",
            "ticks": ""
           }
          },
          "title": {
           "x": 0.05
          },
          "xaxis": {
           "automargin": true,
           "gridcolor": "white",
           "linecolor": "white",
           "ticks": "",
           "title": {
            "standoff": 15
           },
           "zerolinecolor": "white",
           "zerolinewidth": 2
          },
          "yaxis": {
           "automargin": true,
           "gridcolor": "white",
           "linecolor": "white",
           "ticks": "",
           "title": {
            "standoff": 15
           },
           "zerolinecolor": "white",
           "zerolinewidth": 2
          }
         }
        },
        "width": 800,
        "xaxis": {
         "anchor": "y",
         "domain": [
          0,
          1
         ],
         "gridcolor": "grey",
         "gridwidth": 1,
         "linecolor": "grey",
         "linewidth": 2,
         "showgrid": true,
         "showline": true,
         "title": {
          "text": "Molecular Weight"
         },
         "zerolinecolor": "grey",
         "zerolinewidth": 1
        },
        "yaxis": {
         "anchor": "x",
         "domain": [
          0,
          1
         ],
         "gridcolor": "grey",
         "gridwidth": 1,
         "linecolor": "grey",
         "linewidth": 2,
         "showgrid": true,
         "showline": true,
         "title": {
          "text": "Boiling Point (°C)"
         },
         "zerolinecolor": "grey",
         "zerolinewidth": 1
        }
       }
      }
     },
     "metadata": {},
     "output_type": "display_data"
    }
   ],
   "source": [
    "(\n",
    "    spex_X_train,\n",
    "    spex_X_val,\n",
    "    spex_X_test,\n",
    "    spex_y_train,\n",
    "    spex_y_val,\n",
    "    spex_y_test,\n",
    "    _,_,_\n",
    ") = train_val_test_split(\n",
    "    weights.reshape(-1, 1),\n",
    "    sampler=\"sphere_exclusion\",\n",
    "    hopts=dict(\n",
    "        metric=\"euclidean\",\n",
    "        distance_cutoff=0.1,\n",
    "    ),\n",
    "    **tts_args,\n",
    ")\n",
    "scatter(spex_X_train.flatten(),\n",
    "    spex_X_val.flatten(),\n",
    "    spex_X_test.flatten(),\n",
    "    spex_y_train,\n",
    "    spex_y_val,\n",
    "    spex_y_test,)"
   ]
  }
 ],
 "metadata": {
  "kernelspec": {
   "display_name": "Python 3 (ipykernel)",
   "language": "python",
   "name": "python3"
  },
  "language_info": {
   "codemirror_mode": {
    "name": "ipython",
    "version": 3
   },
   "file_extension": ".py",
   "mimetype": "text/x-python",
   "name": "python",
   "nbconvert_exporter": "python",
   "pygments_lexer": "ipython3",
   "version": "3.11.0"
  }
 },
 "nbformat": 4,
 "nbformat_minor": 5
}
