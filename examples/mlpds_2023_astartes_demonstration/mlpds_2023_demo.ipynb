{
 "cells": [
  {
   "attachments": {},
   "cell_type": "markdown",
   "id": "9feb8e56",
   "metadata": {},
   "source": [
    "# Better Data Splits for Machine Learning with `astartes`\n",
    "\n",
    "acyclic molecules and boiling point trainset0\n",
    "https://brunl01.users.greyc.fr/CHEMISTRY/\n",
    "\n",
    "molplotly"
   ]
  },
  {
   "cell_type": "code",
   "execution_count": 2,
   "id": "91321870",
   "metadata": {},
   "outputs": [
    {
     "data": {
      "text/html": [
       "<div>\n",
       "<style scoped>\n",
       "    .dataframe tbody tr th:only-of-type {\n",
       "        vertical-align: middle;\n",
       "    }\n",
       "\n",
       "    .dataframe tbody tr th {\n",
       "        vertical-align: top;\n",
       "    }\n",
       "\n",
       "    .dataframe thead th {\n",
       "        text-align: right;\n",
       "    }\n",
       "</style>\n",
       "<table border=\"1\" class=\"dataframe\">\n",
       "  <thead>\n",
       "    <tr style=\"text-align: right;\">\n",
       "      <th></th>\n",
       "      <th>iupac_name</th>\n",
       "      <th>boiling_point</th>\n",
       "    </tr>\n",
       "  </thead>\n",
       "  <tbody>\n",
       "    <tr>\n",
       "      <th>0</th>\n",
       "      <td>ethylmethylether</td>\n",
       "      <td>10.80</td>\n",
       "    </tr>\n",
       "    <tr>\n",
       "      <th>1</th>\n",
       "      <td>diethylether</td>\n",
       "      <td>34.60</td>\n",
       "    </tr>\n",
       "    <tr>\n",
       "      <th>2</th>\n",
       "      <td>isopropylmethylether</td>\n",
       "      <td>32.00</td>\n",
       "    </tr>\n",
       "    <tr>\n",
       "      <th>3</th>\n",
       "      <td>butylmethylether</td>\n",
       "      <td>70.30</td>\n",
       "    </tr>\n",
       "    <tr>\n",
       "      <th>4</th>\n",
       "      <td>ethylpropylether</td>\n",
       "      <td>63.60</td>\n",
       "    </tr>\n",
       "    <tr>\n",
       "      <th>...</th>\n",
       "      <td>...</td>\n",
       "      <td>...</td>\n",
       "    </tr>\n",
       "    <tr>\n",
       "      <th>122</th>\n",
       "      <td>2,2,5,5-tetramethylhexane</td>\n",
       "      <td>137.46</td>\n",
       "    </tr>\n",
       "    <tr>\n",
       "      <th>123</th>\n",
       "      <td>2,2,5-trimethylheptane</td>\n",
       "      <td>148.00</td>\n",
       "    </tr>\n",
       "    <tr>\n",
       "      <th>124</th>\n",
       "      <td>2,5,5-trimethylheptane</td>\n",
       "      <td>152.80</td>\n",
       "    </tr>\n",
       "    <tr>\n",
       "      <th>125</th>\n",
       "      <td>2,2,6-trimethylheptane</td>\n",
       "      <td>148.20</td>\n",
       "    </tr>\n",
       "    <tr>\n",
       "      <th>126</th>\n",
       "      <td>2,2-dimethyloctane</td>\n",
       "      <td>155.00</td>\n",
       "    </tr>\n",
       "  </tbody>\n",
       "</table>\n",
       "<p>127 rows × 2 columns</p>\n",
       "</div>"
      ],
      "text/plain": [
       "                    iupac_name  boiling_point\n",
       "0             ethylmethylether          10.80\n",
       "1                 diethylether          34.60\n",
       "2         isopropylmethylether          32.00\n",
       "3             butylmethylether          70.30\n",
       "4             ethylpropylether          63.60\n",
       "..                         ...            ...\n",
       "122  2,2,5,5-tetramethylhexane         137.46\n",
       "123     2,2,5-trimethylheptane         148.00\n",
       "124     2,5,5-trimethylheptane         152.80\n",
       "125     2,2,6-trimethylheptane         148.20\n",
       "126         2,2-dimethyloctane         155.00\n",
       "\n",
       "[127 rows x 2 columns]"
      ]
     },
     "execution_count": 2,
     "metadata": {},
     "output_type": "execute_result"
    }
   ],
   "source": [
    "import pandas as pd\n",
    "\n",
    "with open(\"iupac_and_boiling.csv\", \"r\") as f:\n",
    "    data = pd.read_csv(f, sep=\"   \", engine=\"python\")\n",
    "data\n"
   ]
  },
  {
   "attachments": {},
   "cell_type": "markdown",
   "id": "dfd196dc",
   "metadata": {},
   "source": [
    "use py2opsin to convert the IUPAC names into smiles strings"
   ]
  },
  {
   "cell_type": "code",
   "execution_count": 3,
   "id": "82a58e02",
   "metadata": {},
   "outputs": [],
   "source": [
    "from py2opsin import py2opsin\n",
    "\n",
    "data[\"smiles\"] = py2opsin(data[\"iupac_name\"])\n"
   ]
  },
  {
   "cell_type": "code",
   "execution_count": 4,
   "id": "215c964e",
   "metadata": {},
   "outputs": [
    {
     "name": "stderr",
     "output_type": "stream",
     "text": [
      "/home/jackson/astartes/astartes/astartes/main.py:357: ImperfectSplittingWarning: Actual train/test split differs from requested size. Requested validation size of 0.10, got 0.11. Requested test size of 0.10, got 0.11. \n",
      "  warn(\n"
     ]
    },
    {
     "data": {
      "text/plain": [
       "array([['142.172150704'],\n",
       "       ['128.15650064'],\n",
       "       ['270.2922658360004'],\n",
       "       ['270.2922658360004'],\n",
       "       ['142.172150704'],\n",
       "       ['128.15650064'],\n",
       "       ['142.172150704'],\n",
       "       ['142.172150704'],\n",
       "       ['158.167065324'],\n",
       "       ['144.15141526'],\n",
       "       ['88.088815004'],\n",
       "       ['102.104465068'],\n",
       "       ['142.172150704'],\n",
       "       ['130.135765196'],\n",
       "       ['142.172150704'],\n",
       "       ['102.104465068'],\n",
       "       ['142.172150704'],\n",
       "       ['102.104465068'],\n",
       "       ['130.135765196'],\n",
       "       ['102.104465068'],\n",
       "       ['142.172150704'],\n",
       "       ['142.172150704'],\n",
       "       ['128.15650064'],\n",
       "       ['60.057514876'],\n",
       "       ['128.15650064'],\n",
       "       ['128.15650064'],\n",
       "       ['128.15650064'],\n",
       "       ['102.104465068'],\n",
       "       ['130.135765196'],\n",
       "       ['214.22966558'],\n",
       "       ['116.120115132'],\n",
       "       ['116.120115132'],\n",
       "       ['128.15650064'],\n",
       "       ['142.172150704'],\n",
       "       ['128.15650064'],\n",
       "       ['186.198365452'],\n",
       "       ['128.15650064'],\n",
       "       ['116.120115132'],\n",
       "       ['144.15141526'],\n",
       "       ['298.32356596400115'],\n",
       "       ['142.172150704'],\n",
       "       ['116.120115132'],\n",
       "       ['128.15650064'],\n",
       "       ['128.15650064'],\n",
       "       ['102.104465068'],\n",
       "       ['130.135765196'],\n",
       "       ['46.041864812'],\n",
       "       ['116.120115132'],\n",
       "       ['128.15650064'],\n",
       "       ['116.120115132'],\n",
       "       ['158.167065324'],\n",
       "       ['142.172150704'],\n",
       "       ['270.2922658360004'],\n",
       "       ['88.088815004'],\n",
       "       ['128.15650064'],\n",
       "       ['142.172150704'],\n",
       "       ['130.135765196'],\n",
       "       ['144.15141526'],\n",
       "       ['130.135765196'],\n",
       "       ['186.198365452'],\n",
       "       ['128.15650064'],\n",
       "       ['130.135765196'],\n",
       "       ['128.15650064'],\n",
       "       ['88.088815004'],\n",
       "       ['130.135765196'],\n",
       "       ['142.172150704'],\n",
       "       ['142.172150704'],\n",
       "       ['142.172150704'],\n",
       "       ['88.088815004'],\n",
       "       ['102.104465068'],\n",
       "       ['128.15650064'],\n",
       "       ['88.088815004'],\n",
       "       ['102.104465068'],\n",
       "       ['130.135765196'],\n",
       "       ['128.15650064'],\n",
       "       ['142.172150704'],\n",
       "       ['88.088815004'],\n",
       "       ['142.172150704'],\n",
       "       ['142.172150704'],\n",
       "       ['142.172150704'],\n",
       "       ['144.15141526'],\n",
       "       ['270.2922658360004'],\n",
       "       ['128.15650064'],\n",
       "       ['144.15141526'],\n",
       "       ['142.172150704'],\n",
       "       ['158.167065324'],\n",
       "       ['142.172150704'],\n",
       "       ['128.15650064'],\n",
       "       ['142.172150704'],\n",
       "       ['130.135765196'],\n",
       "       ['158.167065324'],\n",
       "       ['128.15650064'],\n",
       "       ['144.15141526'],\n",
       "       ['128.15650064'],\n",
       "       ['142.172150704'],\n",
       "       ['298.32356596400115'],\n",
       "       ['128.15650064'],\n",
       "       ['130.135765196'],\n",
       "       ['142.172150704'],\n",
       "       ['158.167065324'],\n",
       "       ['158.167065324']], dtype='<U18')"
      ]
     },
     "execution_count": 4,
     "metadata": {},
     "output_type": "execute_result"
    }
   ],
   "source": [
    "from astartes.molecules import train_val_test_split_molecules\n",
    "\n",
    "import numpy as np\n",
    "\n",
    "tts_args = dict(\n",
    "    train_size=0.8,\n",
    "    test_size=0.1,\n",
    "    val_size=0.1,\n",
    "    return_indices=True,\n",
    "    fingerprint='padelpy:MW',\n",
    ")\n",
    "\n",
    "(\n",
    "    molecules_train,\n",
    "    molecule_val,\n",
    "    molecules_test,\n",
    "    random_idxs_train,\n",
    "    random_idxs_val,\n",
    "    random_idxs_test,\n",
    ") = train_val_test_split_molecules(\n",
    "    data[\"smiles\"].to_numpy(),\n",
    "    **tts_args,\n",
    ")\n"
   ]
  },
  {
   "cell_type": "code",
   "execution_count": 23,
   "id": "a4a340fa",
   "metadata": {},
   "outputs": [
    {
     "ename": "IndexError",
     "evalue": "invalid index to scalar variable.",
     "output_type": "error",
     "traceback": [
      "\u001b[0;31m---------------------------------------------------------------------------\u001b[0m",
      "\u001b[0;31mIndexError\u001b[0m                                Traceback (most recent call last)",
      "Cell \u001b[0;32mIn[23], line 1\u001b[0m\n\u001b[0;32m----> 1\u001b[0m molecules_train \u001b[39m=\u001b[39m np\u001b[39m.\u001b[39marray([\u001b[39mfloat\u001b[39;49m(i[\u001b[39m0\u001b[39;49m]) \u001b[39mfor\u001b[39;49;00m i \u001b[39min\u001b[39;49;00m molecules_train])\n\u001b[1;32m      2\u001b[0m molecules_val \u001b[39m=\u001b[39m np\u001b[39m.\u001b[39marray([\u001b[39mfloat\u001b[39m(i[\u001b[39m0\u001b[39m]) \u001b[39mfor\u001b[39;00m i \u001b[39min\u001b[39;00m molecule_val])\n\u001b[1;32m      3\u001b[0m molecules_test \u001b[39m=\u001b[39m np\u001b[39m.\u001b[39marray([\u001b[39mfloat\u001b[39m(i[\u001b[39m0\u001b[39m]) \u001b[39mfor\u001b[39;00m i \u001b[39min\u001b[39;00m molecules_test])\n",
      "Cell \u001b[0;32mIn[23], line 1\u001b[0m, in \u001b[0;36m<listcomp>\u001b[0;34m(.0)\u001b[0m\n\u001b[0;32m----> 1\u001b[0m molecules_train \u001b[39m=\u001b[39m np\u001b[39m.\u001b[39marray([\u001b[39mfloat\u001b[39m(i[\u001b[39m0\u001b[39;49m]) \u001b[39mfor\u001b[39;00m i \u001b[39min\u001b[39;00m molecules_train])\n\u001b[1;32m      2\u001b[0m molecules_val \u001b[39m=\u001b[39m np\u001b[39m.\u001b[39marray([\u001b[39mfloat\u001b[39m(i[\u001b[39m0\u001b[39m]) \u001b[39mfor\u001b[39;00m i \u001b[39min\u001b[39;00m molecule_val])\n\u001b[1;32m      3\u001b[0m molecules_test \u001b[39m=\u001b[39m np\u001b[39m.\u001b[39marray([\u001b[39mfloat\u001b[39m(i[\u001b[39m0\u001b[39m]) \u001b[39mfor\u001b[39;00m i \u001b[39min\u001b[39;00m molecules_test])\n",
      "\u001b[0;31mIndexError\u001b[0m: invalid index to scalar variable."
     ]
    }
   ],
   "source": [
    "molecules_train = np.array([float(i[0]) for i in molecules_train])\n",
    "molecules_val = np.array([float(i[0]) for i in molecule_val])\n",
    "molecules_test = np.array([float(i[0]) for i in molecules_test])\n"
   ]
  },
  {
   "cell_type": "code",
   "execution_count": 15,
   "id": "5696316c",
   "metadata": {},
   "outputs": [],
   "source": [
    "molecules_MW = np.hstack((\n",
    "    molecules_train,molecules_val,molecules_test\n",
    "))\n",
    "all_idxs = np.hstack((\n",
    "    random_idxs_train,\n",
    "    random_idxs_val,\n",
    "    random_idxs_test,\n",
    "))"
   ]
  },
  {
   "cell_type": "code",
   "execution_count": 78,
   "metadata": {},
   "outputs": [
    {
     "data": {
      "application/vnd.plotly.v1+json": {
       "config": {
        "plotlyServerURL": "https://plot.ly"
       },
       "data": [
        {
         "hovertemplate": "x=%{x}<br>y=%{y}<extra></extra>",
         "legendgroup": "",
         "marker": {
          "color": "#636efa",
          "symbol": "circle"
         },
         "mode": "markers",
         "name": "",
         "orientation": "v",
         "showlegend": false,
         "type": "scatter",
         "x": [
          142.172150704,
          128.15650064,
          270.2922658360004,
          270.2922658360004,
          142.172150704,
          128.15650064,
          142.172150704,
          142.172150704,
          158.167065324,
          144.15141526,
          88.088815004,
          102.104465068,
          142.172150704,
          130.135765196,
          142.172150704,
          102.104465068,
          142.172150704,
          102.104465068,
          130.135765196,
          102.104465068,
          142.172150704,
          142.172150704,
          128.15650064,
          60.057514876,
          128.15650064,
          128.15650064,
          128.15650064,
          102.104465068,
          130.135765196,
          214.22966558,
          116.120115132,
          116.120115132,
          128.15650064,
          142.172150704,
          128.15650064,
          186.198365452,
          128.15650064,
          116.120115132,
          144.15141526,
          298.32356596400115,
          142.172150704,
          116.120115132,
          128.15650064,
          128.15650064,
          102.104465068,
          130.135765196,
          46.041864812,
          116.120115132,
          128.15650064,
          116.120115132,
          158.167065324,
          142.172150704,
          270.2922658360004,
          88.088815004,
          128.15650064,
          142.172150704,
          130.135765196,
          144.15141526,
          130.135765196,
          186.198365452,
          128.15650064,
          130.135765196,
          128.15650064,
          88.088815004,
          130.135765196,
          142.172150704,
          142.172150704,
          142.172150704,
          88.088815004,
          102.104465068,
          128.15650064,
          88.088815004,
          102.104465068,
          130.135765196,
          128.15650064,
          142.172150704,
          88.088815004,
          142.172150704,
          142.172150704,
          142.172150704,
          144.15141526,
          270.2922658360004,
          128.15650064,
          144.15141526,
          142.172150704,
          158.167065324,
          142.172150704,
          128.15650064,
          142.172150704,
          130.135765196,
          158.167065324,
          128.15650064,
          144.15141526,
          128.15650064,
          142.172150704,
          298.32356596400115,
          128.15650064,
          130.135765196,
          142.172150704,
          158.167065324,
          158.167065324
         ],
         "xaxis": "x",
         "y": [
          153,
          140.1,
          141,
          151.5,
          168,
          138,
          148.2,
          174,
          187,
          165.5,
          63.6,
          86.3,
          158,
          125,
          166.05,
          82,
          153,
          92.3,
          106,
          90.1,
          159.29,
          159,
          136.73,
          10.8,
          131.3,
          126.5,
          126.5,
          80.2,
          151,
          90,
          91.5,
          102.5,
          150.77,
          169.44,
          143,
          91.5,
          139,
          117.1,
          139,
          188.5,
          164,
          99.3,
          133.5,
          141.6,
          99.5,
          125,
          -23.7,
          112,
          135.2,
          87.6,
          186.5,
          152.8,
          159.5,
          52.5,
          122.7,
          170.5,
          112,
          153.5,
          130.5,
          93,
          124,
          132,
          133.8,
          59.5,
          128.5,
          158,
          147,
          164.59,
          55.2,
          82,
          143.3,
          70.3,
          69,
          121,
          137.3,
          160.1,
          59,
          147.7,
          170,
          162.2,
          155.5,
          162,
          136,
          157,
          148.2,
          173,
          148,
          140.5,
          155.3,
          114.5,
          162,
          142.4,
          163,
          142.8,
          164,
          156.5,
          146.2,
          142,
          155.68,
          173.2,
          174
         ],
         "yaxis": "y"
        },
        {
         "hovertemplate": "<b>Expanding max trendline</b><br><br>x=%{x}<br>y=%{y} <b>(trend)</b><extra></extra>",
         "legendgroup": "Overall Trendline",
         "line": {
          "color": "black"
         },
         "mode": "lines",
         "name": "Overall Trendline",
         "showlegend": true,
         "type": "scatter",
         "x": [
          46.041864812,
          60.057514876,
          88.088815004,
          88.088815004,
          88.088815004,
          88.088815004,
          88.088815004,
          88.088815004,
          102.104465068,
          102.104465068,
          102.104465068,
          102.104465068,
          102.104465068,
          102.104465068,
          102.104465068,
          102.104465068,
          116.120115132,
          116.120115132,
          116.120115132,
          116.120115132,
          116.120115132,
          116.120115132,
          128.15650064,
          128.15650064,
          128.15650064,
          128.15650064,
          128.15650064,
          128.15650064,
          128.15650064,
          128.15650064,
          128.15650064,
          128.15650064,
          128.15650064,
          128.15650064,
          128.15650064,
          128.15650064,
          128.15650064,
          128.15650064,
          128.15650064,
          128.15650064,
          128.15650064,
          128.15650064,
          128.15650064,
          128.15650064,
          130.135765196,
          130.135765196,
          130.135765196,
          130.135765196,
          130.135765196,
          130.135765196,
          130.135765196,
          130.135765196,
          130.135765196,
          130.135765196,
          130.135765196,
          142.172150704,
          142.172150704,
          142.172150704,
          142.172150704,
          142.172150704,
          142.172150704,
          142.172150704,
          142.172150704,
          142.172150704,
          142.172150704,
          142.172150704,
          142.172150704,
          142.172150704,
          142.172150704,
          142.172150704,
          142.172150704,
          142.172150704,
          142.172150704,
          142.172150704,
          142.172150704,
          142.172150704,
          142.172150704,
          142.172150704,
          142.172150704,
          142.172150704,
          144.15141526,
          144.15141526,
          144.15141526,
          144.15141526,
          144.15141526,
          144.15141526,
          158.167065324,
          158.167065324,
          158.167065324,
          158.167065324,
          158.167065324,
          158.167065324,
          186.198365452,
          186.198365452,
          214.22966558,
          270.2922658360004,
          270.2922658360004,
          270.2922658360004,
          270.2922658360004,
          298.32356596400115,
          298.32356596400115
         ],
         "xaxis": "x",
         "y": [
          -23.7,
          10.8,
          59,
          70.3,
          70.3,
          70.3,
          70.3,
          70.3,
          82,
          90.1,
          90.1,
          90.1,
          90.1,
          92.3,
          92.3,
          99.5,
          99.5,
          112,
          117.1,
          117.1,
          117.1,
          117.1,
          136.73,
          136.73,
          136.73,
          140.1,
          142.4,
          142.4,
          142.4,
          142.4,
          142.4,
          146.2,
          146.2,
          146.2,
          146.2,
          146.2,
          146.2,
          146.2,
          146.2,
          146.2,
          146.2,
          146.2,
          150.77,
          150.77,
          150.77,
          150.77,
          150.77,
          150.77,
          151,
          151,
          151,
          151,
          151,
          151,
          151,
          151,
          151,
          164.59,
          164.59,
          164.59,
          164.59,
          170,
          170,
          170,
          170,
          170.5,
          170.5,
          170.5,
          170.5,
          174,
          174,
          174,
          174,
          174,
          174,
          174,
          174,
          174,
          174,
          174,
          174,
          174,
          174,
          174,
          174,
          174,
          174,
          186.5,
          186.5,
          187,
          187,
          187,
          187,
          187,
          187,
          187,
          187,
          187,
          187,
          188.5,
          188.5
         ],
         "yaxis": "y"
        },
        {
         "mode": "markers",
         "name": "validation",
         "type": "scatter",
         "x": [
          142.172150704,
          130.135765196,
          116.120115132,
          142.172150704,
          74.07316494,
          144.15141526,
          116.120115132,
          74.07316494,
          116.120115132,
          142.172150704,
          142.172150704,
          128.15650064
         ],
         "y": [
          137.46,
          122,
          101,
          169,
          34.6,
          159.5,
          118,
          32,
          107,
          158,
          154.9,
          135.2
         ]
        },
        {
         "mode": "markers",
         "name": "testing",
         "type": "scatter",
         "x": [
          142.172150704,
          128.15650064,
          128.15650064,
          128.15650064,
          142.172150704,
          116.120115132,
          158.167065324,
          128.15650064,
          142.172150704,
          102.104465068,
          128.15650064,
          144.15141526,
          142.172150704,
          116.120115132
         ],
         "y": [
          153.3,
          140.6,
          136,
          140.4,
          155,
          125,
          186.8,
          132.7,
          165,
          91.2,
          141.2,
          173,
          148.4,
          97.4
         ]
        }
       ],
       "layout": {
        "height": 800,
        "legend": {
         "orientation": "h",
         "tracegroupgap": 0,
         "x": 0.5,
         "xanchor": "center",
         "y": 1.02,
         "yanchor": "bottom"
        },
        "margin": {
         "t": 60
        },
        "paper_bgcolor": "rgba(0, 0, 0, 0)",
        "plot_bgcolor": "rgba(0, 0, 0, 0)",
        "template": {
         "data": {
          "bar": [
           {
            "error_x": {
             "color": "#2a3f5f"
            },
            "error_y": {
             "color": "#2a3f5f"
            },
            "marker": {
             "line": {
              "color": "#E5ECF6",
              "width": 0.5
             },
             "pattern": {
              "fillmode": "overlay",
              "size": 10,
              "solidity": 0.2
             }
            },
            "type": "bar"
           }
          ],
          "barpolar": [
           {
            "marker": {
             "line": {
              "color": "#E5ECF6",
              "width": 0.5
             },
             "pattern": {
              "fillmode": "overlay",
              "size": 10,
              "solidity": 0.2
             }
            },
            "type": "barpolar"
           }
          ],
          "carpet": [
           {
            "aaxis": {
             "endlinecolor": "#2a3f5f",
             "gridcolor": "white",
             "linecolor": "white",
             "minorgridcolor": "white",
             "startlinecolor": "#2a3f5f"
            },
            "baxis": {
             "endlinecolor": "#2a3f5f",
             "gridcolor": "white",
             "linecolor": "white",
             "minorgridcolor": "white",
             "startlinecolor": "#2a3f5f"
            },
            "type": "carpet"
           }
          ],
          "choropleth": [
           {
            "colorbar": {
             "outlinewidth": 0,
             "ticks": ""
            },
            "type": "choropleth"
           }
          ],
          "contour": [
           {
            "colorbar": {
             "outlinewidth": 0,
             "ticks": ""
            },
            "colorscale": [
             [
              0,
              "#0d0887"
             ],
             [
              0.1111111111111111,
              "#46039f"
             ],
             [
              0.2222222222222222,
              "#7201a8"
             ],
             [
              0.3333333333333333,
              "#9c179e"
             ],
             [
              0.4444444444444444,
              "#bd3786"
             ],
             [
              0.5555555555555556,
              "#d8576b"
             ],
             [
              0.6666666666666666,
              "#ed7953"
             ],
             [
              0.7777777777777778,
              "#fb9f3a"
             ],
             [
              0.8888888888888888,
              "#fdca26"
             ],
             [
              1,
              "#f0f921"
             ]
            ],
            "type": "contour"
           }
          ],
          "contourcarpet": [
           {
            "colorbar": {
             "outlinewidth": 0,
             "ticks": ""
            },
            "type": "contourcarpet"
           }
          ],
          "heatmap": [
           {
            "colorbar": {
             "outlinewidth": 0,
             "ticks": ""
            },
            "colorscale": [
             [
              0,
              "#0d0887"
             ],
             [
              0.1111111111111111,
              "#46039f"
             ],
             [
              0.2222222222222222,
              "#7201a8"
             ],
             [
              0.3333333333333333,
              "#9c179e"
             ],
             [
              0.4444444444444444,
              "#bd3786"
             ],
             [
              0.5555555555555556,
              "#d8576b"
             ],
             [
              0.6666666666666666,
              "#ed7953"
             ],
             [
              0.7777777777777778,
              "#fb9f3a"
             ],
             [
              0.8888888888888888,
              "#fdca26"
             ],
             [
              1,
              "#f0f921"
             ]
            ],
            "type": "heatmap"
           }
          ],
          "heatmapgl": [
           {
            "colorbar": {
             "outlinewidth": 0,
             "ticks": ""
            },
            "colorscale": [
             [
              0,
              "#0d0887"
             ],
             [
              0.1111111111111111,
              "#46039f"
             ],
             [
              0.2222222222222222,
              "#7201a8"
             ],
             [
              0.3333333333333333,
              "#9c179e"
             ],
             [
              0.4444444444444444,
              "#bd3786"
             ],
             [
              0.5555555555555556,
              "#d8576b"
             ],
             [
              0.6666666666666666,
              "#ed7953"
             ],
             [
              0.7777777777777778,
              "#fb9f3a"
             ],
             [
              0.8888888888888888,
              "#fdca26"
             ],
             [
              1,
              "#f0f921"
             ]
            ],
            "type": "heatmapgl"
           }
          ],
          "histogram": [
           {
            "marker": {
             "pattern": {
              "fillmode": "overlay",
              "size": 10,
              "solidity": 0.2
             }
            },
            "type": "histogram"
           }
          ],
          "histogram2d": [
           {
            "colorbar": {
             "outlinewidth": 0,
             "ticks": ""
            },
            "colorscale": [
             [
              0,
              "#0d0887"
             ],
             [
              0.1111111111111111,
              "#46039f"
             ],
             [
              0.2222222222222222,
              "#7201a8"
             ],
             [
              0.3333333333333333,
              "#9c179e"
             ],
             [
              0.4444444444444444,
              "#bd3786"
             ],
             [
              0.5555555555555556,
              "#d8576b"
             ],
             [
              0.6666666666666666,
              "#ed7953"
             ],
             [
              0.7777777777777778,
              "#fb9f3a"
             ],
             [
              0.8888888888888888,
              "#fdca26"
             ],
             [
              1,
              "#f0f921"
             ]
            ],
            "type": "histogram2d"
           }
          ],
          "histogram2dcontour": [
           {
            "colorbar": {
             "outlinewidth": 0,
             "ticks": ""
            },
            "colorscale": [
             [
              0,
              "#0d0887"
             ],
             [
              0.1111111111111111,
              "#46039f"
             ],
             [
              0.2222222222222222,
              "#7201a8"
             ],
             [
              0.3333333333333333,
              "#9c179e"
             ],
             [
              0.4444444444444444,
              "#bd3786"
             ],
             [
              0.5555555555555556,
              "#d8576b"
             ],
             [
              0.6666666666666666,
              "#ed7953"
             ],
             [
              0.7777777777777778,
              "#fb9f3a"
             ],
             [
              0.8888888888888888,
              "#fdca26"
             ],
             [
              1,
              "#f0f921"
             ]
            ],
            "type": "histogram2dcontour"
           }
          ],
          "mesh3d": [
           {
            "colorbar": {
             "outlinewidth": 0,
             "ticks": ""
            },
            "type": "mesh3d"
           }
          ],
          "parcoords": [
           {
            "line": {
             "colorbar": {
              "outlinewidth": 0,
              "ticks": ""
             }
            },
            "type": "parcoords"
           }
          ],
          "pie": [
           {
            "automargin": true,
            "type": "pie"
           }
          ],
          "scatter": [
           {
            "fillpattern": {
             "fillmode": "overlay",
             "size": 10,
             "solidity": 0.2
            },
            "type": "scatter"
           }
          ],
          "scatter3d": [
           {
            "line": {
             "colorbar": {
              "outlinewidth": 0,
              "ticks": ""
             }
            },
            "marker": {
             "colorbar": {
              "outlinewidth": 0,
              "ticks": ""
             }
            },
            "type": "scatter3d"
           }
          ],
          "scattercarpet": [
           {
            "marker": {
             "colorbar": {
              "outlinewidth": 0,
              "ticks": ""
             }
            },
            "type": "scattercarpet"
           }
          ],
          "scattergeo": [
           {
            "marker": {
             "colorbar": {
              "outlinewidth": 0,
              "ticks": ""
             }
            },
            "type": "scattergeo"
           }
          ],
          "scattergl": [
           {
            "marker": {
             "colorbar": {
              "outlinewidth": 0,
              "ticks": ""
             }
            },
            "type": "scattergl"
           }
          ],
          "scattermapbox": [
           {
            "marker": {
             "colorbar": {
              "outlinewidth": 0,
              "ticks": ""
             }
            },
            "type": "scattermapbox"
           }
          ],
          "scatterpolar": [
           {
            "marker": {
             "colorbar": {
              "outlinewidth": 0,
              "ticks": ""
             }
            },
            "type": "scatterpolar"
           }
          ],
          "scatterpolargl": [
           {
            "marker": {
             "colorbar": {
              "outlinewidth": 0,
              "ticks": ""
             }
            },
            "type": "scatterpolargl"
           }
          ],
          "scatterternary": [
           {
            "marker": {
             "colorbar": {
              "outlinewidth": 0,
              "ticks": ""
             }
            },
            "type": "scatterternary"
           }
          ],
          "surface": [
           {
            "colorbar": {
             "outlinewidth": 0,
             "ticks": ""
            },
            "colorscale": [
             [
              0,
              "#0d0887"
             ],
             [
              0.1111111111111111,
              "#46039f"
             ],
             [
              0.2222222222222222,
              "#7201a8"
             ],
             [
              0.3333333333333333,
              "#9c179e"
             ],
             [
              0.4444444444444444,
              "#bd3786"
             ],
             [
              0.5555555555555556,
              "#d8576b"
             ],
             [
              0.6666666666666666,
              "#ed7953"
             ],
             [
              0.7777777777777778,
              "#fb9f3a"
             ],
             [
              0.8888888888888888,
              "#fdca26"
             ],
             [
              1,
              "#f0f921"
             ]
            ],
            "type": "surface"
           }
          ],
          "table": [
           {
            "cells": {
             "fill": {
              "color": "#EBF0F8"
             },
             "line": {
              "color": "white"
             }
            },
            "header": {
             "fill": {
              "color": "#C8D4E3"
             },
             "line": {
              "color": "white"
             }
            },
            "type": "table"
           }
          ]
         },
         "layout": {
          "annotationdefaults": {
           "arrowcolor": "#2a3f5f",
           "arrowhead": 0,
           "arrowwidth": 1
          },
          "autotypenumbers": "strict",
          "coloraxis": {
           "colorbar": {
            "outlinewidth": 0,
            "ticks": ""
           }
          },
          "colorscale": {
           "diverging": [
            [
             0,
             "#8e0152"
            ],
            [
             0.1,
             "#c51b7d"
            ],
            [
             0.2,
             "#de77ae"
            ],
            [
             0.3,
             "#f1b6da"
            ],
            [
             0.4,
             "#fde0ef"
            ],
            [
             0.5,
             "#f7f7f7"
            ],
            [
             0.6,
             "#e6f5d0"
            ],
            [
             0.7,
             "#b8e186"
            ],
            [
             0.8,
             "#7fbc41"
            ],
            [
             0.9,
             "#4d9221"
            ],
            [
             1,
             "#276419"
            ]
           ],
           "sequential": [
            [
             0,
             "#0d0887"
            ],
            [
             0.1111111111111111,
             "#46039f"
            ],
            [
             0.2222222222222222,
             "#7201a8"
            ],
            [
             0.3333333333333333,
             "#9c179e"
            ],
            [
             0.4444444444444444,
             "#bd3786"
            ],
            [
             0.5555555555555556,
             "#d8576b"
            ],
            [
             0.6666666666666666,
             "#ed7953"
            ],
            [
             0.7777777777777778,
             "#fb9f3a"
            ],
            [
             0.8888888888888888,
             "#fdca26"
            ],
            [
             1,
             "#f0f921"
            ]
           ],
           "sequentialminus": [
            [
             0,
             "#0d0887"
            ],
            [
             0.1111111111111111,
             "#46039f"
            ],
            [
             0.2222222222222222,
             "#7201a8"
            ],
            [
             0.3333333333333333,
             "#9c179e"
            ],
            [
             0.4444444444444444,
             "#bd3786"
            ],
            [
             0.5555555555555556,
             "#d8576b"
            ],
            [
             0.6666666666666666,
             "#ed7953"
            ],
            [
             0.7777777777777778,
             "#fb9f3a"
            ],
            [
             0.8888888888888888,
             "#fdca26"
            ],
            [
             1,
             "#f0f921"
            ]
           ]
          },
          "colorway": [
           "#636efa",
           "#EF553B",
           "#00cc96",
           "#ab63fa",
           "#FFA15A",
           "#19d3f3",
           "#FF6692",
           "#B6E880",
           "#FF97FF",
           "#FECB52"
          ],
          "font": {
           "color": "#2a3f5f"
          },
          "geo": {
           "bgcolor": "white",
           "lakecolor": "white",
           "landcolor": "#E5ECF6",
           "showlakes": true,
           "showland": true,
           "subunitcolor": "white"
          },
          "hoverlabel": {
           "align": "left"
          },
          "hovermode": "closest",
          "mapbox": {
           "style": "light"
          },
          "paper_bgcolor": "white",
          "plot_bgcolor": "#E5ECF6",
          "polar": {
           "angularaxis": {
            "gridcolor": "white",
            "linecolor": "white",
            "ticks": ""
           },
           "bgcolor": "#E5ECF6",
           "radialaxis": {
            "gridcolor": "white",
            "linecolor": "white",
            "ticks": ""
           }
          },
          "scene": {
           "xaxis": {
            "backgroundcolor": "#E5ECF6",
            "gridcolor": "white",
            "gridwidth": 2,
            "linecolor": "white",
            "showbackground": true,
            "ticks": "",
            "zerolinecolor": "white"
           },
           "yaxis": {
            "backgroundcolor": "#E5ECF6",
            "gridcolor": "white",
            "gridwidth": 2,
            "linecolor": "white",
            "showbackground": true,
            "ticks": "",
            "zerolinecolor": "white"
           },
           "zaxis": {
            "backgroundcolor": "#E5ECF6",
            "gridcolor": "white",
            "gridwidth": 2,
            "linecolor": "white",
            "showbackground": true,
            "ticks": "",
            "zerolinecolor": "white"
           }
          },
          "shapedefaults": {
           "line": {
            "color": "#2a3f5f"
           }
          },
          "ternary": {
           "aaxis": {
            "gridcolor": "white",
            "linecolor": "white",
            "ticks": ""
           },
           "baxis": {
            "gridcolor": "white",
            "linecolor": "white",
            "ticks": ""
           },
           "bgcolor": "#E5ECF6",
           "caxis": {
            "gridcolor": "white",
            "linecolor": "white",
            "ticks": ""
           }
          },
          "title": {
           "x": 0.05
          },
          "xaxis": {
           "automargin": true,
           "gridcolor": "white",
           "linecolor": "white",
           "ticks": "",
           "title": {
            "standoff": 15
           },
           "zerolinecolor": "white",
           "zerolinewidth": 2
          },
          "yaxis": {
           "automargin": true,
           "gridcolor": "white",
           "linecolor": "white",
           "ticks": "",
           "title": {
            "standoff": 15
           },
           "zerolinecolor": "white",
           "zerolinewidth": 2
          }
         }
        },
        "width": 800,
        "xaxis": {
         "anchor": "y",
         "domain": [
          0,
          1
         ],
         "gridcolor": "grey",
         "gridwidth": 1,
         "linecolor": "grey",
         "linewidth": 2,
         "showgrid": true,
         "showline": true,
         "title": {
          "text": "Molecular Weight"
         },
         "zerolinecolor": "grey",
         "zerolinewidth": 1
        },
        "yaxis": {
         "anchor": "x",
         "domain": [
          0,
          1
         ],
         "gridcolor": "grey",
         "gridwidth": 1,
         "linecolor": "grey",
         "linewidth": 2,
         "showgrid": true,
         "showline": true,
         "title": {
          "text": "Boiling Point (°C)"
         },
         "zerolinecolor": "grey",
         "zerolinewidth": 1
        }
       }
      }
     },
     "metadata": {},
     "output_type": "display_data"
    }
   ],
   "source": [
    "import plotly.graph_objects as go\n",
    "import plotly.express as px\n",
    "\n",
    "\n",
    "fig = px.scatter(x=molecules_train, y=data[\"boiling_point\"].to_numpy()[random_idxs_train], trendline=\"expanding\", trendline_options=dict(function=\"max\"),trendline_scope=\"overall\", trendline_color_override=\"black\")\n",
    "fig.add_trace(go.Scatter(x=molecules_val, y=data[\"boiling_point\"].to_numpy()[random_idxs_val],\n",
    "                    mode='markers',\n",
    "                    name='validation'))\n",
    "fig.add_trace(go.Scatter(x=molecules_test, y=data[\"boiling_point\"].to_numpy()[random_idxs_test],\n",
    "                    mode='markers',\n",
    "                    name='testing'))\n",
    "fig.update_layout(\n",
    "    dict(\n",
    "        plot_bgcolor=\"rgba(0, 0, 0, 0)\",\n",
    "        paper_bgcolor=\"rgba(0, 0, 0, 0)\",\n",
    "        height=800,\n",
    "        width=800,\n",
    "    ),\n",
    "    legend=dict(\n",
    "        orientation=\"h\",\n",
    "        yanchor=\"bottom\",\n",
    "        y=1.02,\n",
    "        xanchor=\"center\",\n",
    "        x=0.5,\n",
    "    ),\n",
    ")\n",
    "ax_args = dict(\n",
    "    showline=True, linewidth=2, linecolor='grey', gridwidth=1, showgrid=True, gridcolor=\"grey\", zerolinecolor=\"grey\", zerolinewidth=1\n",
    ")\n",
    "fig.update_xaxes(title=\"Molecular Weight\", **ax_args)\n",
    "fig.update_yaxes(title=\"Boiling Point (°C)\", **ax_args)\n",
    "# import warnings, molplotly\n",
    "# with warnings.catch_warnings():\n",
    "#     warnings.simplefilter(\"ignore\", category=FutureWarning)\n",
    "#     app = molplotly.add_molecules(\n",
    "#         fig=fig,\n",
    "#         df=split_df,\n",
    "#         show_coords=False,\n",
    "#         color_col=\"split\",\n",
    "#         caption_cols=[\"Boiling Point (°C)\"],\n",
    "#         title_col=\"iupac_name\",\n",
    "#     )\n",
    "fig.show()"
   ]
  },
  {
   "cell_type": "code",
   "execution_count": 5,
   "id": "70aa663e",
   "metadata": {},
   "outputs": [],
   "source": [
    "import plotly.express as px\n",
    "import molplotly\n",
    "import warnings\n",
    "\n",
    "\n",
    "def scatterplot(idxs_train, idxs_val, idxs_test, plot_port):\n",
    "    split_membership = np.empty(len(data), dtype=object)\n",
    "    split_membership[idxs_val] = \"val\"\n",
    "    split_membership[idxs_train] = \"train\"\n",
    "    split_membership[idxs_test] = \"test\"\n",
    "    all_indxs = np.hstack(\n",
    "        (\n",
    "            idxs_train,\n",
    "            idxs_val,\n",
    "            idxs_test,\n",
    "        )\n",
    "    )\n",
    "    split_df = pd.DataFrame.from_dict(\n",
    "        {\n",
    "            \"MW\": molecules_MW[all_indxs],\n",
    "            \"SMILES\": data[\"smiles\"].to_numpy()[all_indxs],\n",
    "            \"Boiling Point (°C)\": data[\"boiling_point\"].to_numpy()[all_indxs],\n",
    "            \"split\": split_membership,\n",
    "            \"iupac_name\": data[\"iupac_name\"].to_numpy()[all_indxs],\n",
    "        }\n",
    "    )\n",
    "    fig = px.scatter_3d(\n",
    "        data_frame=split_df,\n",
    "        x=\"PC1\",\n",
    "        y=\"PC2\",\n",
    "        z=\"Boiling Point (°C)\",\n",
    "        opacity=0.8,\n",
    "        color=\"split\",\n",
    "        width=1000,\n",
    "        height=1000,\n",
    "    )\n",
    "    fig.update_traces(\n",
    "        marker=dict(size=4),\n",
    "        selector=dict(mode=\"markers\"),\n",
    "        hovertemplate=None,  # moltplotly break without this\n",
    "    )\n",
    "    axis_args = dict(\n",
    "        backgroundcolor=\"rgba(0, 0, 0,0)\",\n",
    "        gridcolor=\"grey\",\n",
    "        showbackground=True,\n",
    "        zerolinecolor=\"grey\",\n",
    "        showticklabels=True,\n",
    "    )\n",
    "    fig.update_layout(\n",
    "        dict(\n",
    "            plot_bgcolor=\"rgba(0, 0, 0, 0)\",\n",
    "            paper_bgcolor=\"rgba(0, 0, 0, 0)\",\n",
    "        ),\n",
    "        scene=dict(\n",
    "            xaxis=axis_args,\n",
    "            yaxis=axis_args,\n",
    "            zaxis=axis_args,\n",
    "            xaxis_title=\"PC1\",\n",
    "            yaxis_title=\"PC2\",\n",
    "            zaxis_title=\"Boiling Point (°C)\",\n",
    "        ),\n",
    "        legend=dict(\n",
    "            orientation=\"h\",\n",
    "            yanchor=\"bottom\",\n",
    "            y=1.02,\n",
    "            xanchor=\"center\",\n",
    "            x=0.5,\n",
    "        ),\n",
    "    )\n",
    "    consistent_colors = {\"train\": \"grey\", \"val\": \"red\", \"test\": \"blue\"}\n",
    "    for i, d in enumerate(fig.data):\n",
    "        fig.data[i].marker.color = consistent_colors[fig.data[i].name]\n",
    "    with warnings.catch_warnings():\n",
    "        warnings.simplefilter(\"ignore\", category=FutureWarning)\n",
    "        app = molplotly.add_molecules(\n",
    "            fig=fig,\n",
    "            df=split_df,\n",
    "            show_coords=False,\n",
    "            color_col=\"split\",\n",
    "            caption_cols=[\"Boiling Point (°C)\"],\n",
    "            title_col=\"iupac_name\",\n",
    "        )\n",
    "    app.run_server(mode=\"inline\", port=plot_port, height=1000, width=1000)"
   ]
  },
  {
   "cell_type": "code",
   "execution_count": 6,
   "id": "245cb1d4",
   "metadata": {},
   "outputs": [
    {
     "name": "stdout",
     "output_type": "stream",
     "text": [
      "Dash is running on http://127.0.0.1:8700/\n",
      "\n"
     ]
    },
    {
     "data": {
      "text/html": [
       "\n",
       "        <iframe\n",
       "            width=\"1000\"\n",
       "            height=\"1000\"\n",
       "            src=\"http://127.0.0.1:8700/\"\n",
       "            frameborder=\"0\"\n",
       "            allowfullscreen\n",
       "            \n",
       "        ></iframe>\n",
       "        "
      ],
      "text/plain": [
       "<IPython.lib.display.IFrame at 0x7ff8abc7be10>"
      ]
     },
     "metadata": {},
     "output_type": "display_data"
    }
   ],
   "source": [
    "scatter3d(random_idxs_train, random_idxs_val, random_idxs_test, 8700)\n"
   ]
  },
  {
   "attachments": {},
   "cell_type": "markdown",
   "id": "4c8fa0ea",
   "metadata": {},
   "source": [
    "This embedding clusters the data into heavy alkanes with quaternary carbons, heavy alkanes with sub-quaternary carbons, light linear alkanes, and gases.\n",
    "\n",
    "Dataset partitioning is done with the entire fingerprint, this project is just for our understanding."
   ]
  },
  {
   "cell_type": "code",
   "execution_count": 7,
   "id": "1cba5218",
   "metadata": {},
   "outputs": [
    {
     "name": "stdout",
     "output_type": "stream",
     "text": [
      "Dash is running on http://127.0.0.1:8701/\n",
      "\n"
     ]
    },
    {
     "name": "stderr",
     "output_type": "stream",
     "text": [
      "/home/jackson/astartes/astartes/astartes/main.py:357: ImperfectSplittingWarning:\n",
      "\n",
      "Actual train/test split differs from requested size. Requested validation size of 0.10, got 0.11. Requested test size of 0.10, got 0.11. \n",
      "\n"
     ]
    },
    {
     "data": {
      "text/html": [
       "\n",
       "        <iframe\n",
       "            width=\"1000\"\n",
       "            height=\"1000\"\n",
       "            src=\"http://127.0.0.1:8701/\"\n",
       "            frameborder=\"0\"\n",
       "            allowfullscreen\n",
       "            \n",
       "        ></iframe>\n",
       "        "
      ],
      "text/plain": [
       "<IPython.lib.display.IFrame at 0x7ff8a85c2190>"
      ]
     },
     "metadata": {},
     "output_type": "display_data"
    }
   ],
   "source": [
    "from astartes import train_val_test_split\n",
    "embedding_split_args = dict(\n",
    "    train_size=0.8,\n",
    "    test_size=0.1,\n",
    "    val_size=0.1,\n",
    "    return_indices=True,\n",
    ")\n",
    "\n",
    "(\n",
    "    _,\n",
    "    _,\n",
    "    _,\n",
    "    ks_idxs_train,\n",
    "    ks_idxs_val,\n",
    "    ks_idxs_test,\n",
    ") = train_val_test_split(\n",
    "    embedding,\n",
    "    sampler=\"kennard_stone\",\n",
    "    hopts=dict(\n",
    "        metric=\"euclidean\",\n",
    "    ),\n",
    "    **embedding_split_args,\n",
    ")\n",
    "scatter3d(ks_idxs_train, ks_idxs_val, ks_idxs_test, 8701)"
   ]
  },
  {
   "cell_type": "code",
   "execution_count": 8,
   "id": "9606b707",
   "metadata": {},
   "outputs": [
    {
     "name": "stderr",
     "output_type": "stream",
     "text": [
      "/home/jackson/astartes/astartes/astartes/main.py:357: ImperfectSplittingWarning:\n",
      "\n",
      "Actual train/test split differs from requested size. Requested validation size of 0.10, got 0.11. Requested test size of 0.10, got 0.11. \n",
      "\n"
     ]
    },
    {
     "name": "stdout",
     "output_type": "stream",
     "text": [
      "Dash is running on http://127.0.0.1:8702/\n",
      "\n"
     ]
    },
    {
     "data": {
      "text/html": [
       "\n",
       "        <iframe\n",
       "            width=\"1000\"\n",
       "            height=\"1000\"\n",
       "            src=\"http://127.0.0.1:8702/\"\n",
       "            frameborder=\"0\"\n",
       "            allowfullscreen\n",
       "            \n",
       "        ></iframe>\n",
       "        "
      ],
      "text/plain": [
       "<IPython.lib.display.IFrame at 0x7ff8a8600490>"
      ]
     },
     "metadata": {},
     "output_type": "display_data"
    }
   ],
   "source": [
    "(\n",
    "    _,\n",
    "    _,\n",
    "    _,\n",
    "    _,\n",
    "    _,\n",
    "    _,\n",
    "    spxy_idxs_train,\n",
    "    spxy_idxs_val,\n",
    "    spxy_idxs_test,\n",
    ") = train_val_test_split(\n",
    "    embedding,\n",
    "    data[\"boiling_point\"].to_numpy(),\n",
    "    sampler=\"spxy\",\n",
    "    hopts=dict(\n",
    "        metric=\"euclidean\",\n",
    "    ),\n",
    "    **embedding_split_args,\n",
    ")\n",
    "scatter3d(spxy_idxs_train, spxy_idxs_val, spxy_idxs_test, 8702)"
   ]
  },
  {
   "cell_type": "code",
   "execution_count": 11,
   "id": "47fd6e7f",
   "metadata": {},
   "outputs": [
    {
     "name": "stdout",
     "output_type": "stream",
     "text": [
      "Dash is running on http://127.0.0.1:8703/\n",
      "\n"
     ]
    },
    {
     "name": "stderr",
     "output_type": "stream",
     "text": [
      "/home/jackson/astartes/astartes/astartes/main.py:357: ImperfectSplittingWarning:\n",
      "\n",
      "Actual train/test split differs from requested size. Requested train size of 0.80, got 0.81. Requested validation size of 0.10, got 0.09. Requested test size of 0.10, got 0.09. \n",
      "\n"
     ]
    },
    {
     "data": {
      "text/html": [
       "\n",
       "        <iframe\n",
       "            width=\"1000\"\n",
       "            height=\"1000\"\n",
       "            src=\"http://127.0.0.1:8703/\"\n",
       "            frameborder=\"0\"\n",
       "            allowfullscreen\n",
       "            \n",
       "        ></iframe>\n",
       "        "
      ],
      "text/plain": [
       "<IPython.lib.display.IFrame at 0x7ff8a92bc2d0>"
      ]
     },
     "metadata": {},
     "output_type": "display_data"
    }
   ],
   "source": [
    "(\n",
    "    _,\n",
    "    _,\n",
    "    _,\n",
    "    clsuters_train,\n",
    "    clusters_val,\n",
    "    clusters_test,\n",
    "    spex_idxs_train,\n",
    "    spex_idxs_val,\n",
    "    spex_idxs_test,\n",
    ") = train_val_test_split(\n",
    "    embedding,\n",
    "    sampler=\"sphere_exclusion\",\n",
    "    hopts=dict(\n",
    "        # n_clusters=15,\n",
    "        metric=\"euclidean\",\n",
    "        distance_cutoff=0.1,\n",
    "    ),\n",
    "    random_state=122,\n",
    "    **embedding_split_args,\n",
    ")\n",
    "scatter3d(spex_idxs_train, spex_idxs_val, spex_idxs_test, 8703)"
   ]
  }
 ],
 "metadata": {
  "kernelspec": {
   "display_name": "Python 3 (ipykernel)",
   "language": "python",
   "name": "python3"
  },
  "language_info": {
   "codemirror_mode": {
    "name": "ipython",
    "version": 3
   },
   "file_extension": ".py",
   "mimetype": "text/x-python",
   "name": "python",
   "nbconvert_exporter": "python",
   "pygments_lexer": "ipython3",
   "version": "3.8.11"
  }
 },
 "nbformat": 4,
 "nbformat_minor": 5
}
